{
 "cells": [
  {
   "cell_type": "markdown",
   "metadata": {},
   "source": [
    "<font size=4> Добрый день, Михаил! Меня зовут Алан Созанов, будем обмениваться с тобой опытом для успешного прохождения задания! Если не против, предлагаю общаться на ты (иначе дай знать, и перейдем на «вы»). Свои рекомендации буду оформлять в виде комментариев в Markdown ячейках:<br><strong>\n",
    "    <li> <font color='red'> «красный цвет» </font> – важно исправить или внести пояснения\n",
    "    <li> <font color='orange'> «желтый цвет» </font>  – учесть, но можно не исправлять \n",
    "    <li> <font color='green'> «зеленый цвет» </font> – все отлично, плюс альтернативные пути решения задачи\n",
    "        </strong>\n",
    "<br> Прошу при внесении правок мои комментарии не удалять, а свои писать в соседних ячейках и выделять удобным цветом. Так коммуникация будет проходить эффективнее 👍.<br>\n",
    "</font>"
   ]
  },
  {
   "cell_type": "markdown",
   "metadata": {
    "toc": true
   },
   "source": [
    "<h1>Содержание<span class=\"tocSkip\"></span></h1>\n",
    "<div class=\"toc\"><ul class=\"toc-item\"><li><span><a href=\"#Подготовка-данных\" data-toc-modified-id=\"Подготовка-данных-1\"><span class=\"toc-item-num\">1&nbsp;&nbsp;</span>Подготовка данных</a></span><ul class=\"toc-item\"><li><span><a href=\"#Импорт-библиотек\" data-toc-modified-id=\"Импорт-библиотек-1.1\"><span class=\"toc-item-num\">1.1&nbsp;&nbsp;</span>Импорт библиотек</a></span></li><li><span><a href=\"#Чтение-данных\" data-toc-modified-id=\"Чтение-данных-1.2\"><span class=\"toc-item-num\">1.2&nbsp;&nbsp;</span>Чтение данных</a></span></li><li><span><a href=\"#Сводка-по-данным\" data-toc-modified-id=\"Сводка-по-данным-1.3\"><span class=\"toc-item-num\">1.3&nbsp;&nbsp;</span>Сводка по данным</a></span></li><li><span><a href=\"#Анализ-и-удаление-выбросов\" data-toc-modified-id=\"Анализ-и-удаление-выбросов-1.4\"><span class=\"toc-item-num\">1.4&nbsp;&nbsp;</span>Анализ и удаление выбросов</a></span></li><li><span><a href=\"#Заполнение-пропусков\" data-toc-modified-id=\"Заполнение-пропусков-1.5\"><span class=\"toc-item-num\">1.5&nbsp;&nbsp;</span>Заполнение пропусков</a></span></li><li><span><a href=\"#Вывод\" data-toc-modified-id=\"Вывод-1.6\"><span class=\"toc-item-num\">1.6&nbsp;&nbsp;</span>Вывод</a></span></li></ul></li><li><span><a href=\"#Обучение-моделей\" data-toc-modified-id=\"Обучение-моделей-2\"><span class=\"toc-item-num\">2&nbsp;&nbsp;</span>Обучение моделей</a></span><ul class=\"toc-item\"><li><span><a href=\"#Подготовка-данных\" data-toc-modified-id=\"Подготовка-данных-2.1\"><span class=\"toc-item-num\">2.1&nbsp;&nbsp;</span>Подготовка данных</a></span></li><li><span><a href=\"#LinearRegression\" data-toc-modified-id=\"LinearRegression-2.2\"><span class=\"toc-item-num\">2.2&nbsp;&nbsp;</span>LinearRegression</a></span></li><li><span><a href=\"#DecisionTreeRegressor\" data-toc-modified-id=\"DecisionTreeRegressor-2.3\"><span class=\"toc-item-num\">2.3&nbsp;&nbsp;</span>DecisionTreeRegressor</a></span></li><li><span><a href=\"#LightGBM\" data-toc-modified-id=\"LightGBM-2.4\"><span class=\"toc-item-num\">2.4&nbsp;&nbsp;</span>LightGBM</a></span></li><li><span><a href=\"#CatBoostRegressor\" data-toc-modified-id=\"CatBoostRegressor-2.5\"><span class=\"toc-item-num\">2.5&nbsp;&nbsp;</span>CatBoostRegressor</a></span></li></ul></li><li><span><a href=\"#Анализ-моделей\" data-toc-modified-id=\"Анализ-моделей-3\"><span class=\"toc-item-num\">3&nbsp;&nbsp;</span>Анализ моделей</a></span><ul class=\"toc-item\"><li><span><a href=\"#Проверка-работы-лучшей-модели-на-тестовой-выборке\" data-toc-modified-id=\"Проверка-работы-лучшей-модели-на-тестовой-выборке-3.1\"><span class=\"toc-item-num\">3.1&nbsp;&nbsp;</span>Проверка работы лучшей модели на тестовой выборке</a></span></li><li><span><a href=\"#Выводы:\" data-toc-modified-id=\"Выводы:-3.2\"><span class=\"toc-item-num\">3.2&nbsp;&nbsp;</span>Выводы:</a></span></li></ul></li><li><span><a href=\"#Чек-лист-проверки\" data-toc-modified-id=\"Чек-лист-проверки-4\"><span class=\"toc-item-num\">4&nbsp;&nbsp;</span>Чек-лист проверки</a></span></li></ul></div>"
   ]
  },
  {
   "cell_type": "markdown",
   "metadata": {},
   "source": [
    "# Определение стоимости автомобилей"
   ]
  },
  {
   "cell_type": "markdown",
   "metadata": {},
   "source": [
    "Сервис по продаже автомобилей с пробегом «Не бит, не крашен» разрабатывает приложение для привлечения новых клиентов. В нём можно быстро узнать рыночную стоимость своего автомобиля. В вашем распоряжении исторические данные: технические характеристики, комплектации и цены автомобилей. Вам нужно построить модель для определения стоимости. \n",
    "\n",
    "**Заказчику важны:**\n",
    "\n",
    "- качество предсказания;\n",
    "- скорость предсказания;\n",
    "- время обучения.\n",
    "<br>\n",
    "<br>\n",
    "\n",
    "***Признаки:*** <br>\n",
    "\n",
    "- *DateCrawled — дата скачивания анкеты из базы*\n",
    "- *VehicleType — тип автомобильного кузова*\n",
    "- *RegistrationYear — год регистрации автомобиля*\n",
    "- *Gearbox — тип коробки передач*\n",
    "- *Power — мощность (л. с.)*\n",
    "- *Model — модель автомобиля*\n",
    "- *Kilometer — пробег (км)*\n",
    "- *RegistrationMonth — месяц регистрации автомобиля*\n",
    "- *FuelType — тип топлива*\n",
    "- *Brand — марка автомобиля*\n",
    "- *NotRepaired — была машина в ремонте или нет*\n",
    "- *DateCreated — дата создания анкеты*\n",
    "- *NumberOfPictures — количество фотографий автомобиля*\n",
    "- *PostalCode — почтовый индекс владельца анкеты (пользователя)*\n",
    "- *LastSeen — дата последней активности пользователя*\n",
    "<br> \n",
    "<br>\n",
    "\n",
    "\n",
    "***Целевой признак:*** <br>\n",
    "\n",
    "- *Price — цена (евро)*"
   ]
  },
  {
   "cell_type": "markdown",
   "metadata": {},
   "source": [
    "<div class='alert alert-success'> ✔️Хорошо, что сформулировал описание проекта, это помогает не забыть цели и особенности задачи.\n",
    "</div>"
   ]
  },
  {
   "cell_type": "markdown",
   "metadata": {},
   "source": [
    "## Подготовка данных"
   ]
  },
  {
   "cell_type": "markdown",
   "metadata": {},
   "source": [
    "### Импорт библиотек"
   ]
  },
  {
   "cell_type": "code",
   "execution_count": 1,
   "metadata": {},
   "outputs": [],
   "source": [
    "import pandas as pd\n",
    "import numpy as np\n",
    "import lightgbm as lgb\n",
    "import matplotlib.pyplot as plt\n",
    "import seaborn as sns\n",
    "import warnings\n",
    "import os\n",
    "\n",
    "# текстовые библиотеки \n",
    "from IPython.display import display_html\n",
    "#from IPython.core.display import display, HTML\n",
    "from IPython.display import display, Math, Latex\n",
    "\n",
    "# библиотеки моделей\n",
    "from lightgbm import LGBMRegressor\n",
    "from catboost import CatBoostRegressor\n",
    "from sklearn.tree import DecisionTreeRegressor\n",
    "from sklearn.linear_model import LinearRegression\n",
    "from sklearn.ensemble import RandomForestRegressor\n",
    "\n",
    "# библиотеки метрик\n",
    "from sklearn.metrics import mean_squared_error,mean_absolute_error, make_scorer,r2_score\n",
    "\n",
    "from numpy.random import RandomState\n",
    "from sklearn.preprocessing import StandardScaler, OrdinalEncoder, OneHotEncoder\n",
    "from sklearn.model_selection import train_test_split, GridSearchCV, cross_val_score,cross_validate,RandomizedSearchCV\n",
    "\n",
    "\n",
    "pd.set_option('display.max_columns', None)         # Снимем ограничение на количество показываемых столбцов\n",
    "pd.options.mode.chained_assignment = None          # Скрываем предупреждение при масшатбировании\n",
    "warnings.filterwarnings('ignore')                  # Игнорируем предупреждения\n"
   ]
  },
  {
   "cell_type": "markdown",
   "metadata": {},
   "source": [
    "### Чтение данных"
   ]
  },
  {
   "cell_type": "code",
   "execution_count": 2,
   "metadata": {},
   "outputs": [],
   "source": [
    "try:\n",
    "    vehicles_data = pd.read_csv('autos.csv',sep=',')\n",
    "    \n",
    "except:\n",
    "    vehicles_data = pd.read_csv('/datasets/autos.csv',sep=',')"
   ]
  },
  {
   "cell_type": "markdown",
   "metadata": {},
   "source": [
    "### Сводка по данным"
   ]
  },
  {
   "cell_type": "code",
   "execution_count": 3,
   "metadata": {},
   "outputs": [],
   "source": [
    "def data_info (df):\n",
    "    '''\n",
    "    Сводка по данным\n",
    "    '''\n",
    "    display(df.sample(10))\n",
    "    print('Общая информация:')\n",
    "    display(df.info())\n",
    "    print('Общая статистика:')\n",
    "    display(df.describe())\n",
    "    print('Дубликаты:')\n",
    "    display(df.duplicated().sum())\n",
    "    display(df[df.duplicated()])"
   ]
  },
  {
   "cell_type": "code",
   "execution_count": 4,
   "metadata": {},
   "outputs": [
    {
     "data": {
      "text/html": [
       "<div>\n",
       "<style scoped>\n",
       "    .dataframe tbody tr th:only-of-type {\n",
       "        vertical-align: middle;\n",
       "    }\n",
       "\n",
       "    .dataframe tbody tr th {\n",
       "        vertical-align: top;\n",
       "    }\n",
       "\n",
       "    .dataframe thead th {\n",
       "        text-align: right;\n",
       "    }\n",
       "</style>\n",
       "<table border=\"1\" class=\"dataframe\">\n",
       "  <thead>\n",
       "    <tr style=\"text-align: right;\">\n",
       "      <th></th>\n",
       "      <th>DateCrawled</th>\n",
       "      <th>Price</th>\n",
       "      <th>VehicleType</th>\n",
       "      <th>RegistrationYear</th>\n",
       "      <th>Gearbox</th>\n",
       "      <th>Power</th>\n",
       "      <th>Model</th>\n",
       "      <th>Kilometer</th>\n",
       "      <th>RegistrationMonth</th>\n",
       "      <th>FuelType</th>\n",
       "      <th>Brand</th>\n",
       "      <th>NotRepaired</th>\n",
       "      <th>DateCreated</th>\n",
       "      <th>NumberOfPictures</th>\n",
       "      <th>PostalCode</th>\n",
       "      <th>LastSeen</th>\n",
       "    </tr>\n",
       "  </thead>\n",
       "  <tbody>\n",
       "    <tr>\n",
       "      <th>132034</th>\n",
       "      <td>2016-03-21 21:55:53</td>\n",
       "      <td>1700</td>\n",
       "      <td>sedan</td>\n",
       "      <td>2000</td>\n",
       "      <td>auto</td>\n",
       "      <td>0</td>\n",
       "      <td>vectra</td>\n",
       "      <td>125000</td>\n",
       "      <td>1</td>\n",
       "      <td>petrol</td>\n",
       "      <td>opel</td>\n",
       "      <td>NaN</td>\n",
       "      <td>2016-03-21 00:00:00</td>\n",
       "      <td>0</td>\n",
       "      <td>44143</td>\n",
       "      <td>2016-04-07 02:16:33</td>\n",
       "    </tr>\n",
       "    <tr>\n",
       "      <th>251469</th>\n",
       "      <td>2016-03-14 19:51:28</td>\n",
       "      <td>4400</td>\n",
       "      <td>bus</td>\n",
       "      <td>1997</td>\n",
       "      <td>manual</td>\n",
       "      <td>102</td>\n",
       "      <td>transporter</td>\n",
       "      <td>150000</td>\n",
       "      <td>4</td>\n",
       "      <td>gasoline</td>\n",
       "      <td>volkswagen</td>\n",
       "      <td>no</td>\n",
       "      <td>2016-03-14 00:00:00</td>\n",
       "      <td>0</td>\n",
       "      <td>18239</td>\n",
       "      <td>2016-03-23 23:46:55</td>\n",
       "    </tr>\n",
       "    <tr>\n",
       "      <th>347801</th>\n",
       "      <td>2016-03-17 17:56:18</td>\n",
       "      <td>2999</td>\n",
       "      <td>sedan</td>\n",
       "      <td>1998</td>\n",
       "      <td>manual</td>\n",
       "      <td>116</td>\n",
       "      <td>3er</td>\n",
       "      <td>150000</td>\n",
       "      <td>9</td>\n",
       "      <td>petrol</td>\n",
       "      <td>bmw</td>\n",
       "      <td>no</td>\n",
       "      <td>2016-03-17 00:00:00</td>\n",
       "      <td>0</td>\n",
       "      <td>64289</td>\n",
       "      <td>2016-04-01 07:48:53</td>\n",
       "    </tr>\n",
       "    <tr>\n",
       "      <th>124250</th>\n",
       "      <td>2016-04-07 14:36:44</td>\n",
       "      <td>5900</td>\n",
       "      <td>convertible</td>\n",
       "      <td>2002</td>\n",
       "      <td>manual</td>\n",
       "      <td>131</td>\n",
       "      <td>other</td>\n",
       "      <td>50000</td>\n",
       "      <td>4</td>\n",
       "      <td>petrol</td>\n",
       "      <td>fiat</td>\n",
       "      <td>no</td>\n",
       "      <td>2016-04-07 00:00:00</td>\n",
       "      <td>0</td>\n",
       "      <td>63322</td>\n",
       "      <td>2016-04-07 14:36:44</td>\n",
       "    </tr>\n",
       "    <tr>\n",
       "      <th>55273</th>\n",
       "      <td>2016-03-26 19:52:32</td>\n",
       "      <td>2600</td>\n",
       "      <td>NaN</td>\n",
       "      <td>2017</td>\n",
       "      <td>NaN</td>\n",
       "      <td>0</td>\n",
       "      <td>fortwo</td>\n",
       "      <td>150000</td>\n",
       "      <td>9</td>\n",
       "      <td>NaN</td>\n",
       "      <td>smart</td>\n",
       "      <td>no</td>\n",
       "      <td>2016-03-26 00:00:00</td>\n",
       "      <td>0</td>\n",
       "      <td>51375</td>\n",
       "      <td>2016-04-06 10:45:24</td>\n",
       "    </tr>\n",
       "    <tr>\n",
       "      <th>187909</th>\n",
       "      <td>2016-04-01 19:43:26</td>\n",
       "      <td>6900</td>\n",
       "      <td>sedan</td>\n",
       "      <td>2008</td>\n",
       "      <td>manual</td>\n",
       "      <td>80</td>\n",
       "      <td>golf</td>\n",
       "      <td>100000</td>\n",
       "      <td>7</td>\n",
       "      <td>petrol</td>\n",
       "      <td>volkswagen</td>\n",
       "      <td>no</td>\n",
       "      <td>2016-04-01 00:00:00</td>\n",
       "      <td>0</td>\n",
       "      <td>53859</td>\n",
       "      <td>2016-04-05 15:45:12</td>\n",
       "    </tr>\n",
       "    <tr>\n",
       "      <th>251834</th>\n",
       "      <td>2016-04-02 20:50:34</td>\n",
       "      <td>1400</td>\n",
       "      <td>small</td>\n",
       "      <td>1996</td>\n",
       "      <td>manual</td>\n",
       "      <td>60</td>\n",
       "      <td>polo</td>\n",
       "      <td>150000</td>\n",
       "      <td>12</td>\n",
       "      <td>petrol</td>\n",
       "      <td>volkswagen</td>\n",
       "      <td>no</td>\n",
       "      <td>2016-04-02 00:00:00</td>\n",
       "      <td>0</td>\n",
       "      <td>97526</td>\n",
       "      <td>2016-04-06 21:44:31</td>\n",
       "    </tr>\n",
       "    <tr>\n",
       "      <th>261974</th>\n",
       "      <td>2016-03-15 11:57:55</td>\n",
       "      <td>8950</td>\n",
       "      <td>NaN</td>\n",
       "      <td>2016</td>\n",
       "      <td>manual</td>\n",
       "      <td>177</td>\n",
       "      <td>3er</td>\n",
       "      <td>150000</td>\n",
       "      <td>6</td>\n",
       "      <td>gasoline</td>\n",
       "      <td>bmw</td>\n",
       "      <td>NaN</td>\n",
       "      <td>2016-03-15 00:00:00</td>\n",
       "      <td>0</td>\n",
       "      <td>28199</td>\n",
       "      <td>2016-03-21 08:17:52</td>\n",
       "    </tr>\n",
       "    <tr>\n",
       "      <th>164667</th>\n",
       "      <td>2016-03-05 18:45:25</td>\n",
       "      <td>2999</td>\n",
       "      <td>NaN</td>\n",
       "      <td>2000</td>\n",
       "      <td>manual</td>\n",
       "      <td>193</td>\n",
       "      <td>3er</td>\n",
       "      <td>150000</td>\n",
       "      <td>11</td>\n",
       "      <td>NaN</td>\n",
       "      <td>bmw</td>\n",
       "      <td>yes</td>\n",
       "      <td>2016-03-05 00:00:00</td>\n",
       "      <td>0</td>\n",
       "      <td>88045</td>\n",
       "      <td>2016-03-26 02:16:32</td>\n",
       "    </tr>\n",
       "    <tr>\n",
       "      <th>103196</th>\n",
       "      <td>2016-03-09 19:55:23</td>\n",
       "      <td>950</td>\n",
       "      <td>sedan</td>\n",
       "      <td>2000</td>\n",
       "      <td>manual</td>\n",
       "      <td>75</td>\n",
       "      <td>lanos</td>\n",
       "      <td>150000</td>\n",
       "      <td>8</td>\n",
       "      <td>petrol</td>\n",
       "      <td>daewoo</td>\n",
       "      <td>no</td>\n",
       "      <td>2016-03-09 00:00:00</td>\n",
       "      <td>0</td>\n",
       "      <td>9337</td>\n",
       "      <td>2016-03-11 04:15:53</td>\n",
       "    </tr>\n",
       "  </tbody>\n",
       "</table>\n",
       "</div>"
      ],
      "text/plain": [
       "                DateCrawled  Price  VehicleType  RegistrationYear Gearbox  \\\n",
       "132034  2016-03-21 21:55:53   1700        sedan              2000    auto   \n",
       "251469  2016-03-14 19:51:28   4400          bus              1997  manual   \n",
       "347801  2016-03-17 17:56:18   2999        sedan              1998  manual   \n",
       "124250  2016-04-07 14:36:44   5900  convertible              2002  manual   \n",
       "55273   2016-03-26 19:52:32   2600          NaN              2017     NaN   \n",
       "187909  2016-04-01 19:43:26   6900        sedan              2008  manual   \n",
       "251834  2016-04-02 20:50:34   1400        small              1996  manual   \n",
       "261974  2016-03-15 11:57:55   8950          NaN              2016  manual   \n",
       "164667  2016-03-05 18:45:25   2999          NaN              2000  manual   \n",
       "103196  2016-03-09 19:55:23    950        sedan              2000  manual   \n",
       "\n",
       "        Power        Model  Kilometer  RegistrationMonth  FuelType  \\\n",
       "132034      0       vectra     125000                  1    petrol   \n",
       "251469    102  transporter     150000                  4  gasoline   \n",
       "347801    116          3er     150000                  9    petrol   \n",
       "124250    131        other      50000                  4    petrol   \n",
       "55273       0       fortwo     150000                  9       NaN   \n",
       "187909     80         golf     100000                  7    petrol   \n",
       "251834     60         polo     150000                 12    petrol   \n",
       "261974    177          3er     150000                  6  gasoline   \n",
       "164667    193          3er     150000                 11       NaN   \n",
       "103196     75        lanos     150000                  8    petrol   \n",
       "\n",
       "             Brand NotRepaired          DateCreated  NumberOfPictures  \\\n",
       "132034        opel         NaN  2016-03-21 00:00:00                 0   \n",
       "251469  volkswagen          no  2016-03-14 00:00:00                 0   \n",
       "347801         bmw          no  2016-03-17 00:00:00                 0   \n",
       "124250        fiat          no  2016-04-07 00:00:00                 0   \n",
       "55273        smart          no  2016-03-26 00:00:00                 0   \n",
       "187909  volkswagen          no  2016-04-01 00:00:00                 0   \n",
       "251834  volkswagen          no  2016-04-02 00:00:00                 0   \n",
       "261974         bmw         NaN  2016-03-15 00:00:00                 0   \n",
       "164667         bmw         yes  2016-03-05 00:00:00                 0   \n",
       "103196      daewoo          no  2016-03-09 00:00:00                 0   \n",
       "\n",
       "        PostalCode             LastSeen  \n",
       "132034       44143  2016-04-07 02:16:33  \n",
       "251469       18239  2016-03-23 23:46:55  \n",
       "347801       64289  2016-04-01 07:48:53  \n",
       "124250       63322  2016-04-07 14:36:44  \n",
       "55273        51375  2016-04-06 10:45:24  \n",
       "187909       53859  2016-04-05 15:45:12  \n",
       "251834       97526  2016-04-06 21:44:31  \n",
       "261974       28199  2016-03-21 08:17:52  \n",
       "164667       88045  2016-03-26 02:16:32  \n",
       "103196        9337  2016-03-11 04:15:53  "
      ]
     },
     "metadata": {},
     "output_type": "display_data"
    },
    {
     "name": "stdout",
     "output_type": "stream",
     "text": [
      "Общая информация:\n",
      "<class 'pandas.core.frame.DataFrame'>\n",
      "RangeIndex: 354369 entries, 0 to 354368\n",
      "Data columns (total 16 columns):\n",
      " #   Column             Non-Null Count   Dtype \n",
      "---  ------             --------------   ----- \n",
      " 0   DateCrawled        354369 non-null  object\n",
      " 1   Price              354369 non-null  int64 \n",
      " 2   VehicleType        316879 non-null  object\n",
      " 3   RegistrationYear   354369 non-null  int64 \n",
      " 4   Gearbox            334536 non-null  object\n",
      " 5   Power              354369 non-null  int64 \n",
      " 6   Model              334664 non-null  object\n",
      " 7   Kilometer          354369 non-null  int64 \n",
      " 8   RegistrationMonth  354369 non-null  int64 \n",
      " 9   FuelType           321474 non-null  object\n",
      " 10  Brand              354369 non-null  object\n",
      " 11  NotRepaired        283215 non-null  object\n",
      " 12  DateCreated        354369 non-null  object\n",
      " 13  NumberOfPictures   354369 non-null  int64 \n",
      " 14  PostalCode         354369 non-null  int64 \n",
      " 15  LastSeen           354369 non-null  object\n",
      "dtypes: int64(7), object(9)\n",
      "memory usage: 43.3+ MB\n"
     ]
    },
    {
     "data": {
      "text/plain": [
       "None"
      ]
     },
     "metadata": {},
     "output_type": "display_data"
    },
    {
     "name": "stdout",
     "output_type": "stream",
     "text": [
      "Общая статистика:\n"
     ]
    },
    {
     "data": {
      "text/html": [
       "<div>\n",
       "<style scoped>\n",
       "    .dataframe tbody tr th:only-of-type {\n",
       "        vertical-align: middle;\n",
       "    }\n",
       "\n",
       "    .dataframe tbody tr th {\n",
       "        vertical-align: top;\n",
       "    }\n",
       "\n",
       "    .dataframe thead th {\n",
       "        text-align: right;\n",
       "    }\n",
       "</style>\n",
       "<table border=\"1\" class=\"dataframe\">\n",
       "  <thead>\n",
       "    <tr style=\"text-align: right;\">\n",
       "      <th></th>\n",
       "      <th>Price</th>\n",
       "      <th>RegistrationYear</th>\n",
       "      <th>Power</th>\n",
       "      <th>Kilometer</th>\n",
       "      <th>RegistrationMonth</th>\n",
       "      <th>NumberOfPictures</th>\n",
       "      <th>PostalCode</th>\n",
       "    </tr>\n",
       "  </thead>\n",
       "  <tbody>\n",
       "    <tr>\n",
       "      <th>count</th>\n",
       "      <td>354369.000000</td>\n",
       "      <td>354369.000000</td>\n",
       "      <td>354369.000000</td>\n",
       "      <td>354369.000000</td>\n",
       "      <td>354369.000000</td>\n",
       "      <td>354369.0</td>\n",
       "      <td>354369.000000</td>\n",
       "    </tr>\n",
       "    <tr>\n",
       "      <th>mean</th>\n",
       "      <td>4416.656776</td>\n",
       "      <td>2004.234448</td>\n",
       "      <td>110.094337</td>\n",
       "      <td>128211.172535</td>\n",
       "      <td>5.714645</td>\n",
       "      <td>0.0</td>\n",
       "      <td>50508.689087</td>\n",
       "    </tr>\n",
       "    <tr>\n",
       "      <th>std</th>\n",
       "      <td>4514.158514</td>\n",
       "      <td>90.227958</td>\n",
       "      <td>189.850405</td>\n",
       "      <td>37905.341530</td>\n",
       "      <td>3.726421</td>\n",
       "      <td>0.0</td>\n",
       "      <td>25783.096248</td>\n",
       "    </tr>\n",
       "    <tr>\n",
       "      <th>min</th>\n",
       "      <td>0.000000</td>\n",
       "      <td>1000.000000</td>\n",
       "      <td>0.000000</td>\n",
       "      <td>5000.000000</td>\n",
       "      <td>0.000000</td>\n",
       "      <td>0.0</td>\n",
       "      <td>1067.000000</td>\n",
       "    </tr>\n",
       "    <tr>\n",
       "      <th>25%</th>\n",
       "      <td>1050.000000</td>\n",
       "      <td>1999.000000</td>\n",
       "      <td>69.000000</td>\n",
       "      <td>125000.000000</td>\n",
       "      <td>3.000000</td>\n",
       "      <td>0.0</td>\n",
       "      <td>30165.000000</td>\n",
       "    </tr>\n",
       "    <tr>\n",
       "      <th>50%</th>\n",
       "      <td>2700.000000</td>\n",
       "      <td>2003.000000</td>\n",
       "      <td>105.000000</td>\n",
       "      <td>150000.000000</td>\n",
       "      <td>6.000000</td>\n",
       "      <td>0.0</td>\n",
       "      <td>49413.000000</td>\n",
       "    </tr>\n",
       "    <tr>\n",
       "      <th>75%</th>\n",
       "      <td>6400.000000</td>\n",
       "      <td>2008.000000</td>\n",
       "      <td>143.000000</td>\n",
       "      <td>150000.000000</td>\n",
       "      <td>9.000000</td>\n",
       "      <td>0.0</td>\n",
       "      <td>71083.000000</td>\n",
       "    </tr>\n",
       "    <tr>\n",
       "      <th>max</th>\n",
       "      <td>20000.000000</td>\n",
       "      <td>9999.000000</td>\n",
       "      <td>20000.000000</td>\n",
       "      <td>150000.000000</td>\n",
       "      <td>12.000000</td>\n",
       "      <td>0.0</td>\n",
       "      <td>99998.000000</td>\n",
       "    </tr>\n",
       "  </tbody>\n",
       "</table>\n",
       "</div>"
      ],
      "text/plain": [
       "               Price  RegistrationYear          Power      Kilometer  \\\n",
       "count  354369.000000     354369.000000  354369.000000  354369.000000   \n",
       "mean     4416.656776       2004.234448     110.094337  128211.172535   \n",
       "std      4514.158514         90.227958     189.850405   37905.341530   \n",
       "min         0.000000       1000.000000       0.000000    5000.000000   \n",
       "25%      1050.000000       1999.000000      69.000000  125000.000000   \n",
       "50%      2700.000000       2003.000000     105.000000  150000.000000   \n",
       "75%      6400.000000       2008.000000     143.000000  150000.000000   \n",
       "max     20000.000000       9999.000000   20000.000000  150000.000000   \n",
       "\n",
       "       RegistrationMonth  NumberOfPictures     PostalCode  \n",
       "count      354369.000000          354369.0  354369.000000  \n",
       "mean            5.714645               0.0   50508.689087  \n",
       "std             3.726421               0.0   25783.096248  \n",
       "min             0.000000               0.0    1067.000000  \n",
       "25%             3.000000               0.0   30165.000000  \n",
       "50%             6.000000               0.0   49413.000000  \n",
       "75%             9.000000               0.0   71083.000000  \n",
       "max            12.000000               0.0   99998.000000  "
      ]
     },
     "metadata": {},
     "output_type": "display_data"
    },
    {
     "name": "stdout",
     "output_type": "stream",
     "text": [
      "Дубликаты:\n"
     ]
    },
    {
     "data": {
      "text/plain": [
       "4"
      ]
     },
     "metadata": {},
     "output_type": "display_data"
    },
    {
     "data": {
      "text/html": [
       "<div>\n",
       "<style scoped>\n",
       "    .dataframe tbody tr th:only-of-type {\n",
       "        vertical-align: middle;\n",
       "    }\n",
       "\n",
       "    .dataframe tbody tr th {\n",
       "        vertical-align: top;\n",
       "    }\n",
       "\n",
       "    .dataframe thead th {\n",
       "        text-align: right;\n",
       "    }\n",
       "</style>\n",
       "<table border=\"1\" class=\"dataframe\">\n",
       "  <thead>\n",
       "    <tr style=\"text-align: right;\">\n",
       "      <th></th>\n",
       "      <th>DateCrawled</th>\n",
       "      <th>Price</th>\n",
       "      <th>VehicleType</th>\n",
       "      <th>RegistrationYear</th>\n",
       "      <th>Gearbox</th>\n",
       "      <th>Power</th>\n",
       "      <th>Model</th>\n",
       "      <th>Kilometer</th>\n",
       "      <th>RegistrationMonth</th>\n",
       "      <th>FuelType</th>\n",
       "      <th>Brand</th>\n",
       "      <th>NotRepaired</th>\n",
       "      <th>DateCreated</th>\n",
       "      <th>NumberOfPictures</th>\n",
       "      <th>PostalCode</th>\n",
       "      <th>LastSeen</th>\n",
       "    </tr>\n",
       "  </thead>\n",
       "  <tbody>\n",
       "    <tr>\n",
       "      <th>171088</th>\n",
       "      <td>2016-03-08 18:42:48</td>\n",
       "      <td>1799</td>\n",
       "      <td>coupe</td>\n",
       "      <td>1999</td>\n",
       "      <td>auto</td>\n",
       "      <td>193</td>\n",
       "      <td>clk</td>\n",
       "      <td>20000</td>\n",
       "      <td>7</td>\n",
       "      <td>petrol</td>\n",
       "      <td>mercedes_benz</td>\n",
       "      <td>no</td>\n",
       "      <td>2016-03-08 00:00:00</td>\n",
       "      <td>0</td>\n",
       "      <td>89518</td>\n",
       "      <td>2016-03-09 09:46:57</td>\n",
       "    </tr>\n",
       "    <tr>\n",
       "      <th>231258</th>\n",
       "      <td>2016-03-28 00:56:10</td>\n",
       "      <td>1000</td>\n",
       "      <td>small</td>\n",
       "      <td>2002</td>\n",
       "      <td>manual</td>\n",
       "      <td>83</td>\n",
       "      <td>other</td>\n",
       "      <td>150000</td>\n",
       "      <td>1</td>\n",
       "      <td>petrol</td>\n",
       "      <td>suzuki</td>\n",
       "      <td>no</td>\n",
       "      <td>2016-03-28 00:00:00</td>\n",
       "      <td>0</td>\n",
       "      <td>66589</td>\n",
       "      <td>2016-03-28 08:46:21</td>\n",
       "    </tr>\n",
       "    <tr>\n",
       "      <th>258109</th>\n",
       "      <td>2016-04-03 09:01:15</td>\n",
       "      <td>4699</td>\n",
       "      <td>coupe</td>\n",
       "      <td>2003</td>\n",
       "      <td>auto</td>\n",
       "      <td>218</td>\n",
       "      <td>clk</td>\n",
       "      <td>125000</td>\n",
       "      <td>6</td>\n",
       "      <td>petrol</td>\n",
       "      <td>mercedes_benz</td>\n",
       "      <td>yes</td>\n",
       "      <td>2016-04-03 00:00:00</td>\n",
       "      <td>0</td>\n",
       "      <td>75196</td>\n",
       "      <td>2016-04-07 09:44:54</td>\n",
       "    </tr>\n",
       "    <tr>\n",
       "      <th>325651</th>\n",
       "      <td>2016-03-18 18:46:15</td>\n",
       "      <td>1999</td>\n",
       "      <td>wagon</td>\n",
       "      <td>2001</td>\n",
       "      <td>manual</td>\n",
       "      <td>131</td>\n",
       "      <td>passat</td>\n",
       "      <td>150000</td>\n",
       "      <td>7</td>\n",
       "      <td>gasoline</td>\n",
       "      <td>volkswagen</td>\n",
       "      <td>no</td>\n",
       "      <td>2016-03-18 00:00:00</td>\n",
       "      <td>0</td>\n",
       "      <td>36391</td>\n",
       "      <td>2016-03-18 18:46:15</td>\n",
       "    </tr>\n",
       "  </tbody>\n",
       "</table>\n",
       "</div>"
      ],
      "text/plain": [
       "                DateCrawled  Price VehicleType  RegistrationYear Gearbox  \\\n",
       "171088  2016-03-08 18:42:48   1799       coupe              1999    auto   \n",
       "231258  2016-03-28 00:56:10   1000       small              2002  manual   \n",
       "258109  2016-04-03 09:01:15   4699       coupe              2003    auto   \n",
       "325651  2016-03-18 18:46:15   1999       wagon              2001  manual   \n",
       "\n",
       "        Power   Model  Kilometer  RegistrationMonth  FuelType          Brand  \\\n",
       "171088    193     clk      20000                  7    petrol  mercedes_benz   \n",
       "231258     83   other     150000                  1    petrol         suzuki   \n",
       "258109    218     clk     125000                  6    petrol  mercedes_benz   \n",
       "325651    131  passat     150000                  7  gasoline     volkswagen   \n",
       "\n",
       "       NotRepaired          DateCreated  NumberOfPictures  PostalCode  \\\n",
       "171088          no  2016-03-08 00:00:00                 0       89518   \n",
       "231258          no  2016-03-28 00:00:00                 0       66589   \n",
       "258109         yes  2016-04-03 00:00:00                 0       75196   \n",
       "325651          no  2016-03-18 00:00:00                 0       36391   \n",
       "\n",
       "                   LastSeen  \n",
       "171088  2016-03-09 09:46:57  \n",
       "231258  2016-03-28 08:46:21  \n",
       "258109  2016-04-07 09:44:54  \n",
       "325651  2016-03-18 18:46:15  "
      ]
     },
     "metadata": {},
     "output_type": "display_data"
    }
   ],
   "source": [
    "data_info(vehicles_data)"
   ]
  },
  {
   "cell_type": "code",
   "execution_count": 5,
   "metadata": {},
   "outputs": [
    {
     "data": {
      "text/plain": [
       "329497    2016-03-05 14:06:22\n",
       "220583    2016-03-05 14:06:23\n",
       "176823    2016-03-05 14:06:24\n",
       "99885     2016-03-05 14:06:24\n",
       "324763    2016-03-05 14:06:24\n",
       "                 ...         \n",
       "204218    2016-04-07 14:36:53\n",
       "53739     2016-04-07 14:36:54\n",
       "301030    2016-04-07 14:36:55\n",
       "339649    2016-04-07 14:36:56\n",
       "90713     2016-04-07 14:36:58\n",
       "Name: DateCrawled, Length: 354369, dtype: object"
      ]
     },
     "execution_count": 5,
     "metadata": {},
     "output_type": "execute_result"
    }
   ],
   "source": [
    "vehicles_data['DateCrawled'].sort_values()"
   ]
  },
  {
   "cell_type": "markdown",
   "metadata": {},
   "source": [
    "***Выводы по общей сводке:*** <br>\n",
    "\n",
    "- *представленные данные содержат 354369 записи в том числе 4 дубликата;*\n",
    "- *все данные представлены двумя типами данных \"int64\" и \"Object\";*\n",
    "- *следующие категории содержат пропуски:*\n",
    "    - `VehicleType` - 10.58%,.\n",
    "    - `Gearbox` - 5.6%,\n",
    "    - `Model` - 5.56%,\n",
    "    - `FuelType` - 9.28%,\n",
    "    - `NotRepaired` - 20.08%\n",
    "- *все данные датированы от 2016-03-05 по 2016-04-07 включительно*\n",
    "- *целевой признак \"Price\" пропусков не имеет.*\n",
    "\n",
    "\n",
    "***Статистический анализ:*** <br>\n",
    "- *Целевой признак `Price` находится в пределах от 0 до 20000 со средним значением 4416.6 и медианой 2700, при этом половина всех значений сосредоточена в интервале от 1050 до 6400. Нижняя граница значений, равная 0 противоречит смыслу, а существенные различия между медианой и средним значением могут говорить о выбросах в данных;*\n",
    "- *Признак `RegistrationYear` находится в пределах от 1000 до 9999 со средним значением 2004 и медианой 2003, при этом половина всех значений сосредоточена в интервале от 1999 до 2008. Нижняя и верхняя границы значений, равные 1000 и 9999 противоречят смыслу, т.к. отражают год выпуска в современном летоисчислении и таким образом являют собой выбросы, которые могут повлиять на точность работы модели;*\n",
    "- *Признак `Power` находится в пределах от 0 до 20000 со средним значением 110 и медианой 105, при этом половина всех значений сосредоточена в интервале от 69 до 143. Нижняя и верхняя границы значений, равные 0 и 20000 противоречят смыслу, т.к. отражают мощность и таким образом являют собой выбросы, которые могут повлиять на точность работы модели;*\n",
    "- *Признак `Kilometer` находится в пределах от 5000 до 150000 со средним значением 128211 и медианой 150000, при этом половина всех значений сосредоточена в интервале от 125000 до 150000. Медианное значение равно максимальному значению на всей выборке, что может говорить о том, что не меньше половины данных имеют максимальное значение в данной категории и это явно свидетельстует о том, что распределение данных точно отличается от нормального, либо данные были искусственно подвергнуты дополнительной обработке (делению на интервалы);*\n",
    "- *Признак `RegistrationMonth` находится в пределах от 0 до 12 со средним значением 5.7 и медианой 6, при этом половина всех значений сосредоточена в интервале от 3 до 9. В принципе значение 0 в данной категории может свидетельствовать о том, что автомобиль не был поставлен или не стоит сейчас на регистрации, но достаточно близкое расположение друг к другу среднего и медианного значений, которые совпадают с серединой года и при этом половина значений лежит в пределах от 3-го до 9-го месяца намекают на нормальное распределение данных (или близкое к нормальному), но природа данных и здравый смысл при этом говорят, что распределение данных в этой категории, скорее всего, должно быть близко к равномерному. Поэтому истинность данных в этой категории не внушает доверия и данная категория становится кандидатом на исключение из выборки в борьбе за улучшение качества модели;*\n",
    "- *Признак `NumberOfPictures` в качестве значений содержит только нули. В связи с этим обстоятельством данная категория может быть удалена из выборки с целью экономии вычислительных ресурсов, т.к. не несёт в себе никакой полезной для модели информации;\n",
    "- *Признак `PostalCode` содержит данные о почтовом индексе владельца анкеты. Несмотря на то, что цены на автомобили могут отличаться в регионах, каждый почтовый индекс отражает конкретное почтовое отделение к которому прикреплён адрес владельца. Таким образом, данная категория либо нуждается дополнительной обработке путём категоризации анкет по городам (должно вычисляться из индекса), либо может быть удалена, как мешающая обучению модели, т.к. имеет связь с владельцем анкеты, но не имеет связи с объектом исследования - автомобилем и имеет только косвенную связь с его ценой.*"
   ]
  },
  {
   "cell_type": "markdown",
   "metadata": {},
   "source": [
    "<div class='alert alert-success'> ✔️Первичный анализ успешно завершен, намечена тактика дальнейших действий.\n",
    "</div>"
   ]
  },
  {
   "cell_type": "markdown",
   "metadata": {},
   "source": [
    "### Анализ и удаление выбросов"
   ]
  },
  {
   "cell_type": "code",
   "execution_count": 6,
   "metadata": {},
   "outputs": [
    {
     "name": "stdout",
     "output_type": "stream",
     "text": [
      "Duplicated row number: 0\n",
      "Size: 354365x16\n"
     ]
    }
   ],
   "source": [
    "#Удалим дубликаты, чтобы они не повлияли на дальнейшую работу модели\n",
    "\n",
    "vehicles_data = vehicles_data.drop_duplicates()\n",
    "vehicles_data = vehicles_data.reset_index(drop = True)\n",
    "print(f'Duplicated row number: {vehicles_data.duplicated().sum()}')\n",
    "print(f'Size: {vehicles_data.shape[0]}x{vehicles_data.shape[1]}')"
   ]
  },
  {
   "cell_type": "code",
   "execution_count": 7,
   "metadata": {},
   "outputs": [],
   "source": [
    "#Удалим категорию `NumberOfPictures`, чтобы не усложнять дальнейшую работу модели\n",
    "\n",
    "#vehicles_data.drop('NumberOfPictures', axis=1,inplace=True)"
   ]
  },
  {
   "cell_type": "code",
   "execution_count": 8,
   "metadata": {},
   "outputs": [
    {
     "data": {
      "text/html": [
       "<div>\n",
       "<style scoped>\n",
       "    .dataframe tbody tr th:only-of-type {\n",
       "        vertical-align: middle;\n",
       "    }\n",
       "\n",
       "    .dataframe tbody tr th {\n",
       "        vertical-align: top;\n",
       "    }\n",
       "\n",
       "    .dataframe thead th {\n",
       "        text-align: right;\n",
       "    }\n",
       "</style>\n",
       "<table border=\"1\" class=\"dataframe\">\n",
       "  <thead>\n",
       "    <tr style=\"text-align: right;\">\n",
       "      <th></th>\n",
       "      <th>DateCrawled</th>\n",
       "      <th>Price</th>\n",
       "      <th>VehicleType</th>\n",
       "      <th>RegistrationYear</th>\n",
       "      <th>Gearbox</th>\n",
       "      <th>Power</th>\n",
       "      <th>Model</th>\n",
       "      <th>Kilometer</th>\n",
       "      <th>RegistrationMonth</th>\n",
       "      <th>FuelType</th>\n",
       "      <th>Brand</th>\n",
       "      <th>NotRepaired</th>\n",
       "      <th>DateCreated</th>\n",
       "      <th>PostalCode</th>\n",
       "      <th>LastSeen</th>\n",
       "    </tr>\n",
       "  </thead>\n",
       "  <tbody>\n",
       "    <tr>\n",
       "      <th>0</th>\n",
       "      <td>2016-03-24 11:52:17</td>\n",
       "      <td>480</td>\n",
       "      <td>NaN</td>\n",
       "      <td>1993</td>\n",
       "      <td>manual</td>\n",
       "      <td>0</td>\n",
       "      <td>golf</td>\n",
       "      <td>150000</td>\n",
       "      <td>0</td>\n",
       "      <td>petrol</td>\n",
       "      <td>volkswagen</td>\n",
       "      <td>NaN</td>\n",
       "      <td>2016-03-24 00:00:00</td>\n",
       "      <td>70435</td>\n",
       "      <td>2016-04-07 03:16:57</td>\n",
       "    </tr>\n",
       "    <tr>\n",
       "      <th>1</th>\n",
       "      <td>2016-03-24 10:58:45</td>\n",
       "      <td>18300</td>\n",
       "      <td>coupe</td>\n",
       "      <td>2011</td>\n",
       "      <td>manual</td>\n",
       "      <td>190</td>\n",
       "      <td>NaN</td>\n",
       "      <td>125000</td>\n",
       "      <td>5</td>\n",
       "      <td>gasoline</td>\n",
       "      <td>audi</td>\n",
       "      <td>yes</td>\n",
       "      <td>2016-03-24 00:00:00</td>\n",
       "      <td>66954</td>\n",
       "      <td>2016-04-07 01:46:50</td>\n",
       "    </tr>\n",
       "    <tr>\n",
       "      <th>2</th>\n",
       "      <td>2016-03-14 12:52:21</td>\n",
       "      <td>9800</td>\n",
       "      <td>suv</td>\n",
       "      <td>2004</td>\n",
       "      <td>auto</td>\n",
       "      <td>163</td>\n",
       "      <td>grand</td>\n",
       "      <td>125000</td>\n",
       "      <td>8</td>\n",
       "      <td>gasoline</td>\n",
       "      <td>jeep</td>\n",
       "      <td>NaN</td>\n",
       "      <td>2016-03-14 00:00:00</td>\n",
       "      <td>90480</td>\n",
       "      <td>2016-04-05 12:47:46</td>\n",
       "    </tr>\n",
       "    <tr>\n",
       "      <th>3</th>\n",
       "      <td>2016-03-17 16:54:04</td>\n",
       "      <td>1500</td>\n",
       "      <td>small</td>\n",
       "      <td>2001</td>\n",
       "      <td>manual</td>\n",
       "      <td>75</td>\n",
       "      <td>golf</td>\n",
       "      <td>150000</td>\n",
       "      <td>6</td>\n",
       "      <td>petrol</td>\n",
       "      <td>volkswagen</td>\n",
       "      <td>no</td>\n",
       "      <td>2016-03-17 00:00:00</td>\n",
       "      <td>91074</td>\n",
       "      <td>2016-03-17 17:40:17</td>\n",
       "    </tr>\n",
       "    <tr>\n",
       "      <th>4</th>\n",
       "      <td>2016-03-31 17:25:20</td>\n",
       "      <td>3600</td>\n",
       "      <td>small</td>\n",
       "      <td>2008</td>\n",
       "      <td>manual</td>\n",
       "      <td>69</td>\n",
       "      <td>fabia</td>\n",
       "      <td>90000</td>\n",
       "      <td>7</td>\n",
       "      <td>gasoline</td>\n",
       "      <td>skoda</td>\n",
       "      <td>no</td>\n",
       "      <td>2016-03-31 00:00:00</td>\n",
       "      <td>60437</td>\n",
       "      <td>2016-04-06 10:17:21</td>\n",
       "    </tr>\n",
       "    <tr>\n",
       "      <th>...</th>\n",
       "      <td>...</td>\n",
       "      <td>...</td>\n",
       "      <td>...</td>\n",
       "      <td>...</td>\n",
       "      <td>...</td>\n",
       "      <td>...</td>\n",
       "      <td>...</td>\n",
       "      <td>...</td>\n",
       "      <td>...</td>\n",
       "      <td>...</td>\n",
       "      <td>...</td>\n",
       "      <td>...</td>\n",
       "      <td>...</td>\n",
       "      <td>...</td>\n",
       "      <td>...</td>\n",
       "    </tr>\n",
       "    <tr>\n",
       "      <th>354360</th>\n",
       "      <td>2016-03-21 09:50:58</td>\n",
       "      <td>0</td>\n",
       "      <td>NaN</td>\n",
       "      <td>2005</td>\n",
       "      <td>manual</td>\n",
       "      <td>0</td>\n",
       "      <td>colt</td>\n",
       "      <td>150000</td>\n",
       "      <td>7</td>\n",
       "      <td>petrol</td>\n",
       "      <td>mitsubishi</td>\n",
       "      <td>yes</td>\n",
       "      <td>2016-03-21 00:00:00</td>\n",
       "      <td>2694</td>\n",
       "      <td>2016-03-21 10:42:49</td>\n",
       "    </tr>\n",
       "    <tr>\n",
       "      <th>354361</th>\n",
       "      <td>2016-03-14 17:48:27</td>\n",
       "      <td>2200</td>\n",
       "      <td>NaN</td>\n",
       "      <td>2005</td>\n",
       "      <td>NaN</td>\n",
       "      <td>0</td>\n",
       "      <td>NaN</td>\n",
       "      <td>20000</td>\n",
       "      <td>1</td>\n",
       "      <td>NaN</td>\n",
       "      <td>sonstige_autos</td>\n",
       "      <td>NaN</td>\n",
       "      <td>2016-03-14 00:00:00</td>\n",
       "      <td>39576</td>\n",
       "      <td>2016-04-06 00:46:52</td>\n",
       "    </tr>\n",
       "    <tr>\n",
       "      <th>354362</th>\n",
       "      <td>2016-03-05 19:56:21</td>\n",
       "      <td>1199</td>\n",
       "      <td>convertible</td>\n",
       "      <td>2000</td>\n",
       "      <td>auto</td>\n",
       "      <td>101</td>\n",
       "      <td>fortwo</td>\n",
       "      <td>125000</td>\n",
       "      <td>3</td>\n",
       "      <td>petrol</td>\n",
       "      <td>smart</td>\n",
       "      <td>no</td>\n",
       "      <td>2016-03-05 00:00:00</td>\n",
       "      <td>26135</td>\n",
       "      <td>2016-03-11 18:17:12</td>\n",
       "    </tr>\n",
       "    <tr>\n",
       "      <th>354363</th>\n",
       "      <td>2016-03-19 18:57:12</td>\n",
       "      <td>9200</td>\n",
       "      <td>bus</td>\n",
       "      <td>1996</td>\n",
       "      <td>manual</td>\n",
       "      <td>102</td>\n",
       "      <td>transporter</td>\n",
       "      <td>150000</td>\n",
       "      <td>3</td>\n",
       "      <td>gasoline</td>\n",
       "      <td>volkswagen</td>\n",
       "      <td>no</td>\n",
       "      <td>2016-03-19 00:00:00</td>\n",
       "      <td>87439</td>\n",
       "      <td>2016-04-07 07:15:26</td>\n",
       "    </tr>\n",
       "    <tr>\n",
       "      <th>354364</th>\n",
       "      <td>2016-03-20 19:41:08</td>\n",
       "      <td>3400</td>\n",
       "      <td>wagon</td>\n",
       "      <td>2002</td>\n",
       "      <td>manual</td>\n",
       "      <td>100</td>\n",
       "      <td>golf</td>\n",
       "      <td>150000</td>\n",
       "      <td>6</td>\n",
       "      <td>gasoline</td>\n",
       "      <td>volkswagen</td>\n",
       "      <td>NaN</td>\n",
       "      <td>2016-03-20 00:00:00</td>\n",
       "      <td>40764</td>\n",
       "      <td>2016-03-24 12:45:21</td>\n",
       "    </tr>\n",
       "  </tbody>\n",
       "</table>\n",
       "<p>354365 rows × 15 columns</p>\n",
       "</div>"
      ],
      "text/plain": [
       "                DateCrawled  Price  VehicleType  RegistrationYear Gearbox  \\\n",
       "0       2016-03-24 11:52:17    480          NaN              1993  manual   \n",
       "1       2016-03-24 10:58:45  18300        coupe              2011  manual   \n",
       "2       2016-03-14 12:52:21   9800          suv              2004    auto   \n",
       "3       2016-03-17 16:54:04   1500        small              2001  manual   \n",
       "4       2016-03-31 17:25:20   3600        small              2008  manual   \n",
       "...                     ...    ...          ...               ...     ...   \n",
       "354360  2016-03-21 09:50:58      0          NaN              2005  manual   \n",
       "354361  2016-03-14 17:48:27   2200          NaN              2005     NaN   \n",
       "354362  2016-03-05 19:56:21   1199  convertible              2000    auto   \n",
       "354363  2016-03-19 18:57:12   9200          bus              1996  manual   \n",
       "354364  2016-03-20 19:41:08   3400        wagon              2002  manual   \n",
       "\n",
       "        Power        Model  Kilometer  RegistrationMonth  FuelType  \\\n",
       "0           0         golf     150000                  0    petrol   \n",
       "1         190          NaN     125000                  5  gasoline   \n",
       "2         163        grand     125000                  8  gasoline   \n",
       "3          75         golf     150000                  6    petrol   \n",
       "4          69        fabia      90000                  7  gasoline   \n",
       "...       ...          ...        ...                ...       ...   \n",
       "354360      0         colt     150000                  7    petrol   \n",
       "354361      0          NaN      20000                  1       NaN   \n",
       "354362    101       fortwo     125000                  3    petrol   \n",
       "354363    102  transporter     150000                  3  gasoline   \n",
       "354364    100         golf     150000                  6  gasoline   \n",
       "\n",
       "                 Brand NotRepaired          DateCreated  PostalCode  \\\n",
       "0           volkswagen         NaN  2016-03-24 00:00:00       70435   \n",
       "1                 audi         yes  2016-03-24 00:00:00       66954   \n",
       "2                 jeep         NaN  2016-03-14 00:00:00       90480   \n",
       "3           volkswagen          no  2016-03-17 00:00:00       91074   \n",
       "4                skoda          no  2016-03-31 00:00:00       60437   \n",
       "...                ...         ...                  ...         ...   \n",
       "354360      mitsubishi         yes  2016-03-21 00:00:00        2694   \n",
       "354361  sonstige_autos         NaN  2016-03-14 00:00:00       39576   \n",
       "354362           smart          no  2016-03-05 00:00:00       26135   \n",
       "354363      volkswagen          no  2016-03-19 00:00:00       87439   \n",
       "354364      volkswagen         NaN  2016-03-20 00:00:00       40764   \n",
       "\n",
       "                   LastSeen  \n",
       "0       2016-04-07 03:16:57  \n",
       "1       2016-04-07 01:46:50  \n",
       "2       2016-04-05 12:47:46  \n",
       "3       2016-03-17 17:40:17  \n",
       "4       2016-04-06 10:17:21  \n",
       "...                     ...  \n",
       "354360  2016-03-21 10:42:49  \n",
       "354361  2016-04-06 00:46:52  \n",
       "354362  2016-03-11 18:17:12  \n",
       "354363  2016-04-07 07:15:26  \n",
       "354364  2016-03-24 12:45:21  \n",
       "\n",
       "[354365 rows x 15 columns]"
      ]
     },
     "execution_count": 8,
     "metadata": {},
     "output_type": "execute_result"
    }
   ],
   "source": [
    "#Удалим категорию `NumberOfPictures`, чтобы не усложнять дальнейшую работу модели\n",
    "\n",
    "vehicles_data.drop('NumberOfPictures', axis=1)"
   ]
  },
  {
   "cell_type": "markdown",
   "metadata": {},
   "source": [
    "<div class='alert alert-warning'>⚠️ Все правильно. Однако применения аргумента inplace лучше избегать, так как разработчики в новых версиях Pandas прекратят его поддержку. Параметр считается бесполезным с точки зрения производительности (под капотом все равно создает копию, которая сразу присваивается объекту) и удобства, так как не поддерживает цепочки операций (подробнее можешь прочитать здесь https://www.dataschool.io/future-of-pandas/#inplace)\n",
    "</div>"
   ]
  },
  {
   "cell_type": "markdown",
   "metadata": {},
   "source": [
    "<div class=\"alert alert-block alert-info\">\n",
    "<b>Комментарий студента: </b> Раньше в прошлых проектах частенько сталкивался с ошибкой \"цепных связей\" и с тех пор привык к .copy и подобным методам. В данном случае, блок брал и дорабатывал из своих старых проектов, поэтому про необходимость `inplace` в этом случае не думал. <br>\n",
    "Добавил новый блок с исправлениями.\n",
    "</div>"
   ]
  },
  {
   "cell_type": "code",
   "execution_count": 9,
   "metadata": {},
   "outputs": [
    {
     "name": "stdout",
     "output_type": "stream",
     "text": [
      "CPU times: total: 250 ms\n",
      "Wall time: 247 ms\n"
     ]
    },
    {
     "data": {
      "text/plain": [
       "<AxesSubplot:>"
      ]
     },
     "execution_count": 9,
     "metadata": {},
     "output_type": "execute_result"
    },
    {
     "data": {
      "image/png": "[encoded data removed]",
      "text/plain": [
       "<Figure size 576x360 with 2 Axes>"
      ]
     },
     "metadata": {
      "needs_background": "light"
     },
     "output_type": "display_data"
    }
   ],
   "source": [
    "%%time\n",
    "\n",
    "# Построим исходную heatmap корреляцию\n",
    "\n",
    "corr_value = round(vehicles_data.corr()*100,2)\n",
    "plt.rcParams[\"figure.figsize\"] = (8,5)\n",
    "sns.heatmap(corr_value, annot=True, cbar_kws={\"orientation\": \"vertical\"})"
   ]
  },
  {
   "cell_type": "markdown",
   "metadata": {},
   "source": [
    "***Вывод:*** <br>\n",
    "\n",
    "*HeatMap не выявил мультиколиниарности признаков (целевой признак умышленно сохранён в данных), однако природа данных позволяет ожидать большей корреляции к целевому признаку (цене) таких параметров как:*\n",
    "   - *год регистрации*\n",
    "   - *мощность*\n",
    "   - *километраж*\n",
    "\n",
    "*Ниже попробуем провести предобработку данных с целью того, чтобы указанные ожидания проявились*"
   ]
  },
  {
   "cell_type": "code",
   "execution_count": 10,
   "metadata": {},
   "outputs": [
    {
     "name": "stdout",
     "output_type": "stream",
     "text": [
      "Доля записей с нулевой ценой: 3.04%\n"
     ]
    }
   ],
   "source": [
    "#Исследуем записи с нулевой ценой\n",
    "\n",
    "print('Доля записей с нулевой ценой: {:.2%}'.format(len(vehicles_data[vehicles_data['Price'] == 0]) / len(vehicles_data['Price'])))"
   ]
  },
  {
   "cell_type": "code",
   "execution_count": 11,
   "metadata": {},
   "outputs": [
    {
     "data": {
      "text/html": [
       "<div>\n",
       "<style scoped>\n",
       "    .dataframe tbody tr th:only-of-type {\n",
       "        vertical-align: middle;\n",
       "    }\n",
       "\n",
       "    .dataframe tbody tr th {\n",
       "        vertical-align: top;\n",
       "    }\n",
       "\n",
       "    .dataframe thead th {\n",
       "        text-align: right;\n",
       "    }\n",
       "</style>\n",
       "<table border=\"1\" class=\"dataframe\">\n",
       "  <thead>\n",
       "    <tr style=\"text-align: right;\">\n",
       "      <th></th>\n",
       "      <th>DateCrawled</th>\n",
       "      <th>Price</th>\n",
       "      <th>VehicleType</th>\n",
       "      <th>RegistrationYear</th>\n",
       "      <th>Gearbox</th>\n",
       "      <th>Power</th>\n",
       "      <th>Model</th>\n",
       "      <th>Kilometer</th>\n",
       "      <th>RegistrationMonth</th>\n",
       "      <th>FuelType</th>\n",
       "      <th>Brand</th>\n",
       "      <th>NotRepaired</th>\n",
       "      <th>DateCreated</th>\n",
       "      <th>NumberOfPictures</th>\n",
       "      <th>PostalCode</th>\n",
       "      <th>LastSeen</th>\n",
       "    </tr>\n",
       "  </thead>\n",
       "  <tbody>\n",
       "    <tr>\n",
       "      <th>340886</th>\n",
       "      <td>2016-03-15 20:54:27</td>\n",
       "      <td>0</td>\n",
       "      <td>small</td>\n",
       "      <td>1991</td>\n",
       "      <td>manual</td>\n",
       "      <td>50</td>\n",
       "      <td>fiesta</td>\n",
       "      <td>80000</td>\n",
       "      <td>0</td>\n",
       "      <td>NaN</td>\n",
       "      <td>ford</td>\n",
       "      <td>NaN</td>\n",
       "      <td>2016-03-15 00:00:00</td>\n",
       "      <td>0</td>\n",
       "      <td>17489</td>\n",
       "      <td>2016-03-20 19:45:02</td>\n",
       "    </tr>\n",
       "    <tr>\n",
       "      <th>124200</th>\n",
       "      <td>2016-03-15 14:45:53</td>\n",
       "      <td>0</td>\n",
       "      <td>bus</td>\n",
       "      <td>2002</td>\n",
       "      <td>manual</td>\n",
       "      <td>129</td>\n",
       "      <td>espace</td>\n",
       "      <td>150000</td>\n",
       "      <td>0</td>\n",
       "      <td>gasoline</td>\n",
       "      <td>renault</td>\n",
       "      <td>no</td>\n",
       "      <td>2016-03-15 00:00:00</td>\n",
       "      <td>0</td>\n",
       "      <td>46359</td>\n",
       "      <td>2016-04-06 04:44:29</td>\n",
       "    </tr>\n",
       "    <tr>\n",
       "      <th>208869</th>\n",
       "      <td>2016-03-14 17:47:16</td>\n",
       "      <td>0</td>\n",
       "      <td>bus</td>\n",
       "      <td>1995</td>\n",
       "      <td>manual</td>\n",
       "      <td>0</td>\n",
       "      <td>voyager</td>\n",
       "      <td>30000</td>\n",
       "      <td>0</td>\n",
       "      <td>gasoline</td>\n",
       "      <td>chrysler</td>\n",
       "      <td>NaN</td>\n",
       "      <td>2016-03-14 00:00:00</td>\n",
       "      <td>0</td>\n",
       "      <td>27432</td>\n",
       "      <td>2016-04-06 00:45:42</td>\n",
       "    </tr>\n",
       "    <tr>\n",
       "      <th>252165</th>\n",
       "      <td>2016-03-24 11:57:07</td>\n",
       "      <td>0</td>\n",
       "      <td>NaN</td>\n",
       "      <td>1995</td>\n",
       "      <td>NaN</td>\n",
       "      <td>0</td>\n",
       "      <td>golf</td>\n",
       "      <td>150000</td>\n",
       "      <td>0</td>\n",
       "      <td>NaN</td>\n",
       "      <td>volkswagen</td>\n",
       "      <td>NaN</td>\n",
       "      <td>2016-03-24 00:00:00</td>\n",
       "      <td>0</td>\n",
       "      <td>18279</td>\n",
       "      <td>2016-03-28 20:46:52</td>\n",
       "    </tr>\n",
       "    <tr>\n",
       "      <th>241603</th>\n",
       "      <td>2016-04-04 16:40:40</td>\n",
       "      <td>0</td>\n",
       "      <td>bus</td>\n",
       "      <td>2004</td>\n",
       "      <td>auto</td>\n",
       "      <td>116</td>\n",
       "      <td>sharan</td>\n",
       "      <td>150000</td>\n",
       "      <td>12</td>\n",
       "      <td>gasoline</td>\n",
       "      <td>volkswagen</td>\n",
       "      <td>no</td>\n",
       "      <td>2016-04-04 00:00:00</td>\n",
       "      <td>0</td>\n",
       "      <td>47441</td>\n",
       "      <td>2016-04-06 18:16:49</td>\n",
       "    </tr>\n",
       "  </tbody>\n",
       "</table>\n",
       "</div>"
      ],
      "text/plain": [
       "                DateCrawled  Price VehicleType  RegistrationYear Gearbox  \\\n",
       "340886  2016-03-15 20:54:27      0       small              1991  manual   \n",
       "124200  2016-03-15 14:45:53      0         bus              2002  manual   \n",
       "208869  2016-03-14 17:47:16      0         bus              1995  manual   \n",
       "252165  2016-03-24 11:57:07      0         NaN              1995     NaN   \n",
       "241603  2016-04-04 16:40:40      0         bus              2004    auto   \n",
       "\n",
       "        Power    Model  Kilometer  RegistrationMonth  FuelType       Brand  \\\n",
       "340886     50   fiesta      80000                  0       NaN        ford   \n",
       "124200    129   espace     150000                  0  gasoline     renault   \n",
       "208869      0  voyager      30000                  0  gasoline    chrysler   \n",
       "252165      0     golf     150000                  0       NaN  volkswagen   \n",
       "241603    116   sharan     150000                 12  gasoline  volkswagen   \n",
       "\n",
       "       NotRepaired          DateCreated  NumberOfPictures  PostalCode  \\\n",
       "340886         NaN  2016-03-15 00:00:00                 0       17489   \n",
       "124200          no  2016-03-15 00:00:00                 0       46359   \n",
       "208869         NaN  2016-03-14 00:00:00                 0       27432   \n",
       "252165         NaN  2016-03-24 00:00:00                 0       18279   \n",
       "241603          no  2016-04-04 00:00:00                 0       47441   \n",
       "\n",
       "                   LastSeen  \n",
       "340886  2016-03-20 19:45:02  \n",
       "124200  2016-04-06 04:44:29  \n",
       "208869  2016-04-06 00:45:42  \n",
       "252165  2016-03-28 20:46:52  \n",
       "241603  2016-04-06 18:16:49  "
      ]
     },
     "execution_count": 11,
     "metadata": {},
     "output_type": "execute_result"
    }
   ],
   "source": [
    "vehicles_data[vehicles_data['Price'] == 0].sample(5)"
   ]
  },
  {
   "cell_type": "markdown",
   "metadata": {},
   "source": [
    "***Вывод:*** <br>\n",
    "<br>\n",
    "*Данные с нулевой ценой выглядят нормально, однако, по всей видимости, нулевые значения цены появились в результате пропусков при заполнении и поэтому такие данные не могут быть использованы для обучения модели, т.к. последняя будет пытаться предсказать стоимость, опираясь в том числе и на нулевые значения целевого признака.* <br>\n",
    "*Доля таких записей составляет 3%, поэтому такие данные могут быть удалены без существенных потерь для дальнейшей работы.*"
   ]
  },
  {
   "cell_type": "code",
   "execution_count": 12,
   "metadata": {},
   "outputs": [],
   "source": [
    "#Удалим данные с нулевой ценой в соответствии с приведёнными выше выводами\n",
    "\n",
    "vehicles_data = vehicles_data[vehicles_data['Price'] != 0]"
   ]
  },
  {
   "cell_type": "code",
   "execution_count": 13,
   "metadata": {},
   "outputs": [
    {
     "data": {
      "text/html": [
       "<div>\n",
       "<style scoped>\n",
       "    .dataframe tbody tr th:only-of-type {\n",
       "        vertical-align: middle;\n",
       "    }\n",
       "\n",
       "    .dataframe tbody tr th {\n",
       "        vertical-align: top;\n",
       "    }\n",
       "\n",
       "    .dataframe thead th {\n",
       "        text-align: right;\n",
       "    }\n",
       "</style>\n",
       "<table border=\"1\" class=\"dataframe\">\n",
       "  <thead>\n",
       "    <tr style=\"text-align: right;\">\n",
       "      <th></th>\n",
       "      <th>DateCrawled</th>\n",
       "      <th>Price</th>\n",
       "      <th>VehicleType</th>\n",
       "      <th>RegistrationYear</th>\n",
       "      <th>Gearbox</th>\n",
       "      <th>Power</th>\n",
       "      <th>Model</th>\n",
       "      <th>Kilometer</th>\n",
       "      <th>RegistrationMonth</th>\n",
       "      <th>FuelType</th>\n",
       "      <th>Brand</th>\n",
       "      <th>NotRepaired</th>\n",
       "      <th>DateCreated</th>\n",
       "      <th>NumberOfPictures</th>\n",
       "      <th>PostalCode</th>\n",
       "      <th>LastSeen</th>\n",
       "    </tr>\n",
       "  </thead>\n",
       "  <tbody>\n",
       "    <tr>\n",
       "      <th>26560</th>\n",
       "      <td>2016-03-24 17:45:47</td>\n",
       "      <td>800</td>\n",
       "      <td>NaN</td>\n",
       "      <td>2066</td>\n",
       "      <td>NaN</td>\n",
       "      <td>0</td>\n",
       "      <td>zafira</td>\n",
       "      <td>5000</td>\n",
       "      <td>0</td>\n",
       "      <td>gasoline</td>\n",
       "      <td>opel</td>\n",
       "      <td>NaN</td>\n",
       "      <td>2016-03-24 00:00:00</td>\n",
       "      <td>0</td>\n",
       "      <td>45355</td>\n",
       "      <td>2016-03-29 03:16:49</td>\n",
       "    </tr>\n",
       "    <tr>\n",
       "      <th>18259</th>\n",
       "      <td>2016-03-16 20:37:54</td>\n",
       "      <td>300</td>\n",
       "      <td>NaN</td>\n",
       "      <td>2200</td>\n",
       "      <td>NaN</td>\n",
       "      <td>0</td>\n",
       "      <td>twingo</td>\n",
       "      <td>5000</td>\n",
       "      <td>12</td>\n",
       "      <td>NaN</td>\n",
       "      <td>renault</td>\n",
       "      <td>NaN</td>\n",
       "      <td>2016-03-16 00:00:00</td>\n",
       "      <td>0</td>\n",
       "      <td>45307</td>\n",
       "      <td>2016-04-07 06:45:32</td>\n",
       "    </tr>\n",
       "    <tr>\n",
       "      <th>220637</th>\n",
       "      <td>2016-04-06 02:36:16</td>\n",
       "      <td>100</td>\n",
       "      <td>NaN</td>\n",
       "      <td>2222</td>\n",
       "      <td>NaN</td>\n",
       "      <td>0</td>\n",
       "      <td>NaN</td>\n",
       "      <td>5000</td>\n",
       "      <td>0</td>\n",
       "      <td>NaN</td>\n",
       "      <td>sonstige_autos</td>\n",
       "      <td>NaN</td>\n",
       "      <td>2016-04-06 00:00:00</td>\n",
       "      <td>0</td>\n",
       "      <td>66538</td>\n",
       "      <td>2016-04-06 02:36:16</td>\n",
       "    </tr>\n",
       "    <tr>\n",
       "      <th>121506</th>\n",
       "      <td>2016-03-18 18:26:00</td>\n",
       "      <td>700</td>\n",
       "      <td>NaN</td>\n",
       "      <td>2290</td>\n",
       "      <td>NaN</td>\n",
       "      <td>0</td>\n",
       "      <td>laguna</td>\n",
       "      <td>5000</td>\n",
       "      <td>0</td>\n",
       "      <td>NaN</td>\n",
       "      <td>renault</td>\n",
       "      <td>NaN</td>\n",
       "      <td>2016-03-18 00:00:00</td>\n",
       "      <td>0</td>\n",
       "      <td>63069</td>\n",
       "      <td>2016-04-06 08:46:30</td>\n",
       "    </tr>\n",
       "    <tr>\n",
       "      <th>328449</th>\n",
       "      <td>2016-03-14 18:54:32</td>\n",
       "      <td>450</td>\n",
       "      <td>NaN</td>\n",
       "      <td>2500</td>\n",
       "      <td>NaN</td>\n",
       "      <td>0</td>\n",
       "      <td>6_reihe</td>\n",
       "      <td>5000</td>\n",
       "      <td>0</td>\n",
       "      <td>NaN</td>\n",
       "      <td>mazda</td>\n",
       "      <td>NaN</td>\n",
       "      <td>2016-03-14 00:00:00</td>\n",
       "      <td>0</td>\n",
       "      <td>45475</td>\n",
       "      <td>2016-03-19 07:17:39</td>\n",
       "    </tr>\n",
       "    <tr>\n",
       "      <th>...</th>\n",
       "      <td>...</td>\n",
       "      <td>...</td>\n",
       "      <td>...</td>\n",
       "      <td>...</td>\n",
       "      <td>...</td>\n",
       "      <td>...</td>\n",
       "      <td>...</td>\n",
       "      <td>...</td>\n",
       "      <td>...</td>\n",
       "      <td>...</td>\n",
       "      <td>...</td>\n",
       "      <td>...</td>\n",
       "      <td>...</td>\n",
       "      <td>...</td>\n",
       "      <td>...</td>\n",
       "      <td>...</td>\n",
       "    </tr>\n",
       "    <tr>\n",
       "      <th>301276</th>\n",
       "      <td>2016-03-20 15:06:24</td>\n",
       "      <td>19000</td>\n",
       "      <td>NaN</td>\n",
       "      <td>9999</td>\n",
       "      <td>NaN</td>\n",
       "      <td>0</td>\n",
       "      <td>transporter</td>\n",
       "      <td>10000</td>\n",
       "      <td>0</td>\n",
       "      <td>NaN</td>\n",
       "      <td>volkswagen</td>\n",
       "      <td>NaN</td>\n",
       "      <td>2016-03-20 00:00:00</td>\n",
       "      <td>0</td>\n",
       "      <td>60439</td>\n",
       "      <td>2016-04-07 00:44:47</td>\n",
       "    </tr>\n",
       "    <tr>\n",
       "      <th>257791</th>\n",
       "      <td>2016-03-19 14:43:36</td>\n",
       "      <td>50</td>\n",
       "      <td>NaN</td>\n",
       "      <td>9999</td>\n",
       "      <td>NaN</td>\n",
       "      <td>0</td>\n",
       "      <td>other</td>\n",
       "      <td>10000</td>\n",
       "      <td>0</td>\n",
       "      <td>NaN</td>\n",
       "      <td>hyundai</td>\n",
       "      <td>NaN</td>\n",
       "      <td>2016-03-19 00:00:00</td>\n",
       "      <td>0</td>\n",
       "      <td>18569</td>\n",
       "      <td>2016-03-27 04:17:10</td>\n",
       "    </tr>\n",
       "    <tr>\n",
       "      <th>268088</th>\n",
       "      <td>2016-03-31 00:56:44</td>\n",
       "      <td>150</td>\n",
       "      <td>NaN</td>\n",
       "      <td>9999</td>\n",
       "      <td>NaN</td>\n",
       "      <td>0</td>\n",
       "      <td>NaN</td>\n",
       "      <td>10000</td>\n",
       "      <td>0</td>\n",
       "      <td>NaN</td>\n",
       "      <td>sonstige_autos</td>\n",
       "      <td>NaN</td>\n",
       "      <td>2016-03-30 00:00:00</td>\n",
       "      <td>0</td>\n",
       "      <td>28870</td>\n",
       "      <td>2016-04-02 03:15:54</td>\n",
       "    </tr>\n",
       "    <tr>\n",
       "      <th>29426</th>\n",
       "      <td>2016-03-23 21:52:25</td>\n",
       "      <td>7999</td>\n",
       "      <td>NaN</td>\n",
       "      <td>9999</td>\n",
       "      <td>NaN</td>\n",
       "      <td>0</td>\n",
       "      <td>kaefer</td>\n",
       "      <td>10000</td>\n",
       "      <td>0</td>\n",
       "      <td>NaN</td>\n",
       "      <td>volkswagen</td>\n",
       "      <td>NaN</td>\n",
       "      <td>2016-03-23 00:00:00</td>\n",
       "      <td>0</td>\n",
       "      <td>47638</td>\n",
       "      <td>2016-04-06 03:46:40</td>\n",
       "    </tr>\n",
       "    <tr>\n",
       "      <th>128677</th>\n",
       "      <td>2016-03-14 14:51:56</td>\n",
       "      <td>1550</td>\n",
       "      <td>NaN</td>\n",
       "      <td>9999</td>\n",
       "      <td>NaN</td>\n",
       "      <td>95</td>\n",
       "      <td>NaN</td>\n",
       "      <td>10000</td>\n",
       "      <td>0</td>\n",
       "      <td>NaN</td>\n",
       "      <td>volkswagen</td>\n",
       "      <td>NaN</td>\n",
       "      <td>2016-03-14 00:00:00</td>\n",
       "      <td>0</td>\n",
       "      <td>35288</td>\n",
       "      <td>2016-03-16 04:48:21</td>\n",
       "    </tr>\n",
       "  </tbody>\n",
       "</table>\n",
       "<p>86 rows × 16 columns</p>\n",
       "</div>"
      ],
      "text/plain": [
       "                DateCrawled  Price VehicleType  RegistrationYear Gearbox  \\\n",
       "26560   2016-03-24 17:45:47    800         NaN              2066     NaN   \n",
       "18259   2016-03-16 20:37:54    300         NaN              2200     NaN   \n",
       "220637  2016-04-06 02:36:16    100         NaN              2222     NaN   \n",
       "121506  2016-03-18 18:26:00    700         NaN              2290     NaN   \n",
       "328449  2016-03-14 18:54:32    450         NaN              2500     NaN   \n",
       "...                     ...    ...         ...               ...     ...   \n",
       "301276  2016-03-20 15:06:24  19000         NaN              9999     NaN   \n",
       "257791  2016-03-19 14:43:36     50         NaN              9999     NaN   \n",
       "268088  2016-03-31 00:56:44    150         NaN              9999     NaN   \n",
       "29426   2016-03-23 21:52:25   7999         NaN              9999     NaN   \n",
       "128677  2016-03-14 14:51:56   1550         NaN              9999     NaN   \n",
       "\n",
       "        Power        Model  Kilometer  RegistrationMonth  FuelType  \\\n",
       "26560       0       zafira       5000                  0  gasoline   \n",
       "18259       0       twingo       5000                 12       NaN   \n",
       "220637      0          NaN       5000                  0       NaN   \n",
       "121506      0       laguna       5000                  0       NaN   \n",
       "328449      0      6_reihe       5000                  0       NaN   \n",
       "...       ...          ...        ...                ...       ...   \n",
       "301276      0  transporter      10000                  0       NaN   \n",
       "257791      0        other      10000                  0       NaN   \n",
       "268088      0          NaN      10000                  0       NaN   \n",
       "29426       0       kaefer      10000                  0       NaN   \n",
       "128677     95          NaN      10000                  0       NaN   \n",
       "\n",
       "                 Brand NotRepaired          DateCreated  NumberOfPictures  \\\n",
       "26560             opel         NaN  2016-03-24 00:00:00                 0   \n",
       "18259          renault         NaN  2016-03-16 00:00:00                 0   \n",
       "220637  sonstige_autos         NaN  2016-04-06 00:00:00                 0   \n",
       "121506         renault         NaN  2016-03-18 00:00:00                 0   \n",
       "328449           mazda         NaN  2016-03-14 00:00:00                 0   \n",
       "...                ...         ...                  ...               ...   \n",
       "301276      volkswagen         NaN  2016-03-20 00:00:00                 0   \n",
       "257791         hyundai         NaN  2016-03-19 00:00:00                 0   \n",
       "268088  sonstige_autos         NaN  2016-03-30 00:00:00                 0   \n",
       "29426       volkswagen         NaN  2016-03-23 00:00:00                 0   \n",
       "128677      volkswagen         NaN  2016-03-14 00:00:00                 0   \n",
       "\n",
       "        PostalCode             LastSeen  \n",
       "26560        45355  2016-03-29 03:16:49  \n",
       "18259        45307  2016-04-07 06:45:32  \n",
       "220637       66538  2016-04-06 02:36:16  \n",
       "121506       63069  2016-04-06 08:46:30  \n",
       "328449       45475  2016-03-19 07:17:39  \n",
       "...            ...                  ...  \n",
       "301276       60439  2016-04-07 00:44:47  \n",
       "257791       18569  2016-03-27 04:17:10  \n",
       "268088       28870  2016-04-02 03:15:54  \n",
       "29426        47638  2016-04-06 03:46:40  \n",
       "128677       35288  2016-03-16 04:48:21  \n",
       "\n",
       "[86 rows x 16 columns]"
      ]
     },
     "metadata": {},
     "output_type": "display_data"
    },
    {
     "name": "stdout",
     "output_type": "stream",
     "text": [
      "Доля записей с превышенным годом регистрации: 0.03%\n"
     ]
    }
   ],
   "source": [
    "#Проверим данные с некорректными годами регистрации.\n",
    "#Несмотря на то, что данные датированы 2016 годом данные о регистрации встречаются вплоть до 2018 года (возможно, база обновлялась)\n",
    "#Все остальные данные сверх этого значения следует считать выбросами\n",
    "\n",
    "display(vehicles_data[vehicles_data['RegistrationYear'] > 2019].sort_values(by='RegistrationYear'))\n",
    "print('Доля записей с превышенным годом регистрации: {:.2%}'.format(len(vehicles_data[vehicles_data['RegistrationYear'] > 2019])/(len(vehicles_data['RegistrationYear']))))"
   ]
  },
  {
   "cell_type": "code",
   "execution_count": 14,
   "metadata": {},
   "outputs": [
    {
     "data": {
      "text/html": [
       "<div>\n",
       "<style scoped>\n",
       "    .dataframe tbody tr th:only-of-type {\n",
       "        vertical-align: middle;\n",
       "    }\n",
       "\n",
       "    .dataframe tbody tr th {\n",
       "        vertical-align: top;\n",
       "    }\n",
       "\n",
       "    .dataframe thead th {\n",
       "        text-align: right;\n",
       "    }\n",
       "</style>\n",
       "<table border=\"1\" class=\"dataframe\">\n",
       "  <thead>\n",
       "    <tr style=\"text-align: right;\">\n",
       "      <th></th>\n",
       "      <th>DateCrawled</th>\n",
       "      <th>Price</th>\n",
       "      <th>VehicleType</th>\n",
       "      <th>RegistrationYear</th>\n",
       "      <th>Gearbox</th>\n",
       "      <th>Power</th>\n",
       "      <th>Model</th>\n",
       "      <th>Kilometer</th>\n",
       "      <th>RegistrationMonth</th>\n",
       "      <th>FuelType</th>\n",
       "      <th>Brand</th>\n",
       "      <th>NotRepaired</th>\n",
       "      <th>DateCreated</th>\n",
       "      <th>NumberOfPictures</th>\n",
       "      <th>PostalCode</th>\n",
       "      <th>LastSeen</th>\n",
       "    </tr>\n",
       "  </thead>\n",
       "  <tbody>\n",
       "    <tr>\n",
       "      <th>112768</th>\n",
       "      <td>2016-04-04 11:55:09</td>\n",
       "      <td>2500</td>\n",
       "      <td>NaN</td>\n",
       "      <td>1000</td>\n",
       "      <td>NaN</td>\n",
       "      <td>0</td>\n",
       "      <td>NaN</td>\n",
       "      <td>5000</td>\n",
       "      <td>0</td>\n",
       "      <td>NaN</td>\n",
       "      <td>trabant</td>\n",
       "      <td>no</td>\n",
       "      <td>2016-04-04 00:00:00</td>\n",
       "      <td>0</td>\n",
       "      <td>2906</td>\n",
       "      <td>2016-04-06 13:44:24</td>\n",
       "    </tr>\n",
       "    <tr>\n",
       "      <th>286925</th>\n",
       "      <td>2016-03-18 16:51:44</td>\n",
       "      <td>1</td>\n",
       "      <td>NaN</td>\n",
       "      <td>1000</td>\n",
       "      <td>NaN</td>\n",
       "      <td>174</td>\n",
       "      <td>touareg</td>\n",
       "      <td>5000</td>\n",
       "      <td>3</td>\n",
       "      <td>gasoline</td>\n",
       "      <td>volkswagen</td>\n",
       "      <td>NaN</td>\n",
       "      <td>2016-03-18 00:00:00</td>\n",
       "      <td>0</td>\n",
       "      <td>97616</td>\n",
       "      <td>2016-04-05 22:44:31</td>\n",
       "    </tr>\n",
       "    <tr>\n",
       "      <th>79120</th>\n",
       "      <td>2016-03-15 18:47:30</td>\n",
       "      <td>4750</td>\n",
       "      <td>NaN</td>\n",
       "      <td>1000</td>\n",
       "      <td>NaN</td>\n",
       "      <td>0</td>\n",
       "      <td>other</td>\n",
       "      <td>5000</td>\n",
       "      <td>0</td>\n",
       "      <td>NaN</td>\n",
       "      <td>renault</td>\n",
       "      <td>NaN</td>\n",
       "      <td>2016-03-15 00:00:00</td>\n",
       "      <td>0</td>\n",
       "      <td>66706</td>\n",
       "      <td>2016-04-06 20:19:21</td>\n",
       "    </tr>\n",
       "    <tr>\n",
       "      <th>189721</th>\n",
       "      <td>2016-03-29 16:56:41</td>\n",
       "      <td>1500</td>\n",
       "      <td>NaN</td>\n",
       "      <td>1000</td>\n",
       "      <td>manual</td>\n",
       "      <td>0</td>\n",
       "      <td>kaefer</td>\n",
       "      <td>5000</td>\n",
       "      <td>0</td>\n",
       "      <td>petrol</td>\n",
       "      <td>volkswagen</td>\n",
       "      <td>NaN</td>\n",
       "      <td>2016-03-29 00:00:00</td>\n",
       "      <td>0</td>\n",
       "      <td>48324</td>\n",
       "      <td>2016-03-31 10:15:28</td>\n",
       "    </tr>\n",
       "    <tr>\n",
       "      <th>233629</th>\n",
       "      <td>2016-04-03 15:50:39</td>\n",
       "      <td>65</td>\n",
       "      <td>NaN</td>\n",
       "      <td>1000</td>\n",
       "      <td>NaN</td>\n",
       "      <td>0</td>\n",
       "      <td>NaN</td>\n",
       "      <td>5000</td>\n",
       "      <td>1</td>\n",
       "      <td>NaN</td>\n",
       "      <td>sonstige_autos</td>\n",
       "      <td>NaN</td>\n",
       "      <td>2016-04-03 00:00:00</td>\n",
       "      <td>0</td>\n",
       "      <td>66121</td>\n",
       "      <td>2016-04-05 15:16:17</td>\n",
       "    </tr>\n",
       "    <tr>\n",
       "      <th>...</th>\n",
       "      <td>...</td>\n",
       "      <td>...</td>\n",
       "      <td>...</td>\n",
       "      <td>...</td>\n",
       "      <td>...</td>\n",
       "      <td>...</td>\n",
       "      <td>...</td>\n",
       "      <td>...</td>\n",
       "      <td>...</td>\n",
       "      <td>...</td>\n",
       "      <td>...</td>\n",
       "      <td>...</td>\n",
       "      <td>...</td>\n",
       "      <td>...</td>\n",
       "      <td>...</td>\n",
       "      <td>...</td>\n",
       "    </tr>\n",
       "    <tr>\n",
       "      <th>127400</th>\n",
       "      <td>2016-03-07 11:53:10</td>\n",
       "      <td>99</td>\n",
       "      <td>NaN</td>\n",
       "      <td>1910</td>\n",
       "      <td>NaN</td>\n",
       "      <td>0</td>\n",
       "      <td>a2</td>\n",
       "      <td>5000</td>\n",
       "      <td>0</td>\n",
       "      <td>NaN</td>\n",
       "      <td>audi</td>\n",
       "      <td>NaN</td>\n",
       "      <td>2016-03-07 00:00:00</td>\n",
       "      <td>0</td>\n",
       "      <td>91301</td>\n",
       "      <td>2016-04-05 13:46:12</td>\n",
       "    </tr>\n",
       "    <tr>\n",
       "      <th>117293</th>\n",
       "      <td>2016-03-22 17:48:41</td>\n",
       "      <td>599</td>\n",
       "      <td>small</td>\n",
       "      <td>1910</td>\n",
       "      <td>manual</td>\n",
       "      <td>0</td>\n",
       "      <td>NaN</td>\n",
       "      <td>5000</td>\n",
       "      <td>0</td>\n",
       "      <td>petrol</td>\n",
       "      <td>renault</td>\n",
       "      <td>NaN</td>\n",
       "      <td>2016-03-22 00:00:00</td>\n",
       "      <td>0</td>\n",
       "      <td>70376</td>\n",
       "      <td>2016-04-06 09:16:59</td>\n",
       "    </tr>\n",
       "    <tr>\n",
       "      <th>98056</th>\n",
       "      <td>2016-04-01 12:46:44</td>\n",
       "      <td>1</td>\n",
       "      <td>sedan</td>\n",
       "      <td>1910</td>\n",
       "      <td>manual</td>\n",
       "      <td>10</td>\n",
       "      <td>other</td>\n",
       "      <td>5000</td>\n",
       "      <td>2</td>\n",
       "      <td>gasoline</td>\n",
       "      <td>mercedes_benz</td>\n",
       "      <td>no</td>\n",
       "      <td>2016-04-01 00:00:00</td>\n",
       "      <td>0</td>\n",
       "      <td>70173</td>\n",
       "      <td>2016-04-01 12:46:44</td>\n",
       "    </tr>\n",
       "    <tr>\n",
       "      <th>150021</th>\n",
       "      <td>2016-03-11 22:56:46</td>\n",
       "      <td>20</td>\n",
       "      <td>NaN</td>\n",
       "      <td>1910</td>\n",
       "      <td>NaN</td>\n",
       "      <td>0</td>\n",
       "      <td>NaN</td>\n",
       "      <td>5000</td>\n",
       "      <td>0</td>\n",
       "      <td>NaN</td>\n",
       "      <td>trabant</td>\n",
       "      <td>NaN</td>\n",
       "      <td>2016-03-11 00:00:00</td>\n",
       "      <td>0</td>\n",
       "      <td>6618</td>\n",
       "      <td>2016-03-26 06:46:01</td>\n",
       "    </tr>\n",
       "    <tr>\n",
       "      <th>353957</th>\n",
       "      <td>2016-03-17 13:54:22</td>\n",
       "      <td>200</td>\n",
       "      <td>NaN</td>\n",
       "      <td>1910</td>\n",
       "      <td>NaN</td>\n",
       "      <td>0</td>\n",
       "      <td>NaN</td>\n",
       "      <td>5000</td>\n",
       "      <td>0</td>\n",
       "      <td>petrol</td>\n",
       "      <td>sonstige_autos</td>\n",
       "      <td>NaN</td>\n",
       "      <td>2016-03-17 00:00:00</td>\n",
       "      <td>0</td>\n",
       "      <td>42289</td>\n",
       "      <td>2016-03-31 22:46:47</td>\n",
       "    </tr>\n",
       "  </tbody>\n",
       "</table>\n",
       "<p>109 rows × 16 columns</p>\n",
       "</div>"
      ],
      "text/plain": [
       "                DateCrawled  Price VehicleType  RegistrationYear Gearbox  \\\n",
       "112768  2016-04-04 11:55:09   2500         NaN              1000     NaN   \n",
       "286925  2016-03-18 16:51:44      1         NaN              1000     NaN   \n",
       "79120   2016-03-15 18:47:30   4750         NaN              1000     NaN   \n",
       "189721  2016-03-29 16:56:41   1500         NaN              1000  manual   \n",
       "233629  2016-04-03 15:50:39     65         NaN              1000     NaN   \n",
       "...                     ...    ...         ...               ...     ...   \n",
       "127400  2016-03-07 11:53:10     99         NaN              1910     NaN   \n",
       "117293  2016-03-22 17:48:41    599       small              1910  manual   \n",
       "98056   2016-04-01 12:46:44      1       sedan              1910  manual   \n",
       "150021  2016-03-11 22:56:46     20         NaN              1910     NaN   \n",
       "353957  2016-03-17 13:54:22    200         NaN              1910     NaN   \n",
       "\n",
       "        Power    Model  Kilometer  RegistrationMonth  FuelType  \\\n",
       "112768      0      NaN       5000                  0       NaN   \n",
       "286925    174  touareg       5000                  3  gasoline   \n",
       "79120       0    other       5000                  0       NaN   \n",
       "189721      0   kaefer       5000                  0    petrol   \n",
       "233629      0      NaN       5000                  1       NaN   \n",
       "...       ...      ...        ...                ...       ...   \n",
       "127400      0       a2       5000                  0       NaN   \n",
       "117293      0      NaN       5000                  0    petrol   \n",
       "98056      10    other       5000                  2  gasoline   \n",
       "150021      0      NaN       5000                  0       NaN   \n",
       "353957      0      NaN       5000                  0    petrol   \n",
       "\n",
       "                 Brand NotRepaired          DateCreated  NumberOfPictures  \\\n",
       "112768         trabant          no  2016-04-04 00:00:00                 0   \n",
       "286925      volkswagen         NaN  2016-03-18 00:00:00                 0   \n",
       "79120          renault         NaN  2016-03-15 00:00:00                 0   \n",
       "189721      volkswagen         NaN  2016-03-29 00:00:00                 0   \n",
       "233629  sonstige_autos         NaN  2016-04-03 00:00:00                 0   \n",
       "...                ...         ...                  ...               ...   \n",
       "127400            audi         NaN  2016-03-07 00:00:00                 0   \n",
       "117293         renault         NaN  2016-03-22 00:00:00                 0   \n",
       "98056    mercedes_benz          no  2016-04-01 00:00:00                 0   \n",
       "150021         trabant         NaN  2016-03-11 00:00:00                 0   \n",
       "353957  sonstige_autos         NaN  2016-03-17 00:00:00                 0   \n",
       "\n",
       "        PostalCode             LastSeen  \n",
       "112768        2906  2016-04-06 13:44:24  \n",
       "286925       97616  2016-04-05 22:44:31  \n",
       "79120        66706  2016-04-06 20:19:21  \n",
       "189721       48324  2016-03-31 10:15:28  \n",
       "233629       66121  2016-04-05 15:16:17  \n",
       "...            ...                  ...  \n",
       "127400       91301  2016-04-05 13:46:12  \n",
       "117293       70376  2016-04-06 09:16:59  \n",
       "98056        70173  2016-04-01 12:46:44  \n",
       "150021        6618  2016-03-26 06:46:01  \n",
       "353957       42289  2016-03-31 22:46:47  \n",
       "\n",
       "[109 rows x 16 columns]"
      ]
     },
     "metadata": {},
     "output_type": "display_data"
    },
    {
     "name": "stdout",
     "output_type": "stream",
     "text": [
      "Доля записей с регистрацией ранее 100 лет назад: 0.03%\n"
     ]
    }
   ],
   "source": [
    "#Проверим данные с некорректными годами регистрации.\n",
    "#Исходя из практики предположим, что вряд ли возможно встретить автомобили с регистрацией старше, чем 100 лет от даты регистрации анкеты.\n",
    "#Все остальные данные сверх этого значения следует считать выбросами\n",
    "\n",
    "display(vehicles_data[vehicles_data['RegistrationYear'] < 1916].sort_values(by='RegistrationYear'))\n",
    "print('Доля записей с регистрацией ранее 100 лет назад: {:.2%}'.format(len(vehicles_data[vehicles_data['RegistrationYear'] < 1916])/(len(vehicles_data['RegistrationYear']))))"
   ]
  },
  {
   "cell_type": "code",
   "execution_count": 15,
   "metadata": {},
   "outputs": [],
   "source": [
    "#Удалим выявленные ранее выбросы\n",
    "\n",
    "#vehicles_data = vehicles_data.query('1916 < RegistrationYear < 2019')"
   ]
  },
  {
   "cell_type": "code",
   "execution_count": 16,
   "metadata": {},
   "outputs": [],
   "source": [
    "#Удалим выявленные ранее выбросы\n",
    "\n",
    "vehicles_data = vehicles_data.query('1916 < RegistrationYear < 2017')"
   ]
  },
  {
   "cell_type": "markdown",
   "metadata": {},
   "source": [
    "<div class='alert alert-danger'>❌Отлично, явно неправильные значения из RegistrationYear удалили, а как считаешь, о верхнем значении года регистрации может что-нибудь сказать колонка DateCrawled? \n",
    "    </div>"
   ]
  },
  {
   "cell_type": "markdown",
   "metadata": {},
   "source": [
    "<div class=\"alert alert-block alert-info\">\n",
    "<b>Комментарий студента: </b> Да, я понимаю, что все данные датированы по 2016-04-07 о чём я сам же и писал выше и что регистрация после этой даты по смыслу не возможна. Однако, природа появления этих данных не известна и поскольку даты имеют тот же формат, то я предположил, что информация о регистрации могла браться автоматически из какой-либо базы. <br>\n",
    "Чтобы не разводить полемику, исправил верхний фильтр на 2017.\n",
    "</div>"
   ]
  },
  {
   "cell_type": "code",
   "execution_count": 17,
   "metadata": {},
   "outputs": [
    {
     "name": "stdout",
     "output_type": "stream",
     "text": [
      "Доля записей с мощностью двигателя более 740 л.с: 0.09%\n"
     ]
    }
   ],
   "source": [
    "#Ввиду того, что мощность одного из самых мощных в мире серийных тягачей не превышает 740 л.с.,\n",
    "#ограничим данные мощности этой цифрой, считая все данные сверх этого выбросами,\n",
    "#т.к. все данные сверх этого похожи на указание объёма двигателей в куб.см.\n",
    "print('Доля записей с мощностью двигателя более 740 л.с: {:.2%}'\n",
    "      .format(vehicles_data[vehicles_data['Power'] > 740]['Power'].count() / len(vehicles_data['Power'])))"
   ]
  },
  {
   "cell_type": "code",
   "execution_count": 18,
   "metadata": {},
   "outputs": [
    {
     "name": "stdout",
     "output_type": "stream",
     "text": [
      "Доля записей с мощностью двигателя 0 л.с: 9.95%\n"
     ]
    }
   ],
   "source": [
    "#Узнаем количество записей с мощностью двигателя равной нулю, что противоречит природе данных \n",
    "#и должно считаться выбросами \n",
    "print('Доля записей с мощностью двигателя 0 л.с: {:.2%}'\n",
    "      .format(vehicles_data[vehicles_data['Power'] == 0]['Power'].count() / len(vehicles_data['Power'])))"
   ]
  },
  {
   "cell_type": "markdown",
   "metadata": {},
   "source": [
    "*К сожалению, по всей видимости, нулевая мощность, обозначенная в данных фактически говорит об отсутствии данных о мощности и является значением по умолчанию*"
   ]
  },
  {
   "cell_type": "code",
   "execution_count": 19,
   "metadata": {},
   "outputs": [],
   "source": [
    "#Удалим выявленные ранее выбросы\n",
    "\n",
    "vehicles_data = vehicles_data.query('Power <= 740')"
   ]
  },
  {
   "cell_type": "code",
   "execution_count": 20,
   "metadata": {},
   "outputs": [],
   "source": [
    "#Удалим нулевые значения мощности\n",
    "\n",
    "vehicles_data = vehicles_data.query('Power > 0')"
   ]
  },
  {
   "cell_type": "code",
   "execution_count": 21,
   "metadata": {},
   "outputs": [
    {
     "name": "stdout",
     "output_type": "stream",
     "text": [
      "CPU times: total: 203 ms\n",
      "Wall time: 202 ms\n"
     ]
    },
    {
     "data": {
      "text/plain": [
       "<AxesSubplot:>"
      ]
     },
     "execution_count": 21,
     "metadata": {},
     "output_type": "execute_result"
    },
    {
     "data": {
      "image/png": "[encoded data removed]",
      "text/plain": [
       "<Figure size 576x360 with 2 Axes>"
      ]
     },
     "metadata": {
      "needs_background": "light"
     },
     "output_type": "display_data"
    }
   ],
   "source": [
    "%%time\n",
    "\n",
    "# Построим heatmap корреляцию\n",
    "\n",
    "corr_value = round(vehicles_data.corr()*100,2)\n",
    "plt.rcParams[\"figure.figsize\"] = (8,5)\n",
    "sns.heatmap(corr_value, annot=True, cbar_kws={\"orientation\": \"vertical\"})"
   ]
  },
  {
   "cell_type": "markdown",
   "metadata": {},
   "source": [
    "***Вывод:*** <br>\n",
    "\n",
    "*В результате проделанной работы ожидаемая взаимосвязь признаков:*\n",
    "   - *год регистрации*\n",
    "   - *мощность*\n",
    "   - *пробег*\n",
    "*с целевым признаком - стоимостью стала проявляться значительно ярче, что, в свою очередь, позволяет надеяться на более качественные предсказания моделей.* <br>\n",
    "*Наряду с этим стала прослеживаться слабая, но при этом ожидаемая, корреляция между годом регистрации и пробеком (вполне логично, что чем старше машина, тем больше на ней пробег)"
   ]
  },
  {
   "cell_type": "markdown",
   "metadata": {},
   "source": [
    "<div class='alert alert-danger'>❌Хорошо, аномалии в мощности сверху устранены, а как точки с нулевой мощностью можно обработать?  \n",
    "    </div>"
   ]
  },
  {
   "cell_type": "markdown",
   "metadata": {},
   "source": [
    "<div class=\"alert alert-block alert-info\">\n",
    "<b>Комментарий студента: </b> Поскольку данных с нулевой мощностью 10.54%, а данные имеют целочисленный тип, то изначально посчитал, что записи с нулевой мощностью следует читать, как отсутствие инфомации о мощности, т.е. значение по умолчанию для неизвестных величин. <br>\n",
    "Добавил соответствующий фильтр перед построением heatmap.\n",
    "</div>"
   ]
  },
  {
   "cell_type": "code",
   "execution_count": 22,
   "metadata": {},
   "outputs": [
    {
     "data": {
      "image/png": "[encoded data removed]",
      "text/plain": [
       "<Figure size 1440x1440 with 49 Axes>"
      ]
     },
     "metadata": {
      "needs_background": "light"
     },
     "output_type": "display_data"
    }
   ],
   "source": [
    "# Проверим насколько сильно проявляются описанные выше свойства.\n",
    "\n",
    "pd.plotting.scatter_matrix(vehicles_data,figsize=(20,20))\n",
    "plt.suptitle(\"Матрица зависимостей\", size=20)\n",
    "plt.show()"
   ]
  },
  {
   "cell_type": "markdown",
   "metadata": {},
   "source": [
    "***Вывод:*** <br>\n",
    "- *Проявления серьёзных корреляционных связей между признаками не наблюдается, поэтому можно считать данные пригодными к дальнейшей работе.*"
   ]
  },
  {
   "cell_type": "markdown",
   "metadata": {},
   "source": [
    "*Следующие категории данных не несут в себе полезной информационной составляющей для модели и, как следствие, могут быть удалены для сокращения вычислительного времени:*\n",
    "- `DateCrawled`\n",
    "- `RegistrationMonth`\n",
    "- `DateCreated`\n",
    "- `PostalCode`\n",
    "- `LastSeen`"
   ]
  },
  {
   "cell_type": "code",
   "execution_count": 23,
   "metadata": {},
   "outputs": [],
   "source": [
    "drop_list = ['DateCrawled','RegistrationMonth','DateCreated','PostalCode','LastSeen']\n",
    "\n",
    "def drop_useless(df,category_list):\n",
    "    for category in category_list:\n",
    "        df.drop(category, axis=1, inplace = True)\n",
    "\n",
    "drop_useless(vehicles_data,drop_list)"
   ]
  },
  {
   "cell_type": "markdown",
   "metadata": {},
   "source": [
    "<div class='alert alert-success'> ✔️Хорошо, удалены неинформативные столбцы. Можно было прям список поместить в drop и сделать в один шаг.\n",
    "</div>"
   ]
  },
  {
   "cell_type": "markdown",
   "metadata": {},
   "source": [
    "### Заполнение пропусков"
   ]
  },
  {
   "cell_type": "code",
   "execution_count": 24,
   "metadata": {},
   "outputs": [
    {
     "name": "stdout",
     "output_type": "stream",
     "text": [
      "Пропуски:\n",
      "Price - 0.0%\n",
      "VehicleType - 3.73%\n",
      "RegistrationYear - 0.0%\n",
      "Gearbox - 1.82%\n",
      "Power - 0.0%\n",
      "Model - 3.78%\n",
      "Kilometer - 0.0%\n",
      "FuelType - 5.25%\n",
      "Brand - 0.0%\n",
      "NotRepaired - 14.49%\n",
      "NumberOfPictures - 0.0%\n"
     ]
    }
   ],
   "source": [
    "#Проверим сколько осталось пропущенных значений в DataFrame\n",
    "def missed_study(df):\n",
    "    print('Пропуски:')\n",
    "    for col in df.columns:\n",
    "        pct_missing = np.mean(df[col].isna())\n",
    "        print('{} - {}%'.format(col, round(pct_missing*100,2)))\n",
    "        \n",
    "missed_study(vehicles_data)"
   ]
  },
  {
   "cell_type": "markdown",
   "metadata": {},
   "source": [
    "<div class='alert alert-success'> ✔️Здесь тоже рассмотри альтернативу df.isna().mean().\n",
    "</div>"
   ]
  },
  {
   "cell_type": "code",
   "execution_count": 25,
   "metadata": {},
   "outputs": [
    {
     "name": "stdout",
     "output_type": "stream",
     "text": [
      "Cписок уникальных значений в категории: VehicleType\n",
      "['bus' 'convertible' 'coupe' 'other' 'sedan' 'small' 'suv' 'wagon' nan]\n",
      " \n",
      "Cписок уникальных значений в категории: Gearbox\n",
      "['auto' 'manual' nan]\n",
      " \n",
      "Cписок уникальных значений в категории: Model\n",
      "['100' '145' '147' '156' '159' '1_reihe' '1er' '200' '2_reihe' '300c'\n",
      " '3_reihe' '3er' '4_reihe' '500' '5_reihe' '5er' '601' '6_reihe' '6er'\n",
      " '7er' '80' '850' '90' '900' '9000' '911' 'a1' 'a2' 'a3' 'a4' 'a5' 'a6'\n",
      " 'a8' 'a_klasse' 'accord' 'agila' 'alhambra' 'almera' 'altea' 'amarok'\n",
      " 'antara' 'arosa' 'astra' 'auris' 'avensis' 'aveo' 'aygo' 'b_klasse'\n",
      " 'b_max' 'beetle' 'berlingo' 'bora' 'boxster' 'bravo' 'c1' 'c2' 'c3' 'c4'\n",
      " 'c5' 'c_klasse' 'c_max' 'c_reihe' 'caddy' 'calibra' 'captiva' 'carisma'\n",
      " 'carnival' 'cayenne' 'cc' 'ceed' 'charade' 'cherokee' 'citigo' 'civic'\n",
      " 'cl' 'clio' 'clk' 'clubman' 'colt' 'combo' 'cooper' 'cordoba' 'corolla'\n",
      " 'corsa' 'cr_reihe' 'croma' 'crossfire' 'cuore' 'cx_reihe' 'defender'\n",
      " 'delta' 'discovery' 'doblo' 'ducato' 'duster' 'e_klasse' 'elefantino'\n",
      " 'eos' 'escort' 'espace' 'exeo' 'fabia' 'fiesta' 'focus' 'forester'\n",
      " 'forfour' 'fortwo' 'fox' 'freelander' 'fusion' 'g_klasse' 'galant'\n",
      " 'galaxy' 'getz' 'gl' 'glk' 'golf' 'grand' 'i3' 'i_reihe' 'ibiza'\n",
      " 'impreza' 'insignia' 'jazz' 'jetta' 'jimny' 'juke' 'justy' 'ka' 'kadett'\n",
      " 'kaefer' 'kalina' 'kalos' 'kangoo' 'kappa' 'kuga' 'laguna' 'lancer'\n",
      " 'lanos' 'legacy' 'leon' 'lodgy' 'logan' 'lupo' 'lybra' 'm_klasse'\n",
      " 'm_reihe' 'materia' 'matiz' 'megane' 'meriva' 'micra' 'mii' 'modus'\n",
      " 'mondeo' 'move' 'musa' 'mustang' 'mx_reihe' 'navara' 'niva' 'note'\n",
      " 'nubira' 'octavia' 'omega' 'one' 'other' 'outlander' 'pajero' 'panda'\n",
      " 'passat' 'phaeton' 'picanto' 'polo' 'primera' 'ptcruiser' 'punto' 'q3'\n",
      " 'q5' 'q7' 'qashqai' 'r19' 'range_rover' 'range_rover_evoque'\n",
      " 'range_rover_sport' 'rangerover' 'rav' 'rio' 'roadster' 'roomster'\n",
      " 'rx_reihe' 's60' 's_klasse' 's_max' 's_type' 'samara' 'sandero' 'santa'\n",
      " 'scenic' 'scirocco' 'seicento' 'serie_2' 'serie_3' 'sharan' 'signum'\n",
      " 'sirion' 'sl' 'slk' 'sorento' 'spark' 'spider' 'sportage' 'sprinter'\n",
      " 'stilo' 'superb' 'swift' 'terios' 'tigra' 'tiguan' 'toledo' 'touareg'\n",
      " 'touran' 'transit' 'transporter' 'tt' 'tucson' 'twingo' 'up' 'v40' 'v50'\n",
      " 'v60' 'v70' 'v_klasse' 'vectra' 'verso' 'viano' 'vito' 'vivaro' 'voyager'\n",
      " 'wrangler' 'x_reihe' 'x_trail' 'x_type' 'xc_reihe' 'yaris' 'yeti'\n",
      " 'ypsilon' 'z_reihe' 'zafira' nan]\n",
      " \n",
      "Cписок уникальных значений в категории: FuelType\n",
      "['cng' 'electric' 'gasoline' 'hybrid' 'lpg' 'other' 'petrol' nan]\n",
      " \n",
      "Cписок уникальных значений в категории: NotRepaired\n",
      "['no' 'yes' nan]\n",
      " \n"
     ]
    }
   ],
   "source": [
    "#Проанализируем значения столбцов с пропусками\n",
    "\n",
    "def unique_data(df,column):\n",
    "    print('Cписок уникальных значений в категории:',column)\n",
    "    print(df[column].sort_values().unique())\n",
    "    print(' ')\n",
    "    \n",
    "    \n",
    "unique_data(vehicles_data,'VehicleType')\n",
    "unique_data(vehicles_data,'Gearbox')\n",
    "unique_data(vehicles_data,'Model')\n",
    "unique_data(vehicles_data,'FuelType')\n",
    "unique_data(vehicles_data,'NotRepaired')"
   ]
  },
  {
   "cell_type": "markdown",
   "metadata": {},
   "source": [
    "*Категории `VehicleType`, `Model` и `FuelType`содержат тип записи `other`* <br>\n",
    "*Категории `Gearbox` и `NotRepaired` содержат только `nan`* <br>\n",
    "<br>\n",
    "*К сожалению, в силу природы данных восстановить истинные значения этих пропусков не представляется возможным, поэтому пропуски будут заменены на значения `other` и `unknown` в соответствующих категориях.*"
   ]
  },
  {
   "cell_type": "code",
   "execution_count": 26,
   "metadata": {},
   "outputs": [],
   "source": [
    "#Заменим пропуски в колонках VehicleType, Model и FuelType на значение other\n",
    "#Заменим пропуски в колонках Gearbox и NotRepaired на значение unknown\n",
    "\n",
    "def fill_to_default (df, application_list, value):\n",
    "    for category in application_list:\n",
    "        df[category] = df[category].fillna(value)\n",
    "        \n",
    "substitute_others_list = ['VehicleType', 'Model', 'FuelType']\n",
    "substitute_unknowns_list = ['Gearbox', 'NotRepaired']\n",
    "\n",
    "fill_to_default(vehicles_data, substitute_others_list, 'other')\n",
    "fill_to_default(vehicles_data, substitute_unknowns_list, 'unknown')"
   ]
  },
  {
   "cell_type": "code",
   "execution_count": 27,
   "metadata": {},
   "outputs": [
    {
     "name": "stdout",
     "output_type": "stream",
     "text": [
      "Пропуски:\n",
      "Price - 0.0%\n",
      "VehicleType - 0.0%\n",
      "RegistrationYear - 0.0%\n",
      "Gearbox - 0.0%\n",
      "Power - 0.0%\n",
      "Model - 0.0%\n",
      "Kilometer - 0.0%\n",
      "FuelType - 0.0%\n",
      "Brand - 0.0%\n",
      "NotRepaired - 0.0%\n",
      "NumberOfPictures - 0.0%\n",
      "\n"
     ]
    },
    {
     "data": {
      "text/plain": [
       "'Размер выборки:'"
      ]
     },
     "metadata": {},
     "output_type": "display_data"
    },
    {
     "data": {
      "text/plain": [
       "(296590, 11)"
      ]
     },
     "metadata": {},
     "output_type": "display_data"
    }
   ],
   "source": [
    "missed_study(vehicles_data)\n",
    "print('')\n",
    "display('Размер выборки:',vehicles_data.shape)"
   ]
  },
  {
   "cell_type": "markdown",
   "metadata": {},
   "source": [
    "### Вывод"
   ]
  },
  {
   "cell_type": "markdown",
   "metadata": {},
   "source": [
    "***В ходе работы с данными были удалены выбросы и лишние категории, а так же заполнены пропуски.<br>\n",
    "Данные пригодны для дальнейшей работы.***"
   ]
  },
  {
   "cell_type": "markdown",
   "metadata": {},
   "source": [
    "<div class='alert alert-success'> ✔️Попробуем такой способ заполнения.\n",
    "</div>"
   ]
  },
  {
   "cell_type": "markdown",
   "metadata": {},
   "source": [
    "## Обучение моделей"
   ]
  },
  {
   "cell_type": "markdown",
   "metadata": {},
   "source": [
    "### Подготовка данных"
   ]
  },
  {
   "cell_type": "markdown",
   "metadata": {},
   "source": [
    "*По условию задачи заказчик предъявляет требования не только к качеству предсказаний, но и к времени обучения и скорости предсказаний. В этом случае не следует брать модель Случайного Леса, т.к. это самая долгая в обучении модель.* <br>\n",
    "*Из моделей для сравнения (по условию задачи) с подходящей скоростью обучения не использующих градиентный бустинг остаются: Линейная регрессия и Дерево решений.*<br>\n",
    "*В наших данных присутствует множество категориальных данных в то время, как модели используют численные данные для обучения.*<br>\n",
    "*Следовательно, нужно преобразовать все категориальные признаки в численные* <br>\n",
    "*В пройденном ранее материале, рассматривались 2 способа \"Прямого кодирования\" и \"Порядкового кодирования\"*<br>\n",
    "*В отличие от \"Порядкового кодирования\", \"Прямое кодирование\" подходит для всех видов моделей, включая логистическую регрессию. Однако, техника прямого кодирования подразумевает создание новых, численных признаков с количеством соответствующим числу уникальных значений категориальных признаков. В нашем случае число уникальных значений велико, особенно в категории `Model`. На практике это будет означать, что все модели будут работать с большим количеством признаков и скорость предсказаний будет снижена, поэтому остановимся на методе \"Прямого кодирования\" (Ordinal Encoding)* <br>"
   ]
  },
  {
   "cell_type": "markdown",
   "metadata": {},
   "source": [
    "<div class='alert alert-success'> ✔️ Рассуждения верные. С одной стороны, кодирование по OrdinalEncoder \n",
    "интерпретируется как числовой признак, между значениями которого устанавливается порядок (как если мерседес > bmw), поэтому предпочтительнее использовать one-hot. \n",
    "Однако с учетом большого количества категорий в столбцах в данном задании оправдано использовать OrdinalEncoding.\n",
    "\n",
    "</div>"
   ]
  },
  {
   "cell_type": "code",
   "execution_count": 28,
   "metadata": {},
   "outputs": [],
   "source": [
    "def data_type_split(df):\n",
    "    '''\n",
    "    Принимает на вход DataFrame\n",
    "    Формирует списки численных и категориальных признаков\n",
    "    Возвращает списки из исходного DF, сформированных по типам признаков\n",
    "    '''\n",
    "    global numerical, categorical\n",
    "    numerical = []\n",
    "    categorical = []\n",
    "     \n",
    "    numerical = list(df.select_dtypes(exclude = 'object'))\n",
    "    categorical = list(df.select_dtypes(include = 'object'))\n",
    "    return numerical, categorical"
   ]
  },
  {
   "cell_type": "code",
   "execution_count": 29,
   "metadata": {},
   "outputs": [],
   "source": [
    "def ordinal_encoding_transform(df,categories):\n",
    "    '''\n",
    "    Принимает на вход DataFrame и список категориальных признаков\n",
    "    Преобразует категориальные признаки в численные\n",
    "    Возвращает DataFrame с модифицированными признаками\n",
    "    '''\n",
    "    \n",
    "    encoder = OrdinalEncoder() \n",
    "    encoder.fit(df[categories])\n",
    "    df_ordinal = pd.DataFrame(encoder.transform(df[categories]), columns=df[categories].columns)\n",
    "    df_drop_categorical = df.drop(columns = categories).join(df_ordinal,how='inner')\n",
    "    return df_drop_categorical\n",
    "    "
   ]
  },
  {
   "cell_type": "code",
   "execution_count": 30,
   "metadata": {},
   "outputs": [],
   "source": [
    "def features_test_split(df, target_name, percentage):\n",
    "    '''\n",
    "    Принимает на вход DataFrame, название целевого признака и процент соотношения выборок\n",
    "    Отделяет целевой признак от остальных\n",
    "    Разбивает DataFrame на обучающую и тестовую выборки\n",
    "    Возвращает пары выборок: обучающая с признаками, обучающая с целевым признаком и тестовая с признаками, \\\n",
    "    тестовая с целевым признаком\n",
    "    '''\n",
    "    \n",
    "    features = df.drop(target_name, axis=1)\n",
    "    target = df[target_name]\n",
    "    \n",
    "    global features_train, features_test, target_train, target_test\n",
    "    percentage = percentage/100\n",
    "    features_train, features_test, target_train, target_test = train_test_split(\n",
    "        features, target, train_size=percentage,random_state=12345)\n",
    "    return features_train, features_test, target_train, target_test"
   ]
  },
  {
   "cell_type": "code",
   "execution_count": 31,
   "metadata": {},
   "outputs": [],
   "source": [
    "# def scaller(df, categories_list):\n",
    "#     '''\n",
    "#     Принимает на вход DataFrame и список численных категорий\n",
    "#     Проводит масштабирование числовых признаков в указанных категориях\n",
    "#     Возвращает DataFrame cо сбалансированными численными признаками    \n",
    "#     '''\n",
    "    \n",
    "#     scaler = StandardScaler()\n",
    "#     scaler.fit(df) \n",
    "#     df[categories_list] = scaler.transform(df[categories_list])\n",
    "#     return df"
   ]
  },
  {
   "cell_type": "markdown",
   "metadata": {},
   "source": [
    "<div class='alert alert-warning'>⚠️Рекомендую меньше использовать функции, так как они затрудняют нахождение ошибок, отладку и понимание кода. В то же время содержат простые операции, которые можно было оставить в ячейках.\n",
    "\n",
    "</div>"
   ]
  },
  {
   "cell_type": "markdown",
   "metadata": {},
   "source": [
    "<div class='alert alert-danger'>❌Например, если бы шкалирование происходило в отдельных ячейках, ты бы заметил, что обучаешь scaler и трансформируешь обе выборки (ниже), так как оба этапа прописаны в функции scaller. В то же время обучение scaler-а должно происходить на train выборке, так как модель о распределении параметров точек из других выборок на этапе обучения может не знать. Сделай обучение на train и трансформацию других выборок.\n",
    "\n",
    "</div>"
   ]
  },
  {
   "cell_type": "markdown",
   "metadata": {},
   "source": [
    "<div class=\"alert alert-block alert-info\">\n",
    "<b>Комментарий студента: </b> Спасибо за замечание! Только сейчас задумался о неприменимости обучения шкалирования на потенциально неизвестной выборке.<br>\n",
    "Соответствующий блок и вызов функции закомментировал, обучение и повыборочную трансформацию перенёс в блок ниже.\n",
    "</div>"
   ]
  },
  {
   "cell_type": "code",
   "execution_count": 32,
   "metadata": {},
   "outputs": [
    {
     "name": "stdout",
     "output_type": "stream",
     "text": [
      "Размер обучающей выборки: (186228, 10)\n",
      "Размер вектора целевого признака обучающей выборки: 186228\n",
      "Размер тестовой выборки: (62076, 10)\n",
      "Размер вектора целевого признака тестовой выборки: 62076\n"
     ]
    }
   ],
   "source": [
    "categories_list = data_type_split(vehicles_data) # Формируем список с названиями колонок численных и категориальных признаков.\n",
    "data = ordinal_encoding_transform(vehicles_data,categories_list[1]) # Преобразуем категориальные признаки в численные.\n",
    "features_test_split(data,'Price', 75) # Создаём обучающую и тестовые выборки.\n",
    "#numerical.remove('Price') #Удаляем целевой признак из ранее сформированного списка численных признаков\n",
    "\n",
    "#scaller(features_train,features_train.columns)\n",
    "#scaller(features_test,features_test.columns)\n",
    "scaler = StandardScaler()\n",
    "scaler.fit(features_train) \n",
    "features_train[features_train.columns] = scaler.transform(features_train[features_train.columns])\n",
    "features_test[features_test.columns] = scaler.transform(features_test[features_test.columns])\n",
    "\n",
    "print('Размер обучающей выборки:',features_train.shape)\n",
    "print('Размер вектора целевого признака обучающей выборки:',target_train.shape[0])\n",
    "print('Размер тестовой выборки:',features_test.shape)\n",
    "print('Размер вектора целевого признака тестовой выборки:',target_test.shape[0])"
   ]
  },
  {
   "cell_type": "markdown",
   "metadata": {},
   "source": [
    "<div class='alert alert-success'> ✔️Хорошо. Так как cross_val_score, GridSearchCV проводят внутреннее деление на тренировочную и валидационную выборки можно отдельно не создавать валидационную выборку. Тогда сравниваем модели на результатах кросс-валидации, а тестируем лучшую на тестовой.\n",
    "\n",
    "</div>"
   ]
  },
  {
   "cell_type": "code",
   "execution_count": 33,
   "metadata": {},
   "outputs": [],
   "source": [
    "# Создадим словарь для результатов тестирования\n",
    "rmse_list = {}"
   ]
  },
  {
   "cell_type": "markdown",
   "metadata": {},
   "source": [
    "### LinearRegression"
   ]
  },
  {
   "cell_type": "code",
   "execution_count": 34,
   "metadata": {},
   "outputs": [
    {
     "name": "stdout",
     "output_type": "stream",
     "text": [
      "RMSE LinearRegression: 3178.236\n",
      "CPU times: total: 312 ms\n",
      "Wall time: 249 ms\n"
     ]
    }
   ],
   "source": [
    "%%time\n",
    "model_lr = LinearRegression()\n",
    "rmse_lr = cross_val_score(LinearRegression(),\n",
    "                                          features_train,\n",
    "                                          target_train,\n",
    "                                          cv=5, scoring='neg_root_mean_squared_error').min()\n",
    "rmse_lr = rmse_lr *(-1)\n",
    "print(f\"RMSE LinearRegression: {rmse_lr:.3f}\")"
   ]
  },
  {
   "cell_type": "code",
   "execution_count": 35,
   "metadata": {},
   "outputs": [],
   "source": [
    "rmse_list['LinearRegression'] = [rmse_lr, 0.328, 0.304]"
   ]
  },
  {
   "cell_type": "code",
   "execution_count": 36,
   "metadata": {},
   "outputs": [
    {
     "name": "stdout",
     "output_type": "stream",
     "text": [
      "CPU times: total: 46.9 ms\n",
      "Wall time: 42 ms\n"
     ]
    },
    {
     "data": {
      "text/plain": [
       "LinearRegression()"
      ]
     },
     "execution_count": 36,
     "metadata": {},
     "output_type": "execute_result"
    }
   ],
   "source": [
    "%%time\n",
    "\n",
    "#Оценка времени работы модели (fit)\n",
    "model_linreg = LinearRegression()\n",
    "model_linreg.fit(features_train,target_train)"
   ]
  },
  {
   "cell_type": "code",
   "execution_count": 37,
   "metadata": {},
   "outputs": [
    {
     "name": "stdout",
     "output_type": "stream",
     "text": [
      ">RMSE LinearRegression:3139.504\n",
      "CPU times: total: 15.6 ms\n",
      "Wall time: 13 ms\n"
     ]
    }
   ],
   "source": [
    "%%time\n",
    "\n",
    "#Оценка времени работы модели (predict)\n",
    "predicted_linreg = model_linreg.predict(features_train)\n",
    "rmse_linreg = mean_squared_error(target_train, predicted_linreg) ** 0.5 \n",
    "\n",
    "\n",
    "print(f\">RMSE LinearRegression:{rmse_linreg:.3f}\")"
   ]
  },
  {
   "cell_type": "markdown",
   "metadata": {},
   "source": [
    "###  DecisionTreeRegressor"
   ]
  },
  {
   "cell_type": "code",
   "execution_count": 38,
   "metadata": {},
   "outputs": [
    {
     "name": "stdout",
     "output_type": "stream",
     "text": [
      "Fitting 5 folds for each of 12 candidates, totalling 60 fits\n",
      "RMSE DecisionTreeRegressor:2170.497\n",
      "CPU times: total: 1.47 s\n",
      "Wall time: 12 s\n"
     ]
    }
   ],
   "source": [
    "%%time\n",
    "\n",
    "model_dt = DecisionTreeRegressor(random_state=12345)\n",
    "tree_depth = {'max_depth': range(1,13,1)}\n",
    "\n",
    "\n",
    "model_grid = GridSearchCV(model_dt,\n",
    "                           tree_depth,\n",
    "                           cv=5, \n",
    "                           n_jobs=-1,\n",
    "                           scoring='neg_root_mean_squared_error',\n",
    "                           verbose=2)\n",
    "model_grid.fit(features_train,target_train)\n",
    "best_params = model_grid.best_params_\n",
    "best_score = model_grid.best_score_\n",
    "rmse_dt = best_score *(-1)\n",
    "\n",
    "\n",
    "print(f\"RMSE DecisionTreeRegressor:{rmse_dt:.3f}\")"
   ]
  },
  {
   "cell_type": "code",
   "execution_count": 39,
   "metadata": {},
   "outputs": [],
   "source": [
    "rmse_list['DecisionTreeRegressor'] = [rmse_dt, 1.58,11.3]"
   ]
  },
  {
   "cell_type": "code",
   "execution_count": 40,
   "metadata": {},
   "outputs": [
    {
     "name": "stdout",
     "output_type": "stream",
     "text": [
      "CPU times: total: 391 ms\n",
      "Wall time: 398 ms\n"
     ]
    },
    {
     "data": {
      "text/plain": [
       "DecisionTreeRegressor(max_depth=7, random_state=12345)"
      ]
     },
     "execution_count": 40,
     "metadata": {},
     "output_type": "execute_result"
    }
   ],
   "source": [
    "%%time\n",
    "\n",
    "#Оценка времени работы модели (fit)\n",
    "model_tree_ord = DecisionTreeRegressor(random_state=12345,max_depth = 7)\n",
    "model_tree_ord.fit(features_train,target_train)"
   ]
  },
  {
   "cell_type": "code",
   "execution_count": 41,
   "metadata": {},
   "outputs": [
    {
     "name": "stdout",
     "output_type": "stream",
     "text": [
      "RMSE DecisionTreeRegressor:2226.518\n",
      "CPU times: total: 15.6 ms\n",
      "Wall time: 18 ms\n"
     ]
    }
   ],
   "source": [
    "%%time\n",
    "\n",
    "#Оценка времени работы модели (predict)\n",
    "predicted_tree_ord = model_tree_ord.predict(features_test)\n",
    "rmse_tree_ord = (mean_squared_error(target_test, predicted_tree_ord)) ** 0.5\n",
    "\n",
    "print(f\"RMSE DecisionTreeRegressor:{rmse_tree_ord:.3f}\")"
   ]
  },
  {
   "cell_type": "markdown",
   "metadata": {},
   "source": [
    "<div class='alert alert-danger'>❌\n",
    "Хорошо, рассмотрели простые модели, еще давай измерим скорость работы (только отдельно для fit и для predict на тренировочной выборке) всех моделей и сравним. Пока у тебя где-то измерение вместе с проверками, где-то с перебором гиперпараметров.\n",
    "\n",
    "\n",
    "</div>"
   ]
  },
  {
   "cell_type": "markdown",
   "metadata": {},
   "source": [
    "<div class=\"alert alert-block alert-info\">\n",
    "<b>Комментарий студента: </b> Время работы замерял и переписал отдельно для 'fit' и 'predict' по wall time (в блоке ниже).\n",
    "</div>"
   ]
  },
  {
   "cell_type": "code",
   "execution_count": 42,
   "metadata": {},
   "outputs": [],
   "source": [
    "rmse_list['LinearRegression'] = [rmse_lr, 0.042, 0.012]\n",
    "rmse_list['DecisionTreeRegressor'] = [rmse_dt, 0.377, 0.017]"
   ]
  },
  {
   "cell_type": "markdown",
   "metadata": {},
   "source": [
    "###  LightGBM"
   ]
  },
  {
   "cell_type": "code",
   "execution_count": 43,
   "metadata": {},
   "outputs": [
    {
     "name": "stdout",
     "output_type": "stream",
     "text": [
      "Fitting 5 folds for each of 20 candidates, totalling 100 fits\n",
      "RMSE LGBMRegressor:2073.542\n",
      "CPU times: total: 39.4 s\n",
      "Wall time: 4min 38s\n"
     ]
    }
   ],
   "source": [
    "%%time\n",
    "\n",
    "model_lgbm = LGBMRegressor(\n",
    "    \n",
    "    boosting_type ='gbdt',\n",
    "    learning_rate = 0.015,\n",
    "    max_depth = 21,\n",
    "    metric = 'rmse',\n",
    "    n_estimators = 600,\n",
    "    num_leaves = 71,\n",
    "    objective = 'regression',\n",
    "    random_state = 12345,\n",
    "    verbosity = -1,\n",
    "    force_row_wise = True,\n",
    ")\n",
    "tree_depth = {'max_depth': range(1,21,1)}\n",
    "\n",
    "\n",
    "model_grid = GridSearchCV(model_lgbm,\n",
    "                           tree_depth,\n",
    "                           cv=5, \n",
    "                           n_jobs=-1,\n",
    "                           scoring='neg_root_mean_squared_error',\n",
    "                           verbose=2)\n",
    "model_grid.fit(features_train,target_train)\n",
    "best_params = model_grid.best_params_\n",
    "best_score = model_grid.best_score_\n",
    "rmse_lgbm_grid = best_score *(-1)\n",
    "\n",
    "print(f\"RMSE LGBMRegressor:{rmse_lgbm_grid:.3f}\")"
   ]
  },
  {
   "cell_type": "code",
   "execution_count": 44,
   "metadata": {},
   "outputs": [
    {
     "name": "stdout",
     "output_type": "stream",
     "text": [
      "CPU times: total: 40.6 s\n",
      "Wall time: 5.74 s\n"
     ]
    },
    {
     "data": {
      "text/plain": [
       "LGBMRegressor(force_row_wise=True, learning_rate=0.015, max_depth=21,\n",
       "              metric='rmse', n_estimators=600, num_leaves=71,\n",
       "              objective='regression', random_state=12345, verbosity=-1)"
      ]
     },
     "execution_count": 44,
     "metadata": {},
     "output_type": "execute_result"
    }
   ],
   "source": [
    "%%time\n",
    "\n",
    "#Оценка времени работы модели (fit)\n",
    "\n",
    "model_lgbm.fit(features_train, target_train)"
   ]
  },
  {
   "cell_type": "code",
   "execution_count": 45,
   "metadata": {},
   "outputs": [
    {
     "name": "stdout",
     "output_type": "stream",
     "text": [
      "RMSE LGBMRegressor:2004.171\n",
      "CPU times: total: 21.4 s\n",
      "Wall time: 2.87 s\n"
     ]
    }
   ],
   "source": [
    "%%time\n",
    "\n",
    "#Оценка времени работы модели (predict)\n",
    "predicted_lgbm = model_lgbm.predict(features_train)\n",
    "rmse_lgbm = (mean_squared_error(target_train, predicted_lgbm)) ** 0.5\n",
    "\n",
    "print(f\"RMSE LGBMRegressor:{rmse_lgbm:.3f}\")"
   ]
  },
  {
   "cell_type": "code",
   "execution_count": 47,
   "metadata": {},
   "outputs": [],
   "source": [
    "rmse_list['LightGBM'] = [rmse_lgbm_grid, 5.74, 2.78]"
   ]
  },
  {
   "cell_type": "markdown",
   "metadata": {},
   "source": [
    "### CatBoostRegressor"
   ]
  },
  {
   "cell_type": "code",
   "execution_count": 50,
   "metadata": {},
   "outputs": [
    {
     "name": "stdout",
     "output_type": "stream",
     "text": [
      "Fitting 5 folds for each of 7 candidates, totalling 35 fits\n",
      "RMSE CatBoostRegressor:2077.924\n",
      "CPU times: total: 1min 7s\n",
      "Wall time: 2min 41s\n"
     ]
    }
   ],
   "source": [
    "%%time\n",
    "\n",
    "model_cat = CatBoostRegressor(\n",
    "    max_depth = 8,\n",
    "    iterations = 510,\n",
    "    learning_rate = 0.19,\n",
    "    loss_function = 'RMSE',\n",
    "    random_state = 12345,\n",
    "    verbose = False\n",
    "    ) \n",
    "tree_depth = {'max_depth': range(1,8,1)}\n",
    "\n",
    "model_grid = GridSearchCV(model_cat,\n",
    "                           tree_depth,\n",
    "                           cv=5, \n",
    "                           n_jobs=-1,\n",
    "                           scoring='neg_root_mean_squared_error',\n",
    "                           verbose=2)\n",
    "model_grid.fit(features_train,target_train)\n",
    "best_params = model_grid.best_params_\n",
    "best_score = model_grid.best_score_\n",
    "rmse_cat_grid = best_score *(-1)\n",
    "\n",
    "print(f\"RMSE CatBoostRegressor:{rmse_cat_grid:.3f}\")"
   ]
  },
  {
   "cell_type": "code",
   "execution_count": 51,
   "metadata": {},
   "outputs": [
    {
     "name": "stdout",
     "output_type": "stream",
     "text": [
      "CPU times: total: 1min 8s\n",
      "Wall time: 10.2 s\n"
     ]
    },
    {
     "data": {
      "text/plain": [
       "<catboost.core.CatBoostRegressor at 0x1763d3e0490>"
      ]
     },
     "execution_count": 51,
     "metadata": {},
     "output_type": "execute_result"
    }
   ],
   "source": [
    "%%time\n",
    "\n",
    "#Оценка времени работы модели (fit)\n",
    "\n",
    "model_cat.fit(features_train, target_train)"
   ]
  },
  {
   "cell_type": "code",
   "execution_count": 52,
   "metadata": {},
   "outputs": [
    {
     "name": "stdout",
     "output_type": "stream",
     "text": [
      "RMSE CatBoostRegressor:1925.943\n",
      "CPU times: total: 250 ms\n",
      "Wall time: 64 ms\n"
     ]
    }
   ],
   "source": [
    "%%time\n",
    "\n",
    "#Оценка времени работы модели (predict)\n",
    "predicted_cat = model_cat.predict(features_train)\n",
    "rmse_cat = (mean_squared_error(target_train, predicted_cat)) ** 0.5\n",
    "\n",
    "print(f\"RMSE CatBoostRegressor:{rmse_cat:.3f}\")"
   ]
  },
  {
   "cell_type": "code",
   "execution_count": 53,
   "metadata": {},
   "outputs": [],
   "source": [
    "rmse_list['CatBoostRegressor'] = [rmse_cat_grid, 10.2,0.064]"
   ]
  },
  {
   "cell_type": "markdown",
   "metadata": {},
   "source": [
    "<div class='alert alert-danger'>❌\n",
    "Отлично, что проверяшь качество бутингов, но надо делать это на валидационной выборке: либо создать отдельную, либо запускать cross_val_score, GridSearchCV , как делалось для других моделей.\n",
    "\n",
    "\n",
    "</div>"
   ]
  },
  {
   "cell_type": "markdown",
   "metadata": {},
   "source": [
    "<div class=\"alert alert-block alert-info\">\n",
    "<b>Комментарий студента: </b> Добавил проверку GridSearchCV для каждой модели. Выводы скорректировал.\n",
    "</div>"
   ]
  },
  {
   "cell_type": "markdown",
   "metadata": {},
   "source": [
    "## Анализ моделей"
   ]
  },
  {
   "cell_type": "code",
   "execution_count": 54,
   "metadata": {},
   "outputs": [
    {
     "data": {
      "text/html": [
       "<div>\n",
       "<style scoped>\n",
       "    .dataframe tbody tr th:only-of-type {\n",
       "        vertical-align: middle;\n",
       "    }\n",
       "\n",
       "    .dataframe tbody tr th {\n",
       "        vertical-align: top;\n",
       "    }\n",
       "\n",
       "    .dataframe thead th {\n",
       "        text-align: right;\n",
       "    }\n",
       "</style>\n",
       "<table border=\"1\" class=\"dataframe\">\n",
       "  <thead>\n",
       "    <tr style=\"text-align: right;\">\n",
       "      <th></th>\n",
       "      <th>RMSE</th>\n",
       "      <th>Fit time</th>\n",
       "      <th>Predictions time</th>\n",
       "    </tr>\n",
       "  </thead>\n",
       "  <tbody>\n",
       "    <tr>\n",
       "      <th>LinearRegression</th>\n",
       "      <td>3178.236300</td>\n",
       "      <td>0.042</td>\n",
       "      <td>0.012</td>\n",
       "    </tr>\n",
       "    <tr>\n",
       "      <th>DecisionTreeRegressor</th>\n",
       "      <td>2170.497408</td>\n",
       "      <td>0.377</td>\n",
       "      <td>0.017</td>\n",
       "    </tr>\n",
       "    <tr>\n",
       "      <th>LightGBM</th>\n",
       "      <td>2073.541616</td>\n",
       "      <td>5.740</td>\n",
       "      <td>2.780</td>\n",
       "    </tr>\n",
       "    <tr>\n",
       "      <th>CatBoostRegressor</th>\n",
       "      <td>2077.923902</td>\n",
       "      <td>10.200</td>\n",
       "      <td>0.064</td>\n",
       "    </tr>\n",
       "  </tbody>\n",
       "</table>\n",
       "</div>"
      ],
      "text/plain": [
       "                              RMSE  Fit time  Predictions time\n",
       "LinearRegression       3178.236300     0.042             0.012\n",
       "DecisionTreeRegressor  2170.497408     0.377             0.017\n",
       "LightGBM               2073.541616     5.740             2.780\n",
       "CatBoostRegressor      2077.923902    10.200             0.064"
      ]
     },
     "execution_count": 54,
     "metadata": {},
     "output_type": "execute_result"
    }
   ],
   "source": [
    "rmse_score = pd.DataFrame.from_dict(data=rmse_list, columns=[\n",
    "    'RMSE', \n",
    "    'Fit time',\n",
    "    'Predictions time',\n",
    "    ],\n",
    "    orient='index')\n",
    "\n",
    "rmse_score"
   ]
  },
  {
   "cell_type": "markdown",
   "metadata": {},
   "source": [
    "***Вывод:*** <br>\n",
    "*Поскольку по условию задания `качество предсказания` указано первой метрикой, то будем считать, что среди полученных результатов стандартного отклонения и времени обучения модели наилучшей моделью является `Light GBM`, как модель с наименьшим стандартным отклонением, хотя и достаточно медленной.*"
   ]
  },
  {
   "cell_type": "markdown",
   "metadata": {},
   "source": [
    "### Проверка работы лучшей модели на тестовой выборке"
   ]
  },
  {
   "cell_type": "code",
   "execution_count": 56,
   "metadata": {},
   "outputs": [
    {
     "name": "stdout",
     "output_type": "stream",
     "text": [
      "RMSE CatBoostRegressor на тестовой выборке:2057.802\n",
      "CPU times: total: 4.55 s\n",
      "Wall time: 591 ms\n"
     ]
    }
   ],
   "source": [
    "%%time\n",
    "\n",
    "predicted_lgbm = model_lgbm.predict(features_test)\n",
    "rmse_lgbm = (mean_squared_error(target_test, predicted_lgbm)) ** 0.5\n",
    "\n",
    "print(f\"RMSE CatBoostRegressor на тестовой выборке:{rmse_lgbm:.3f}\")"
   ]
  },
  {
   "cell_type": "markdown",
   "metadata": {},
   "source": [
    "<div class='alert alert-success'> ✔️Отлично, что не забыл этап тестирования.\n",
    "</div>"
   ]
  },
  {
   "cell_type": "markdown",
   "metadata": {},
   "source": [
    "### Выводы:"
   ]
  },
  {
   "cell_type": "markdown",
   "metadata": {},
   "source": [
    "В ходе проделанной работы были проанализированы данные по продаже автомобилей.\n",
    "\n",
    "* Проведена предобработка данных, по итогу которой  данные были очищены от выбросов и пропусков, а так же были удалены лишние признаки.\n",
    "* Категориальные признаки были переведены в численные методом прямого кодирования.\n",
    "* По подготовленным данным были обучены для сравнения модели линейной регрессии и дерева решений:\n",
    "    - `LinearRegression`\n",
    "    - `DecisionTreeRegressor`\n",
    "*А так же две модели Бустинга:\n",
    "    - `LGBMRegressor`\n",
    "    - `CatBoostRegressor`. \n",
    "<br>\n",
    "\n",
    "*Модели обучались предсказывать стоимость а/м. Для оценки качества моделей использовалась метрика `RMSE`.*\n",
    "\n",
    "<br>\n",
    "\n",
    "* Заказчиком предъявлялись требования:\n",
    "    - *Качество предсказания*\n",
    "    - *Скорость предсказания*\n",
    "    - *Время обучения.*\n",
    "\n",
    "<br>\n",
    "\n",
    "* Самой точной оказалась модель:\n",
    "    - `Light GBM`.\n",
    "Однако, она же оказалась не самой быстрой в обучении и предсказании.\n"
   ]
  },
  {
   "cell_type": "markdown",
   "metadata": {},
   "source": [
    "<div class='alert alert-info'>🏁 Хорошая работа! Качественно исследовал и предобработал признаки, рассмотрел 4 модели, строил красивые визуализации. Осталось внести коррективы в предобработку, обучение scaler-а, проверку качества валидации, измерение времени и дать обратную связь по выделенным ячейкам.\n",
    "\n",
    "\n",
    "\n",
    "</div>"
   ]
  },
  {
   "cell_type": "markdown",
   "metadata": {},
   "source": [
    "## Чек-лист проверки"
   ]
  },
  {
   "cell_type": "markdown",
   "metadata": {},
   "source": [
    "Поставьте 'x' в выполненных пунктах. Далее нажмите Shift+Enter."
   ]
  },
  {
   "cell_type": "markdown",
   "metadata": {},
   "source": [
    "- [x]  Jupyter Notebook открыт\n",
    "- [x]  Весь код выполняется без ошибок\n",
    "- [x]  Ячейки с кодом расположены в порядке исполнения\n",
    "- [x]  Выполнена загрузка и подготовка данных\n",
    "- [x]  Выполнено обучение моделей\n",
    "- [x]  Есть анализ скорости работы и качества моделей"
   ]
  }
 ],
 "metadata": {
  "ExecuteTimeLog": [
   {
    "duration": 1399,
    "start_time": "2022-06-01T03:52:50.653Z"
   },
   {
    "duration": 1089,
    "start_time": "2022-06-01T03:53:02.501Z"
   },
   {
    "duration": 4,
    "start_time": "2022-06-01T03:53:11.690Z"
   },
   {
    "duration": 111,
    "start_time": "2022-06-01T03:53:19.011Z"
   },
   {
    "duration": 9,
    "start_time": "2022-06-01T03:53:22.732Z"
   },
   {
    "duration": 751,
    "start_time": "2022-06-01T03:53:39.296Z"
   },
   {
    "duration": 3,
    "start_time": "2022-06-01T03:53:41.115Z"
   },
   {
    "duration": 1050,
    "start_time": "2022-06-01T03:53:42.043Z"
   },
   {
    "duration": 539,
    "start_time": "2022-06-01T03:53:47.521Z"
   },
   {
    "duration": 916,
    "start_time": "2022-06-01T03:55:10.482Z"
   },
   {
    "duration": 42,
    "start_time": "2022-06-01T03:55:17.386Z"
   },
   {
    "duration": 697,
    "start_time": "2022-06-01T03:55:34.459Z"
   },
   {
    "duration": 13,
    "start_time": "2022-06-01T03:55:51.509Z"
   },
   {
    "duration": 22,
    "start_time": "2022-06-01T03:55:52.824Z"
   },
   {
    "duration": 41,
    "start_time": "2022-06-01T03:56:08.931Z"
   },
   {
    "duration": 23,
    "start_time": "2022-06-01T03:56:15.689Z"
   },
   {
    "duration": 24,
    "start_time": "2022-06-01T03:56:17.179Z"
   },
   {
    "duration": 43,
    "start_time": "2022-06-01T03:56:21.887Z"
   },
   {
    "duration": 6,
    "start_time": "2022-06-01T03:56:48.167Z"
   },
   {
    "duration": 16,
    "start_time": "2022-06-01T03:56:50.458Z"
   },
   {
    "duration": 48,
    "start_time": "2022-06-01T03:57:06.305Z"
   },
   {
    "duration": 508,
    "start_time": "2022-06-01T03:57:09.811Z"
   },
   {
    "duration": 32166,
    "start_time": "2022-06-01T03:57:15.832Z"
   },
   {
    "duration": 134,
    "start_time": "2022-06-01T04:00:07.870Z"
   },
   {
    "duration": 74,
    "start_time": "2022-06-01T04:00:46.663Z"
   },
   {
    "duration": 76,
    "start_time": "2022-06-01T04:02:59.947Z"
   },
   {
    "duration": 81,
    "start_time": "2022-06-01T04:03:00.659Z"
   },
   {
    "duration": 4,
    "start_time": "2022-06-01T04:05:34.430Z"
   },
   {
    "duration": 5,
    "start_time": "2022-06-01T04:15:06.071Z"
   },
   {
    "duration": 871,
    "start_time": "2022-06-01T04:15:06.079Z"
   },
   {
    "duration": 3,
    "start_time": "2022-06-01T04:15:06.952Z"
   },
   {
    "duration": 1059,
    "start_time": "2022-06-01T04:15:06.957Z"
   },
   {
    "duration": 548,
    "start_time": "2022-06-01T04:15:08.018Z"
   },
   {
    "duration": 949,
    "start_time": "2022-06-01T04:15:08.567Z"
   },
   {
    "duration": 44,
    "start_time": "2022-06-01T04:15:09.518Z"
   },
   {
    "duration": 675,
    "start_time": "2022-06-01T04:15:09.564Z"
   },
   {
    "duration": 12,
    "start_time": "2022-06-01T04:15:10.241Z"
   },
   {
    "duration": 23,
    "start_time": "2022-06-01T04:15:10.254Z"
   },
   {
    "duration": 58,
    "start_time": "2022-06-01T04:15:10.278Z"
   },
   {
    "duration": 22,
    "start_time": "2022-06-01T04:15:10.338Z"
   },
   {
    "duration": 23,
    "start_time": "2022-06-01T04:15:10.363Z"
   },
   {
    "duration": 71,
    "start_time": "2022-06-01T04:15:10.387Z"
   },
   {
    "duration": 6,
    "start_time": "2022-06-01T04:15:10.460Z"
   },
   {
    "duration": 27,
    "start_time": "2022-06-01T04:15:10.467Z"
   },
   {
    "duration": 49,
    "start_time": "2022-06-01T04:15:10.495Z"
   },
   {
    "duration": 546,
    "start_time": "2022-06-01T04:15:10.545Z"
   },
   {
    "duration": 32704,
    "start_time": "2022-06-01T04:15:11.092Z"
   },
   {
    "duration": 163,
    "start_time": "2022-06-01T04:15:43.798Z"
   },
   {
    "duration": 82,
    "start_time": "2022-06-01T04:15:43.963Z"
   },
   {
    "duration": 1159,
    "start_time": "2022-06-01T04:15:44.047Z"
   },
   {
    "duration": 91,
    "start_time": "2022-06-01T04:15:45.208Z"
   },
   {
    "duration": 88,
    "start_time": "2022-06-01T04:15:45.301Z"
   },
   {
    "duration": 3,
    "start_time": "2022-06-01T04:15:45.391Z"
   },
   {
    "duration": 9,
    "start_time": "2022-06-01T04:15:45.395Z"
   },
   {
    "duration": 8,
    "start_time": "2022-06-01T04:15:45.405Z"
   },
   {
    "duration": 20,
    "start_time": "2022-06-01T04:15:45.414Z"
   },
   {
    "duration": 1088,
    "start_time": "2022-06-01T04:15:45.435Z"
   },
   {
    "duration": 4,
    "start_time": "2022-06-01T04:16:06.199Z"
   },
   {
    "duration": 16,
    "start_time": "2022-06-01T04:17:13.284Z"
   },
   {
    "duration": 4,
    "start_time": "2022-06-01T04:18:07.128Z"
   },
   {
    "duration": 5,
    "start_time": "2022-06-01T04:18:13.509Z"
   },
   {
    "duration": 2,
    "start_time": "2022-06-01T04:18:18.427Z"
   }
  ],
  "kernelspec": {
   "display_name": "Python 3 (ipykernel)",
   "language": "python",
   "name": "python3"
  },
  "language_info": {
   "codemirror_mode": {
    "name": "ipython",
    "version": 3
   },
   "file_extension": ".py",
   "mimetype": "text/x-python",
   "name": "python",
   "nbconvert_exporter": "python",
   "pygments_lexer": "ipython3",
   "version": "3.9.12"
  },
  "toc": {
   "base_numbering": 1,
   "nav_menu": {},
   "number_sections": true,
   "sideBar": true,
   "skip_h1_title": true,
   "title_cell": "Содержание",
   "title_sidebar": "Contents",
   "toc_cell": true,
   "toc_position": {
    "height": "calc(100% - 180px)",
    "left": "10px",
    "top": "150px",
    "width": "279.188px"
   },
   "toc_section_display": true,
   "toc_window_display": true
  }
 },
 "nbformat": 4,
 "nbformat_minor": 2
}
