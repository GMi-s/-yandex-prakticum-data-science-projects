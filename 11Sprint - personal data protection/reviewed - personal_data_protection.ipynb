{
 "cells": [
  {
   "cell_type": "markdown",
   "metadata": {},
   "source": [
    "<div style=\"background: #cceeaa; padding: 5px; border: 1px solid green; border-radius: 5px;\">\n",
    "    <font color='green'> <b><u>КОММЕНТАРИЙ РЕВЬЮЕРА</u></b>\n",
    "\n",
    "Михаил, доброго дня! рад приветствовать тебя) <br />\n",
    "(А дальше - шаблонная часть, как можно заметить по другим спринтам)<br>\n",
    "<br />\n",
    "Меня зовут Николай Шавлюго. <br />И на этом этапе твоего движения к новой профессии от меня будут комментарии по написанному коду. <br />Чтобы меньше \"мусорить эфир\" и чтобы максимально наглядно отделяться от основного кода, есть предложение условиться в некоторых обозначениях:<br /> <br />\n",
    "<u><b>ТАКОЙ ШРИФТ</b></u> - всегда начало комментария <br />\n",
    "<font color='green'>такой шрифт</font> - комментарии о том, что всё ОК <br/>\n",
    "<font color='orange'>такой шрифт</font> - комментарии о том, что всё ОК по результату,<br> однако есть на что обратить внимание в плане применения техник, или есть способы сделать более короткий или быстрый код <br/>\n",
    "<font color='red'>такой шрифт</font> - комментарии о том, что есть критичный момент, влияющий на бизнес-результат проекта.<br/>\n",
    "</font><br /><br />\n",
    "<font color='green'>Моей целью является не \"уличить\" в не знании, а просто высказать сверху твоих знаний - свой опыт, что бы тебе использовать его для своего дальнейшего успеха) И очень здорово будет, если удастся задавать вопросы, да и вообще - всячески доставать меня, если я по каким-то причинам не приму проект:) При этом, из своего опыта скажу, хорошо и важно, когда переписка ревьюера и студента - сохраняется на следующие проекты и даже на будущую практическую деятельность.<br>\n",
    "<BR> В ПУТЬ!<br>"
   ]
  },
  {
   "cell_type": "markdown",
   "metadata": {},
   "source": [
    "<div style=\"background: #ADD8E6; padding: 5px; border: 1px \tsolid blue; border-radius: 5px;\">\n",
    "    <font color='#00008B'> <b><u>КОММЕНТАРИЙ СТУДЕНТА</u></b>\n",
    "\n",
    "Добрый день, Николай! <br />\n",
    "\n",
    "У меня вопросов нет. Спасибо большое за проверку!<br>  \n",
    "        "
   ]
  },
  {
   "cell_type": "markdown",
   "metadata": {
    "toc": true
   },
   "source": [
    "<h1>Содержание<span class=\"tocSkip\"></span></h1>\n",
    "<div class=\"toc\"><ul class=\"toc-item\"><li><span><a href=\"#Загрузка-данных\" data-toc-modified-id=\"Загрузка-данных-1\"><span class=\"toc-item-num\">1&nbsp;&nbsp;</span>Загрузка данных</a></span><ul class=\"toc-item\"><li><span><a href=\"#Импорт-библиотек\" data-toc-modified-id=\"Импорт-библиотек-1.1\"><span class=\"toc-item-num\">1.1&nbsp;&nbsp;</span>Импорт библиотек</a></span></li><li><span><a href=\"#Чтение-данных\" data-toc-modified-id=\"Чтение-данных-1.2\"><span class=\"toc-item-num\">1.2&nbsp;&nbsp;</span>Чтение данных</a></span></li><li><span><a href=\"#Сводка-по-данным\" data-toc-modified-id=\"Сводка-по-данным-1.3\"><span class=\"toc-item-num\">1.3&nbsp;&nbsp;</span>Сводка по данным</a></span></li></ul></li><li><span><a href=\"#Умножение-матриц\" data-toc-modified-id=\"Умножение-матриц-2\"><span class=\"toc-item-num\">2&nbsp;&nbsp;</span>Умножение матриц</a></span></li><li><span><a href=\"#Алгоритм-преобразования\" data-toc-modified-id=\"Алгоритм-преобразования-3\"><span class=\"toc-item-num\">3&nbsp;&nbsp;</span>Алгоритм преобразования</a></span></li><li><span><a href=\"#Проверка-алгоритма\" data-toc-modified-id=\"Проверка-алгоритма-4\"><span class=\"toc-item-num\">4&nbsp;&nbsp;</span>Проверка алгоритма</a></span><ul class=\"toc-item\"><li><span><a href=\"#Выделение-признаков\" data-toc-modified-id=\"Выделение-признаков-4.1\"><span class=\"toc-item-num\">4.1&nbsp;&nbsp;</span>Выделение признаков</a></span></li><li><span><a href=\"#Создание-модели-линейной-регрессии\" data-toc-modified-id=\"Создание-модели-линейной-регрессии-4.2\"><span class=\"toc-item-num\">4.2&nbsp;&nbsp;</span>Создание модели линейной регрессии</a></span></li><li><span><a href=\"#Обучение-модели-на-исходных-данных\" data-toc-modified-id=\"Обучение-модели-на-исходных-данных-4.3\"><span class=\"toc-item-num\">4.3&nbsp;&nbsp;</span>Обучение модели на исходных данных</a></span></li><li><span><a href=\"#Обучение-модели-на-модифицированных-данных\" data-toc-modified-id=\"Обучение-модели-на-модифицированных-данных-4.4\"><span class=\"toc-item-num\">4.4&nbsp;&nbsp;</span>Обучение модели на модифицированных данных</a></span></li><li><span><a href=\"#Вывод:\" data-toc-modified-id=\"Вывод:-4.5\"><span class=\"toc-item-num\">4.5&nbsp;&nbsp;</span>Вывод:</a></span></li></ul></li><li><span><a href=\"#Чек-лист-проверки\" data-toc-modified-id=\"Чек-лист-проверки-5\"><span class=\"toc-item-num\">5&nbsp;&nbsp;</span>Чек-лист проверки</a></span></li></ul></div>"
   ]
  },
  {
   "cell_type": "markdown",
   "metadata": {},
   "source": [
    "# Яндекс. Защита персональных данных клиентов"
   ]
  },
  {
   "cell_type": "markdown",
   "metadata": {},
   "source": [
    "Вам нужно защитить данные клиентов страховой компании «Хоть потоп». Разработайте такой метод преобразования данных, чтобы по ним было сложно восстановить персональную информацию. Обоснуйте корректность его работы.\n",
    "\n",
    "Нужно защитить данные, чтобы при преобразовании качество моделей машинного обучения не ухудшилось. Подбирать наилучшую модель не требуется."
   ]
  },
  {
   "cell_type": "markdown",
   "metadata": {},
   "source": [
    "## Загрузка данных"
   ]
  },
  {
   "cell_type": "markdown",
   "metadata": {},
   "source": [
    "### Импорт библиотек"
   ]
  },
  {
   "cell_type": "code",
   "execution_count": 1,
   "metadata": {},
   "outputs": [],
   "source": [
    "import pandas as pd\n",
    "import numpy as np\n",
    "import matplotlib.pyplot as plt\n",
    "import seaborn as sns\n",
    "import warnings\n",
    "from sklearn.metrics import r2_score\n",
    "\n",
    "from numpy import allclose\n",
    "import os\n",
    "\n",
    "from sklearn.linear_model import LinearRegression\n",
    "from sklearn.metrics import r2_score\n",
    "\n",
    "from IPython.display import HTML\n",
    "from IPython.display import display_html\n",
    "\n",
    "from IPython.display import display, Math, Latex\n",
    "from sklearn.model_selection import train_test_split, GridSearchCV, cross_val_score,cross_validate,RandomizedSearchCV\n",
    "\n",
    "\n",
    "pd.set_option('display.max_columns', None)         # Снимем ограничение на количество показываемых столбцов\n",
    "pd.options.mode.chained_assignment = None          # Скрываем предупреждение при масшатбировании\n",
    "warnings.filterwarnings('ignore')                  # Игнорируем предупреждения"
   ]
  },
  {
   "cell_type": "markdown",
   "metadata": {},
   "source": [
    "### Чтение данных"
   ]
  },
  {
   "cell_type": "code",
   "execution_count": 2,
   "metadata": {},
   "outputs": [],
   "source": [
    "try:\n",
    "    insurance_data = pd.read_csv('insurance.csv',sep=',')\n",
    "    \n",
    "except:\n",
    "    insurance_data = pd.read_csv('/datasets/insurance.csv',sep=',')"
   ]
  },
  {
   "cell_type": "markdown",
   "metadata": {},
   "source": [
    "### Сводка по данным"
   ]
  },
  {
   "cell_type": "code",
   "execution_count": 3,
   "metadata": {},
   "outputs": [],
   "source": [
    "def data_info (df):\n",
    "    '''\n",
    "    Сводка по данным\n",
    "    '''\n",
    "    display(df.sample(10))\n",
    "    print('Общая информация:')\n",
    "    display(df.info())\n",
    "    print('Общая статистика:')\n",
    "    display(df.describe())\n",
    "    print('Дубликаты:')\n",
    "    display(df.duplicated().sum())\n",
    "    print('Пропуски:')\n",
    "    for col in df.columns:\n",
    "        pct_missing = np.mean(df[col].isna())\n",
    "        print('{} - {}%'.format(col, round(pct_missing*100,2)))"
   ]
  },
  {
   "cell_type": "code",
   "execution_count": 4,
   "metadata": {},
   "outputs": [
    {
     "data": {
      "text/html": [
       "<div>\n",
       "<style scoped>\n",
       "    .dataframe tbody tr th:only-of-type {\n",
       "        vertical-align: middle;\n",
       "    }\n",
       "\n",
       "    .dataframe tbody tr th {\n",
       "        vertical-align: top;\n",
       "    }\n",
       "\n",
       "    .dataframe thead th {\n",
       "        text-align: right;\n",
       "    }\n",
       "</style>\n",
       "<table border=\"1\" class=\"dataframe\">\n",
       "  <thead>\n",
       "    <tr style=\"text-align: right;\">\n",
       "      <th></th>\n",
       "      <th>Пол</th>\n",
       "      <th>Возраст</th>\n",
       "      <th>Зарплата</th>\n",
       "      <th>Члены семьи</th>\n",
       "      <th>Страховые выплаты</th>\n",
       "    </tr>\n",
       "  </thead>\n",
       "  <tbody>\n",
       "    <tr>\n",
       "      <th>14</th>\n",
       "      <td>0</td>\n",
       "      <td>40.0</td>\n",
       "      <td>43700.0</td>\n",
       "      <td>1</td>\n",
       "      <td>0</td>\n",
       "    </tr>\n",
       "    <tr>\n",
       "      <th>2571</th>\n",
       "      <td>0</td>\n",
       "      <td>23.0</td>\n",
       "      <td>25100.0</td>\n",
       "      <td>0</td>\n",
       "      <td>0</td>\n",
       "    </tr>\n",
       "    <tr>\n",
       "      <th>1966</th>\n",
       "      <td>1</td>\n",
       "      <td>39.0</td>\n",
       "      <td>18900.0</td>\n",
       "      <td>0</td>\n",
       "      <td>0</td>\n",
       "    </tr>\n",
       "    <tr>\n",
       "      <th>31</th>\n",
       "      <td>1</td>\n",
       "      <td>40.0</td>\n",
       "      <td>30300.0</td>\n",
       "      <td>0</td>\n",
       "      <td>0</td>\n",
       "    </tr>\n",
       "    <tr>\n",
       "      <th>3479</th>\n",
       "      <td>0</td>\n",
       "      <td>33.0</td>\n",
       "      <td>23300.0</td>\n",
       "      <td>1</td>\n",
       "      <td>0</td>\n",
       "    </tr>\n",
       "    <tr>\n",
       "      <th>2690</th>\n",
       "      <td>0</td>\n",
       "      <td>35.0</td>\n",
       "      <td>46300.0</td>\n",
       "      <td>1</td>\n",
       "      <td>0</td>\n",
       "    </tr>\n",
       "    <tr>\n",
       "      <th>1104</th>\n",
       "      <td>0</td>\n",
       "      <td>31.0</td>\n",
       "      <td>31400.0</td>\n",
       "      <td>0</td>\n",
       "      <td>0</td>\n",
       "    </tr>\n",
       "    <tr>\n",
       "      <th>2706</th>\n",
       "      <td>1</td>\n",
       "      <td>38.0</td>\n",
       "      <td>35100.0</td>\n",
       "      <td>1</td>\n",
       "      <td>0</td>\n",
       "    </tr>\n",
       "    <tr>\n",
       "      <th>1712</th>\n",
       "      <td>0</td>\n",
       "      <td>26.0</td>\n",
       "      <td>35900.0</td>\n",
       "      <td>1</td>\n",
       "      <td>0</td>\n",
       "    </tr>\n",
       "    <tr>\n",
       "      <th>4623</th>\n",
       "      <td>0</td>\n",
       "      <td>41.0</td>\n",
       "      <td>7400.0</td>\n",
       "      <td>0</td>\n",
       "      <td>0</td>\n",
       "    </tr>\n",
       "  </tbody>\n",
       "</table>\n",
       "</div>"
      ],
      "text/plain": [
       "      Пол  Возраст  Зарплата  Члены семьи  Страховые выплаты\n",
       "14      0     40.0   43700.0            1                  0\n",
       "2571    0     23.0   25100.0            0                  0\n",
       "1966    1     39.0   18900.0            0                  0\n",
       "31      1     40.0   30300.0            0                  0\n",
       "3479    0     33.0   23300.0            1                  0\n",
       "2690    0     35.0   46300.0            1                  0\n",
       "1104    0     31.0   31400.0            0                  0\n",
       "2706    1     38.0   35100.0            1                  0\n",
       "1712    0     26.0   35900.0            1                  0\n",
       "4623    0     41.0    7400.0            0                  0"
      ]
     },
     "metadata": {},
     "output_type": "display_data"
    },
    {
     "name": "stdout",
     "output_type": "stream",
     "text": [
      "Общая информация:\n",
      "<class 'pandas.core.frame.DataFrame'>\n",
      "RangeIndex: 5000 entries, 0 to 4999\n",
      "Data columns (total 5 columns):\n",
      " #   Column             Non-Null Count  Dtype  \n",
      "---  ------             --------------  -----  \n",
      " 0   Пол                5000 non-null   int64  \n",
      " 1   Возраст            5000 non-null   float64\n",
      " 2   Зарплата           5000 non-null   float64\n",
      " 3   Члены семьи        5000 non-null   int64  \n",
      " 4   Страховые выплаты  5000 non-null   int64  \n",
      "dtypes: float64(2), int64(3)\n",
      "memory usage: 195.4 KB\n"
     ]
    },
    {
     "data": {
      "text/plain": [
       "None"
      ]
     },
     "metadata": {},
     "output_type": "display_data"
    },
    {
     "name": "stdout",
     "output_type": "stream",
     "text": [
      "Общая статистика:\n"
     ]
    },
    {
     "data": {
      "text/html": [
       "<div>\n",
       "<style scoped>\n",
       "    .dataframe tbody tr th:only-of-type {\n",
       "        vertical-align: middle;\n",
       "    }\n",
       "\n",
       "    .dataframe tbody tr th {\n",
       "        vertical-align: top;\n",
       "    }\n",
       "\n",
       "    .dataframe thead th {\n",
       "        text-align: right;\n",
       "    }\n",
       "</style>\n",
       "<table border=\"1\" class=\"dataframe\">\n",
       "  <thead>\n",
       "    <tr style=\"text-align: right;\">\n",
       "      <th></th>\n",
       "      <th>Пол</th>\n",
       "      <th>Возраст</th>\n",
       "      <th>Зарплата</th>\n",
       "      <th>Члены семьи</th>\n",
       "      <th>Страховые выплаты</th>\n",
       "    </tr>\n",
       "  </thead>\n",
       "  <tbody>\n",
       "    <tr>\n",
       "      <th>count</th>\n",
       "      <td>5000.000000</td>\n",
       "      <td>5000.000000</td>\n",
       "      <td>5000.000000</td>\n",
       "      <td>5000.000000</td>\n",
       "      <td>5000.000000</td>\n",
       "    </tr>\n",
       "    <tr>\n",
       "      <th>mean</th>\n",
       "      <td>0.499000</td>\n",
       "      <td>30.952800</td>\n",
       "      <td>39916.360000</td>\n",
       "      <td>1.194200</td>\n",
       "      <td>0.148000</td>\n",
       "    </tr>\n",
       "    <tr>\n",
       "      <th>std</th>\n",
       "      <td>0.500049</td>\n",
       "      <td>8.440807</td>\n",
       "      <td>9900.083569</td>\n",
       "      <td>1.091387</td>\n",
       "      <td>0.463183</td>\n",
       "    </tr>\n",
       "    <tr>\n",
       "      <th>min</th>\n",
       "      <td>0.000000</td>\n",
       "      <td>18.000000</td>\n",
       "      <td>5300.000000</td>\n",
       "      <td>0.000000</td>\n",
       "      <td>0.000000</td>\n",
       "    </tr>\n",
       "    <tr>\n",
       "      <th>25%</th>\n",
       "      <td>0.000000</td>\n",
       "      <td>24.000000</td>\n",
       "      <td>33300.000000</td>\n",
       "      <td>0.000000</td>\n",
       "      <td>0.000000</td>\n",
       "    </tr>\n",
       "    <tr>\n",
       "      <th>50%</th>\n",
       "      <td>0.000000</td>\n",
       "      <td>30.000000</td>\n",
       "      <td>40200.000000</td>\n",
       "      <td>1.000000</td>\n",
       "      <td>0.000000</td>\n",
       "    </tr>\n",
       "    <tr>\n",
       "      <th>75%</th>\n",
       "      <td>1.000000</td>\n",
       "      <td>37.000000</td>\n",
       "      <td>46600.000000</td>\n",
       "      <td>2.000000</td>\n",
       "      <td>0.000000</td>\n",
       "    </tr>\n",
       "    <tr>\n",
       "      <th>max</th>\n",
       "      <td>1.000000</td>\n",
       "      <td>65.000000</td>\n",
       "      <td>79000.000000</td>\n",
       "      <td>6.000000</td>\n",
       "      <td>5.000000</td>\n",
       "    </tr>\n",
       "  </tbody>\n",
       "</table>\n",
       "</div>"
      ],
      "text/plain": [
       "               Пол      Возраст      Зарплата  Члены семьи  Страховые выплаты\n",
       "count  5000.000000  5000.000000   5000.000000  5000.000000        5000.000000\n",
       "mean      0.499000    30.952800  39916.360000     1.194200           0.148000\n",
       "std       0.500049     8.440807   9900.083569     1.091387           0.463183\n",
       "min       0.000000    18.000000   5300.000000     0.000000           0.000000\n",
       "25%       0.000000    24.000000  33300.000000     0.000000           0.000000\n",
       "50%       0.000000    30.000000  40200.000000     1.000000           0.000000\n",
       "75%       1.000000    37.000000  46600.000000     2.000000           0.000000\n",
       "max       1.000000    65.000000  79000.000000     6.000000           5.000000"
      ]
     },
     "metadata": {},
     "output_type": "display_data"
    },
    {
     "name": "stdout",
     "output_type": "stream",
     "text": [
      "Дубликаты:\n"
     ]
    },
    {
     "data": {
      "text/plain": [
       "153"
      ]
     },
     "metadata": {},
     "output_type": "display_data"
    },
    {
     "name": "stdout",
     "output_type": "stream",
     "text": [
      "Пропуски:\n",
      "Пол - 0.0%\n",
      "Возраст - 0.0%\n",
      "Зарплата - 0.0%\n",
      "Члены семьи - 0.0%\n",
      "Страховые выплаты - 0.0%\n"
     ]
    }
   ],
   "source": [
    "data_info(insurance_data)"
   ]
  },
  {
   "cell_type": "markdown",
   "metadata": {},
   "source": [
    "*Удалим дубликаты, чтобы они не повлияли на дальнейшую работу модели*"
   ]
  },
  {
   "cell_type": "code",
   "execution_count": 5,
   "metadata": {},
   "outputs": [
    {
     "name": "stdout",
     "output_type": "stream",
     "text": [
      "Duplicated row number: 0\n",
      "Size: 4847x5\n"
     ]
    }
   ],
   "source": [
    "insurance_data = insurance_data.drop_duplicates()\n",
    "insurance_data = insurance_data.reset_index(drop = True)\n",
    "print(f'Duplicated row number: {insurance_data.duplicated().sum()}')\n",
    "print(f'Size: {insurance_data.shape[0]}x{insurance_data.shape[1]}')"
   ]
  },
  {
   "cell_type": "code",
   "execution_count": 6,
   "metadata": {},
   "outputs": [
    {
     "name": "stdout",
     "output_type": "stream",
     "text": [
      "CPU times: user 168 ms, sys: 72.4 ms, total: 241 ms\n",
      "Wall time: 213 ms\n"
     ]
    },
    {
     "data": {
      "text/plain": [
       "<AxesSubplot:>"
      ]
     },
     "execution_count": 6,
     "metadata": {},
     "output_type": "execute_result"
    },
    {
     "data": {
      "image/png": "[encoded data removed]",
      "text/plain": [
       "<Figure size 576x360 with 2 Axes>"
      ]
     },
     "metadata": {
      "needs_background": "light"
     },
     "output_type": "display_data"
    }
   ],
   "source": [
    "%%time\n",
    "\n",
    "# Построим heatmap корреляцию\n",
    "\n",
    "corr_value = round(insurance_data.corr()*100,2)\n",
    "plt.rcParams[\"figure.figsize\"] = (8,5)\n",
    "sns.heatmap(corr_value, annot=True, cbar_kws={\"orientation\": \"vertical\"})"
   ]
  },
  {
   "cell_type": "markdown",
   "metadata": {},
   "source": [
    "**Вывод:** <br>\n",
    "\n",
    "- *Данные содержат 5000 строк и 5 столбцов* <br>\n",
    "- *Данные включают в себя 4 столбца признаков (`Пол`, `Возраст`, `Зарплата`, `Члены семьи`)* \n",
    "- *Один целевой признак `Страховые` выплаты* <br>\n",
    "- *Данные не содержат пропусков* <br>\n",
    "- *В данных содержат 153 дубликата (были удалены)* <br>\n",
    "- *Прослеживается умеренная корреляция между категориями `Возраст` и `Страховые выплаты`*<br>\n",
    "- *В имеющемся виде данные готовы к последующей работе с ними* <br>"
   ]
  },
  {
   "cell_type": "markdown",
   "metadata": {},
   "source": [
    "<div style=\"background: #cceeaa; padding: 5px; border: 1px solid green; border-radius: 5px;\">\n",
    "    <font color='green'> <b><u>КОММЕНТАРИЙ РЕВЬЮЕРА</u></b>\n",
    "</font>\n",
    "<font color='green'><br>\n",
    "Данные на базе) ОК, хорошо, когда есть аналитическая культура - обязательно делать первичный анализ данных, не смотря на проект)<br>\n",
    "Отмечу только такой момент по использованию корреляций СПИРМЕНА/ ПИРСОНА<br>\n",
    "Этот инструмент - исключительно для данных в количественной шкале!!!!<br>\n",
    "Т.е. пол  и зарплату (например) - корреляцию не посмотреть. Т.к. Одна величина - номинальная (в виде 0 и 1, т.е. да/нет можно сказать), другая количественная. Поэтому для таких ситуаций подойдёт другая техника - сравнение групп (из темы \"проверка гипотез\" спринт 4, например).<br><br>"
   ]
  },
  {
   "cell_type": "markdown",
   "metadata": {},
   "source": [
    "## Умножение матриц"
   ]
  },
  {
   "cell_type": "markdown",
   "metadata": {},
   "source": [
    "Обозначения:\n",
    "\n",
    "- $X$ — матрица признаков (нулевой столбец состоит из единиц)\n",
    "\n",
    "- $y$ — вектор целевого признака\n",
    "\n",
    "- $P$ — матрица, на которую умножаются признаки\n",
    "\n",
    "- $w$ — вектор весов линейной регрессии (нулевой элемент равен сдвигу)"
   ]
  },
  {
   "cell_type": "markdown",
   "metadata": {},
   "source": [
    "Предсказания:\n",
    "\n",
    "$$\n",
    "a = Xw\n",
    "$$\n",
    "\n",
    "Задача обучения:\n",
    "\n",
    "$$\n",
    "w = \\arg\\min_w MSE(Xw, y)\n",
    "$$\n",
    "\n",
    "Формула обучения:\n",
    "\n",
    "$$\n",
    "w = (X^T X)^{-1} X^T y\n",
    "$$\n",
    "\n",
    "<br>\n",
    "\n",
    "<div style=\"text-align: center\"> <i>По условию задачи умножим признаки на обратимую матрицу и проверим решение. Пусть:<i> <br> \n",
    "        $$Хm=XP$$ \n",
    "    </div>\n",
    "\n",
    "<br>\n",
    "    \n",
    "<div style=\"text-align: center\"> <i>Тогда:<i> <br> \n",
    "    </div>    \n",
    "$$\n",
    "w_{m} = ((XP)^T XP)^{-1} (XP)^T y\n",
    "$$\n",
    "\n",
    "$$\n",
    "w_{m} = ((P^TX^T)(XP))^{-1} (P^TX^T) y\n",
    "$$    \n",
    "    \n",
    "$$\n",
    "w_{m} = (P^T((X^TX)P))^{-1} (P^TX^T) y\n",
    "$$\n",
    "\n",
    "$$\n",
    "w_{m} = ((X^TX)P)^{-1}(P^T)^{-1}(P^TX^T)y\n",
    "$$\n",
    "\n",
    "$$\n",
    "w_{m} = P^{-1}(X^TX)^{-1}((P^T)^{-1}(P^T))X^T y\n",
    "$$\n",
    "    \n",
    "$$\n",
    "w_{m} = P^{-1}(X^TX)^{-1}X^T y\n",
    "$$\n",
    "\n",
    "<br>\n",
    "<div style=\"text-align: center\"> <i>Поскольку мы знаем, что:<i> <br> \n",
    "        $$w = (X^T X)^{-1} X^T y$$ \n",
    "    </div>\n",
    "    \n",
    "<br>    \n",
    "<div style=\"text-align: center\"> <i>Тогда:<i> <br> \n",
    "    </div>    \n",
    "$$\n",
    "w_{m} = P^{-1}w\n",
    "$$\n",
    "<br>\n",
    "<div style=\"text-align: center\"> <i>Наёдем предсказания, воспользовавшись известной ранее формулой:<i> <br> \n",
    "        $$a = Xw$$ \n",
    "    </div>\n",
    "    \n",
    "<br>    \n",
    "<div style=\"text-align: center\"> <i>В нашем случае предсказания будут вычисляться, как:<i> <br> \n",
    "    $$a_{m} = X_{m}w_{m}$$\n",
    "    </div> \n",
    "<br>    \n",
    "<div style=\"text-align: center\"> <i>где, по условию задачи:<i> <br> \n",
    "    $$X_{m} = XP$$\n",
    "    </div>\n",
    "<br>    \n",
    "<div style=\"text-align: center\"> <i>Тогда:<i> <br> \n",
    "    $$a_{m}=XPw_{m}$$\n",
    "    </div>\n",
    "<br>    \n",
    "<div style=\"text-align: center\"> <i>где, как мы вычислили ранее:<i> <br> \n",
    "    $$w_{m} = P^{-1}w$$\n",
    "    </div>\n",
    "<br>    \n",
    "<div style=\"text-align: center\"> <i>Тогда:<i> <br>\n",
    "    $$a_{m} = XP P^{-1}w$$\n",
    "    $$a_{m} = Xw$$\n",
    "    </div> \n",
    "<br>\n",
    "<div style=\"text-align: center\"> <i>Таким образом нам удалось доказать, что:<i> <br>\n",
    "    $$a_{m} = Xw = a$$\n",
    "    </div> \n",
    "<br>    \n",
    "<div style=\"text-align: left\"> <i><b>Вывод:<i><b> <br>\n",
    "    </div>\n",
    "<div style=\"text-align: left\"> <i>\n",
    "    При умножении матрицы признаков на любую обратимую матрицу качество работы модели линейной регрессии не изменится <i>\n",
    "    </div>"
   ]
  },
  {
   "cell_type": "markdown",
   "metadata": {},
   "source": [
    "<div style=\"background: #cceeaa; padding: 5px; border: 1px solid green; border-radius: 5px;\">\n",
    "    <font color='green'> <b><u>КОММЕНТАРИЙ РЕВЬЮЕРА</u></b>\n",
    "</font>\n",
    "<font color='green'><br>ОК, в точку!"
   ]
  },
  {
   "cell_type": "markdown",
   "metadata": {},
   "source": [
    "## Алгоритм преобразования"
   ]
  },
  {
   "cell_type": "markdown",
   "metadata": {},
   "source": [
    "***Задача:*** <br>\n",
    "\n",
    "*Предложите алгоритм преобразования данных для решения задачи. Обоснуйте, почему качество линейной регрессии не поменяется.*"
   ]
  },
  {
   "cell_type": "markdown",
   "metadata": {},
   "source": [
    "\n",
    "**Алгоритм:**\n",
    "    \n",
    "Как было установлено выше для защиты персональных данных клиентов можно умножить матрицу, содержащую персональные данные, на обратимую матрицу Р без потери качества модели линейной регрессии. При этом будет осуществлён сдвиг данных, который сделает персональные данные нечитаемыми. Умножение на матрицу обратную P вернёт данным естественный вид.\n",
    " <br>      \n",
    "   **Условия:**  \n",
    "   - Определитель создаваемой обратимой матрицы не должен быть равен нулю (основное условие обратимости матрицы).\n",
    "   - Размер содаваемой матрицы должен соответствовать количеству признаков обучаемой выборки, иначе умножение не возможно."
   ]
  },
  {
   "cell_type": "markdown",
   "metadata": {},
   "source": [
    "**Обоснование:**\n",
    "\n",
    "- При использовании метода, описанного выше, для возвращения обратно к исходным данным достаточно умножить полученную матрицу значений на матрицу $P^{-1}$. Важно отметить, что подобный сдвиг не влияет на качество обучения линейной регрессии, что было доказано в предыдущем пункте исследования."
   ]
  },
  {
   "cell_type": "markdown",
   "metadata": {},
   "source": [
    "<div style=\"background: #cceeaa; padding: 5px; border: 1px solid green; border-radius: 5px;\">\n",
    "    <font color='green'> <b><u>КОММЕНТАРИЙ РЕВЬЮЕРА</u></b>\n",
    "</font>\n",
    "<font color='green'><br>\n",
    "ОК, ещё тут как ожидался план действий для пункта 4) Делай раз, делай два, делай три...Например, так<br>\n",
    "1) создаём рандомную матрицу<br>\n",
    "2) проверяем её на обратимость (создаём единичную матрицу)<br>\n",
    "3) Создаём новую матрицу данных<br>\n",
    "4) Ищем метрики качества на исходных данных и на преобразованных<br>\n",
    "5) делаем вывод"
   ]
  },
  {
   "cell_type": "markdown",
   "metadata": {},
   "source": [
    "## Проверка алгоритма"
   ]
  },
  {
   "cell_type": "markdown",
   "metadata": {},
   "source": [
    "### Выделение признаков"
   ]
  },
  {
   "cell_type": "code",
   "execution_count": 7,
   "metadata": {},
   "outputs": [],
   "source": [
    "features = insurance_data.drop('Страховые выплаты', axis=1)\n",
    "target = insurance_data['Страховые выплаты']"
   ]
  },
  {
   "cell_type": "code",
   "execution_count": 8,
   "metadata": {},
   "outputs": [],
   "source": [
    "def split_df(features,target,color):\n",
    "    '''\n",
    "    Принимает названия выборок с признаками и с целевыми признаками, и цвет шрифта  \n",
    "    Функция делит данные на обучающую и тестовую выборки.\n",
    "    Возвращает обучающую и тестовую выборки, разделённые по признакам и целевому признаку\n",
    "    '''\n",
    "    \n",
    "    features_train, features_test, target_train, target_test = train_test_split(\n",
    "    features, target, train_size=0.75,random_state=12345)\n",
    "    \n",
    "    display(HTML(f\"<font color={color}>Размер обучающей и тестовой выборок с целевыми признаками: \\\n",
    "    {target_train.shape},{target_test.shape}</font>\"))\n",
    "    display(HTML(f\"<font color={color}>Размер с обучающей и тестовой выборок с признаками: \\\n",
    "    {features_train.shape},{features_test.shape}</font>\"))\n",
    "\n",
    "    return features_train,features_test,target_train,target_test"
   ]
  },
  {
   "cell_type": "code",
   "execution_count": 9,
   "metadata": {},
   "outputs": [
    {
     "data": {
      "text/html": [
       "<font color=red>Размер обучающей и тестовой выборок с целевыми признаками:     (3635,),(1212,)</font>"
      ],
      "text/plain": [
       "<IPython.core.display.HTML object>"
      ]
     },
     "metadata": {},
     "output_type": "display_data"
    },
    {
     "data": {
      "text/html": [
       "<font color=red>Размер с обучающей и тестовой выборок с признаками:     (3635, 4),(1212, 4)</font>"
      ],
      "text/plain": [
       "<IPython.core.display.HTML object>"
      ]
     },
     "metadata": {},
     "output_type": "display_data"
    }
   ],
   "source": [
    "features_train, features_test, target_train, target_test = \\\n",
    "                                    split_df(features,target,'red')"
   ]
  },
  {
   "cell_type": "markdown",
   "metadata": {},
   "source": [
    "### Создание модели линейной регрессии"
   ]
  },
  {
   "cell_type": "code",
   "execution_count": 10,
   "metadata": {},
   "outputs": [],
   "source": [
    "class LinearRegression:\n",
    "    def fit(self, train_features, train_target):\n",
    "        X = np.concatenate((np.ones((train_features.shape[0], 1)), train_features), axis=1)\n",
    "        y = train_target\n",
    "        w = np.linalg.inv(X.T.dot(X)).dot(X.T).dot(y)\n",
    "        self.w = w[1:]\n",
    "        self.w0 = w[0]\n",
    "\n",
    "    def predict(self, test_features):\n",
    "        return test_features.dot(self.w) + self.w0"
   ]
  },
  {
   "cell_type": "markdown",
   "metadata": {},
   "source": [
    "### Обучение модели на исходных данных"
   ]
  },
  {
   "cell_type": "code",
   "execution_count": 11,
   "metadata": {},
   "outputs": [
    {
     "data": {
      "text/html": [
       "<font color='blue'>Значение метрики R2 до преборазований:     0.42307727</font>"
      ],
      "text/plain": [
       "<IPython.core.display.HTML object>"
      ]
     },
     "metadata": {},
     "output_type": "display_data"
    }
   ],
   "source": [
    "model_before = LinearRegression()\n",
    "model_before.fit(features_train, target_train)\n",
    "predictions_before = model_before.predict(features_test)\n",
    "r2_before = round(r2_score(target_test, predictions_before),8)\n",
    "display(HTML(f\"<font color='blue'>Значение метрики R2 до преборазований: \\\n",
    "    {r2_before}</font>\"))"
   ]
  },
  {
   "cell_type": "markdown",
   "metadata": {},
   "source": [
    "### Обучение модели на модифицированных данных"
   ]
  },
  {
   "cell_type": "code",
   "execution_count": 12,
   "metadata": {},
   "outputs": [],
   "source": [
    "# Создадим обратимую матрицу размером, соответствующим количеству признаков в матрице признаков.\n",
    "p = np.random.sample((4, 4))\n",
    "p_inv = np.linalg.inv(p)"
   ]
  },
  {
   "cell_type": "markdown",
   "metadata": {},
   "source": [
    "<div style=\"background: #cceeaa; padding: 5px; border: 1px solid green; border-radius: 5px;\">\n",
    "    <font color='green'> <b><u>КОММЕНТАРИЙ РЕВЬЮЕРА</u></b>\n",
    "</font>\n",
    "<font color='green'><br>\n",
    "ок, это важно - проверять на обратимость) Можно это дело в такую функцию одеть:"
   ]
  },
  {
   "cell_type": "markdown",
   "metadata": {},
   "source": [
    "def generate_invertible_matrix(size):\n",
    "    try:\n",
    "        matrix = np.random.normal(size=(size, size))\n",
    "        # проверим матрицу на обратимость, если нет, пробуем сгенерировать еще раз\n",
    "        # таким образом гарантируем, что матрица стопроцентно будет обратимой\n",
    "        np.linalg.inv(matrix)\n",
    "    except np.linalg.LinAlgError:\n",
    "        matrix = generate_invertible_matrix()\n",
    "    \n",
    "    return matrix"
   ]
  },
  {
   "cell_type": "code",
   "execution_count": 13,
   "metadata": {},
   "outputs": [],
   "source": [
    "# Умножим матрицу признаков на дополнительно созданную матрицу\n",
    "x = features_train\n",
    "xp = x @ p"
   ]
  },
  {
   "cell_type": "code",
   "execution_count": 14,
   "metadata": {},
   "outputs": [
    {
     "data": {
      "text/html": [
       "<font color='red'>Значение метрики R2 после преборазований:     0.42307727</font>"
      ],
      "text/plain": [
       "<IPython.core.display.HTML object>"
      ]
     },
     "metadata": {},
     "output_type": "display_data"
    }
   ],
   "source": [
    "model_after = LinearRegression()\n",
    "model_after.fit(xp,target_train)\n",
    "predictions_after = model_after.predict(features_test)\n",
    "r2_after = round(r2_score(target_test, predictions_before),8)\n",
    "display(HTML(f\"<font color='red'>Значение метрики R2 после преборазований: \\\n",
    "    {r2_after}</font>\"))"
   ]
  },
  {
   "cell_type": "code",
   "execution_count": 15,
   "metadata": {},
   "outputs": [
    {
     "data": {
      "text/html": [
       "<div>\n",
       "<style scoped>\n",
       "    .dataframe tbody tr th:only-of-type {\n",
       "        vertical-align: middle;\n",
       "    }\n",
       "\n",
       "    .dataframe tbody tr th {\n",
       "        vertical-align: top;\n",
       "    }\n",
       "\n",
       "    .dataframe thead th {\n",
       "        text-align: right;\n",
       "    }\n",
       "</style>\n",
       "<table border=\"1\" class=\"dataframe\">\n",
       "  <thead>\n",
       "    <tr style=\"text-align: right;\">\n",
       "      <th></th>\n",
       "      <th>Коэффициент детерминации r2</th>\n",
       "    </tr>\n",
       "  </thead>\n",
       "  <tbody>\n",
       "    <tr>\n",
       "      <th>до</th>\n",
       "      <td>0.423077</td>\n",
       "    </tr>\n",
       "    <tr>\n",
       "      <th>после</th>\n",
       "      <td>0.423077</td>\n",
       "    </tr>\n",
       "  </tbody>\n",
       "</table>\n",
       "</div>"
      ],
      "text/plain": [
       "       Коэффициент детерминации r2\n",
       "до                        0.423077\n",
       "после                     0.423077"
      ]
     },
     "execution_count": 15,
     "metadata": {},
     "output_type": "execute_result"
    }
   ],
   "source": [
    "r2_df = pd.DataFrame([r2_before,r2_after], index=[\"до\",\"после\"], columns=['Коэффициент детерминации r2'])\n",
    "r2_df"
   ]
  },
  {
   "cell_type": "markdown",
   "metadata": {},
   "source": [
    "### Вывод:\n",
    ">Разработанный метод преобразования данных работает корректно, качество линейной регрессии идентично непреобразованным данным. Восстановить персональную информацию данных клиентов, не имея информации о методе преобразования и о ключ-матрице достаточно сложно.  \n",
    ">Данные клиентов страховой компании «Хоть потоп» надежно защищены."
   ]
  },
  {
   "cell_type": "markdown",
   "metadata": {},
   "source": [
    "<div style=\"background: #cceeaa; padding: 5px; border: 1px solid green; border-radius: 5px;\">\n",
    "    <font color='green'> <b><u>КОММЕНТАРИЙ РЕВЬЮЕРА</u></b>\n",
    "</font>\n",
    "<font color='green'><br>\n",
    "ОК, Михаил, и с линейной алгеброй ты справился)<br>\n",
    "Всё, в общем-то, по делу, со смыслом. Доказательство в п.2 - понятно)<br>\n",
    "Да и весь проект - на уровне.<br>\n",
    "Не забыл про проверку на обратимость! ОК<br>\n",
    "    \n",
    "В общем-то, вопросов у меня и нет особых)<br>\n",
    "Возможно, что у тебя остались/появились?"
   ]
  },
  {
   "cell_type": "markdown",
   "metadata": {},
   "source": [
    "<div style=\"background: #ADD8E6; padding: 5px; border: 1px \tsolid blue; border-radius: 5px;\">\n",
    "    <font color='#00008B'> <b><u>КОММЕНТАРИЙ СТУДЕНТА</u></b> \n",
    "\n",
    "Спасибо большое за проверку! Вопросов нет.<br>  "
   ]
  },
  {
   "cell_type": "markdown",
   "metadata": {},
   "source": [
    "## Чек-лист проверки"
   ]
  },
  {
   "cell_type": "markdown",
   "metadata": {},
   "source": [
    "Поставьте 'x' в выполненных пунктах. Далее нажмите Shift+Enter."
   ]
  },
  {
   "cell_type": "markdown",
   "metadata": {},
   "source": [
    "- [x]  Jupyter Notebook открыт\n",
    "- [x]  Весь код выполняется без ошибок\n",
    "- [x]  Ячейки с кодом расположены в порядке исполнения\n",
    "- [x]  Выполнен шаг 1: данные загружены\n",
    "- [x]  Выполнен шаг 2: получен ответ на вопрос об умножении матриц\n",
    "    - [x]  Указан правильный вариант ответа\n",
    "    - [x]  Вариант обоснован\n",
    "- [x]  Выполнен шаг 3: предложен алгоритм преобразования\n",
    "    - [x]  Алгоритм описан\n",
    "    - [x]  Алгоритм обоснован\n",
    "- [x]  Выполнен шаг 4: алгоритм проверен\n",
    "    - [x]  Алгоритм реализован\n",
    "    - [x]  Проведено сравнение качества моделей до и после преобразования"
   ]
  }
 ],
 "metadata": {
  "ExecuteTimeLog": [
   {
    "duration": 3134,
    "start_time": "2022-05-10T11:43:01.406Z"
   },
   {
    "duration": 68,
    "start_time": "2022-05-10T11:43:04.543Z"
   },
   {
    "duration": 7,
    "start_time": "2022-05-10T11:43:04.613Z"
   },
   {
    "duration": 58,
    "start_time": "2022-05-10T11:43:04.623Z"
   },
   {
    "duration": 12,
    "start_time": "2022-05-10T11:43:04.683Z"
   },
   {
    "duration": 455,
    "start_time": "2022-05-10T11:43:04.697Z"
   }
  ],
  "kernelspec": {
   "display_name": "Python 3 (ipykernel)",
   "language": "python",
   "name": "python3"
  },
  "language_info": {
   "codemirror_mode": {
    "name": "ipython",
    "version": 3
   },
   "file_extension": ".py",
   "mimetype": "text/x-python",
   "name": "python",
   "nbconvert_exporter": "python",
   "pygments_lexer": "ipython3",
   "version": "3.9.12"
  },
  "toc": {
   "base_numbering": 1,
   "nav_menu": {},
   "number_sections": true,
   "sideBar": true,
   "skip_h1_title": true,
   "title_cell": "Содержание",
   "title_sidebar": "Contents",
   "toc_cell": true,
   "toc_position": {},
   "toc_section_display": true,
   "toc_window_display": true
  }
 },
 "nbformat": 4,
 "nbformat_minor": 2
}
