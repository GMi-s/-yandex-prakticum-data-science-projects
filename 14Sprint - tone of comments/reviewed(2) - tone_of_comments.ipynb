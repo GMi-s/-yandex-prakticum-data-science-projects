{
 "cells": [
  {
   "cell_type": "markdown",
   "metadata": {},
   "source": [
    "👋 **Приветствую, Михаил!**\n",
    "\n",
    "Меня зовут Арсен Абдулин, и я буду твоим ревьювером по проекту. Предлагаю общаться на «ты», если не против =) Моя цель — не поиск ошибок в твоей работе, а поделиться опытом и помочь успешно завершить проект, чтобы на шаг приблизиться к профессии специалиста по Data Science.\n",
    "\n",
    "Я вижу, что ты проделал большую работу, она выполнена на хорошем уровне 😊 В целом ты получил положительный результат по проекту, но есть немного рекомендаций, я отметил их в комментариях! \n",
    "\n",
    "При проверке работ я делаю следующие комментарии:\n",
    "\n",
    "<div class=\"alert alert-success\">\n",
    "<b>✔️ Зеленым цветом</b> отмечены удачные решения, на которые можно опираться в следующих проектах.</div>\n",
    "\n",
    "<div class=\"alert alert-warning\">\n",
    "<b>⚠️ Желтым цветом</b> я отметил пункты, которые в следующий раз можно сделать по-другому. Одно-два таких замечания в проекте допускается, но если их много — проект следует доработать. </div>\n",
    "\n",
    "<div class=\"alert alert-danger\">\n",
    "<b>🚫 Красным цветом</b> отмечены критические замечания, которые необходимо поправить, чтобы принять проект. </div>\n",
    "\n",
    "Если какие-то моменты в задании для тебя были непонятны и у тебя есть ко мне вопросы — смело спрашивай 😊 Также ты можешь доработать места, где есть желтые комментарии в этом проекте (однако, это не обязательно).\n",
    "\n",
    "Предлагаю работать над проектом в диалоге: если ты решишь что-то поменять по моим рекомендациям — пиши об этом (выбери для своих комментариев определенный цвет - так мне будет легче увидеть изменения). Пожалуйста не перемещай, не изменяй и не удаляй мои комментарии. Все это поможет сделать проверку твоего проекта оперативнее.\n",
    "\n",
    "<div class=\"alert alert-info\"> <b>ℹ️ Комментарий студента: </b> Пример комментария. </div>"
   ]
  },
  {
   "cell_type": "markdown",
   "metadata": {},
   "source": [
    "<font color=blue>\n",
    "<b> Вступление:</b> Работа выполнена на хорошем уровне! Ввиду необъятности тематики по анализу текстов, хочу предложить несколько полезных ссылок от ревьюверов (если заинтересует):\n",
    "    \n",
    "Основы Natural Language Processing для текста  — https://habr.com/ru/company/Voximplant/blog/446738/\n",
    "    \n",
    "Интересная статья в общем по NLP — https://habr.com/ru/company/oleg-bunin/blog/352614/\n",
    "    \n",
    "BERT, ELMO и Ко в картинках (как в NLP пришло трансферное обучение) — https://habr.com/ru/post/487358/\n",
    "    \n",
    "В частности, BERT является довольно популярной моделью. Вот еще информация по этой модели:\n",
    "    \n",
    "https://habr.com/ru/post/436878/\n",
    "    \n",
    "http://jalammar.github.io/illustrated-bert/; https://huggingface.co/docs/transformers/model_doc/bert\n",
    "    \n",
    "И другие ссылки: \n",
    "    \n",
    "http://jalammar.github.io/illustrated-word2vec/\n",
    "    \n",
    "https://colah.github.io/posts/2015-08-Understanding-LSTMs/\n",
    "    \n",
    "http://jalammar.github.io/illustrated-transformer/\n",
    "    \n",
    "https://colab.research.google.com/drive/1SBha91u6142pW5mSiQOOjJWCCSAFj4HI?usp=sharing    \n",
    " \n",
    "</font>   "
   ]
  },
  {
   "cell_type": "markdown",
   "metadata": {},
   "source": [
    "Может быть тебе будет интересно ознакомиться с примером BERT с GPU:\n",
    "\n",
    "```python\n",
    "%%time\n",
    "from tqdm import notebook\n",
    "batch_size = 2 # для примера возьмем такой батч, где будет всего две строки датасета\n",
    "embeddings = [] \n",
    "for i in notebook.tqdm(range(input_ids.shape[0] // batch_size)):\n",
    "        batch = torch.LongTensor(input_ids[batch_size*i:batch_size*(i+1)]).cuda() # закидываем тензор на GPU\n",
    "        attention_mask_batch = torch.LongTensor(attention_mask[batch_size*i:batch_size*(i+1)]).cuda()\n",
    "        \n",
    "        with torch.no_grad():\n",
    "            model.cuda()\n",
    "            batch_embeddings = model(batch, attention_mask=attention_mask_batch)\n",
    "        \n",
    "        embeddings.append(batch_embeddings[0][:,0,:].cpu().numpy()) # перевод обратно на проц, чтобы в нумпай кинуть\n",
    "        del batch\n",
    "        del attention_mask_batch\n",
    "        del batch_embeddings\n",
    "        \n",
    "features = np.concatenate(embeddings) \n",
    "```\n",
    "Можно сделать предварительную проверку на наличие GPU.\\\n",
    "Например, так: ```device = torch.device(\"cuda:0\") if torch.cuda.is_available() else torch.device(\"cpu\")```\\\n",
    "Тогда вместо .cuda() нужно писать .to(device)</font>"
   ]
  },
  {
   "cell_type": "markdown",
   "metadata": {},
   "source": [
    "<div class=\"alert alert-info\"> <b>ℹ️ Комментарий студента: </b> <br>\n",
    "\n",
    "**Привет, Арсен!** <br>\n",
    "    \n",
    "Огромное спасибо за такое большое количество дополнительных материалов и комментариев, кое-что я уже открыл почитать! <br>\n",
    "\n",
    "Ещё в тренажёре я обратил внимание на некоторые вещи, например на использование progress bar, которые хотел бы попробовать. В ходе работы (это был третий вариант после 2-х тупиков с последующими откатами версии) я обратил внимание на то, что модели с типично хорошими результами (RandomForest и LGBM) для текстов дают не такие хорошие результаты, как в прошлых проектах из чего я сделал вывод, что для работы с текстами следует применять специальные библиотеки типа `Bert`, но так и не предпринял попыток в этом направлении по 3-м причинам: <br>\n",
    "    - мои домашние дела, к сожалению, не дают мне достаточной свободы по времени для углубления в эту область на должном уровне; <br>\n",
    "    - мой склад ума не позволяет мне сходу вникать во все детали из-за чего я большинство материалов пересматриваю и перечитываю по 2-3 раза, т.к. после первого восприятия у меня появляется только навык, но не понимание. Для меня только глубокое понимание фундаментальных основ позволяет закрепить полученные знания, т.е. пока я не разберусь в математической сути методов, пока не увижу красоту разработанных кем-то подходов, для меня это останется комбинацей последовательности действий, которую я в лучшем случае смогу просто повторить. Поэтому, если в будущем дойдёт до этого, то я буду ещё не один раз перечитывать и пробовать всё, что было в тренажёре и всё что ты прислал; <br>\n",
    "    - Работа с текстами показалась мне интересной, но при этом специфичной. По основному своему опыту работы я - инженер-технолог с 10-ти летним стажем и всё, что было на курсе до этого я уже мысленно \"прикрутил\" к своей работе и у меня уже, как в мультике про Скруджа МакДака, в глазах крутятся цифры с сэкономленными деньгами от внедрения ML в разных производственных отделах. Но в производcтве нет работы с текстами и в этом смысле текущий модуль я рассматриваю со стороны спортивного интереса, по крайней мере пока. Однако, кто знает, может быть в будущем я уйду с головой в IT и DS, и тогда, возможно, я займусь вопросом обработки текстов по полной. <br>\n",
    "    \n",
    "В общем спасибо ещё раз за материалы и комментарии. Вопросов по этой части работы у меня нет. По дополнительным материалам и моделям они, возможно, появятся позже, но сперва я всё это перечитаю и попробую сам. <br>\n",
    "    \n",
    "До новых встреч!\n",
    "</div>"
   ]
  },
  {
   "cell_type": "markdown",
   "metadata": {},
   "source": [
    "<div class=\"alert alert-success\">\n",
    "<b>✔️ Комментарий ревьювера (v2):</b> Михаил, спасибо за такой развернутый комментарий! Мне тоже есть чем поделиться и заодно отвечу на твои вопросы =)\n",
    "    \n",
    "По использованию progress bar можно посмотреть здесь: https://habr.com/ru/post/483400/\n",
    "    \n",
    "Модели деревьев (RandomForest, DecisionTree) в задачах NLP действительно работают не очень хорошо. LGBM, CatBoost показывают неплохие результаты. LogisticRegression быстро обучается и приемлемое качество.\n",
    "    \n",
    "Чтобы улучшить результаты, векторизацию текста делают с помощью нейросетей. Полученные таким образом вектора (эмбеддинги) можно передать в классическую модель, ту же LogisticRegression, результаты будут гораздо выше (> 0.9).\n",
    "    \n",
    "Перечитывать материалы по нескольку раз это нормально, информации действительно много. Вообще я для себя всегда делаю конспект, так легче запоминается. К сожалению, когда времени мало, не всегда удается добраться до сути, поэтому в каких-то вещах стоит все принять как есть, а понимание придет позже =)\n",
    "    \n",
    "Я прекрасно тебя понимаю, т.к. сам инженер по образованию, в DS пришел только в 2020 году, до этого около 10 лет занимался проектированием и расчетами. Также всегда старался вникнуть в суть дела, подолгу разбирался, это конечно приносило пользу. Но когда окончил свой первый курс по DS понял что информации очень много и понимание начало приходить, только когда стал решать самостоятельные задачи.\n",
    "    \n",
    "Работу инженером я завершил, сейчас работаю и развиваюсь в области DS.\n",
    "    \n",
    "Желаю тебе успешно закончить курс, найти свое место в профессии Data Science, и обязательно проси повышение на работе, если там планируешь применять ML =)\n",
    "</div>"
   ]
  },
  {
   "cell_type": "markdown",
   "metadata": {
    "toc": true
   },
   "source": [
    "<h1>Содержание<span class=\"tocSkip\"></span></h1>\n",
    "<div class=\"toc\"><ul class=\"toc-item\"><li><span><a href=\"#Подготовка-данных\" data-toc-modified-id=\"Подготовка-данных-1\"><span class=\"toc-item-num\">1&nbsp;&nbsp;</span>Подготовка данных</a></span><ul class=\"toc-item\"><li><span><a href=\"#Импорт-библиотек\" data-toc-modified-id=\"Импорт-библиотек-1.1\"><span class=\"toc-item-num\">1.1&nbsp;&nbsp;</span>Импорт библиотек</a></span></li><li><span><a href=\"#Загрузка-данных\" data-toc-modified-id=\"Загрузка-данных-1.2\"><span class=\"toc-item-num\">1.2&nbsp;&nbsp;</span>Загрузка данных</a></span></li><li><span><a href=\"#Знакомство-с-данными\" data-toc-modified-id=\"Знакомство-с-данными-1.3\"><span class=\"toc-item-num\">1.3&nbsp;&nbsp;</span>Знакомство с данными</a></span></li><li><span><a href=\"#Предобработка\" data-toc-modified-id=\"Предобработка-1.4\"><span class=\"toc-item-num\">1.4&nbsp;&nbsp;</span>Предобработка</a></span></li></ul></li><li><span><a href=\"#Обучение\" data-toc-modified-id=\"Обучение-2\"><span class=\"toc-item-num\">2&nbsp;&nbsp;</span>Обучение</a></span><ul class=\"toc-item\"><li><span><a href=\"#LogisticRegression\" data-toc-modified-id=\"LogisticRegression-2.1\"><span class=\"toc-item-num\">2.1&nbsp;&nbsp;</span>LogisticRegression</a></span></li><li><span><a href=\"#RandomForestClassifier\" data-toc-modified-id=\"RandomForestClassifier-2.2\"><span class=\"toc-item-num\">2.2&nbsp;&nbsp;</span>RandomForestClassifier</a></span></li><li><span><a href=\"#LGBMClassifier\" data-toc-modified-id=\"LGBMClassifier-2.3\"><span class=\"toc-item-num\">2.3&nbsp;&nbsp;</span>LGBMClassifier</a></span></li><li><span><a href=\"#LogisticRegression---CountVectorizer\" data-toc-modified-id=\"LogisticRegression---CountVectorizer-2.4\"><span class=\"toc-item-num\">2.4&nbsp;&nbsp;</span>LogisticRegression - CountVectorizer</a></span></li><li><span><a href=\"#Вывод\" data-toc-modified-id=\"Вывод-2.5\"><span class=\"toc-item-num\">2.5&nbsp;&nbsp;</span>Вывод</a></span></li><li><span><a href=\"#Проверка-моделей-на-тестовой-выборке\" data-toc-modified-id=\"Проверка-моделей-на-тестовой-выборке-2.6\"><span class=\"toc-item-num\">2.6&nbsp;&nbsp;</span>Проверка моделей на тестовой выборке</a></span></li></ul></li><li><span><a href=\"#Выводы\" data-toc-modified-id=\"Выводы-3\"><span class=\"toc-item-num\">3&nbsp;&nbsp;</span>Выводы</a></span></li><li><span><a href=\"#Чек-лист-проверки\" data-toc-modified-id=\"Чек-лист-проверки-4\"><span class=\"toc-item-num\">4&nbsp;&nbsp;</span>Чек-лист проверки</a></span></li></ul></div>"
   ]
  },
  {
   "cell_type": "markdown",
   "metadata": {},
   "source": [
    "# Проект для «Викишоп»"
   ]
  },
  {
   "cell_type": "markdown",
   "metadata": {},
   "source": [
    "Интернет-магазин «Викишоп» запускает новый сервис. Теперь пользователи могут редактировать и дополнять описания товаров, как в вики-сообществах. То есть клиенты предлагают свои правки и комментируют изменения других. Магазину нужен инструмент, который будет искать токсичные комментарии и отправлять их на модерацию. \n",
    "\n",
    "Обучите модель классифицировать комментарии на позитивные и негативные. В вашем распоряжении набор данных с разметкой о токсичности правок.\n",
    "\n",
    "Постройте модель со значением метрики качества *F1* не меньше 0.75. \n",
    "\n",
    "**Инструкция по выполнению проекта**\n",
    "\n",
    "1. Загрузите и подготовьте данные.\n",
    "2. Обучите разные модели. \n",
    "3. Сделайте выводы.\n",
    "\n",
    "Для выполнения проекта применять *BERT* необязательно, но вы можете попробовать.\n",
    "\n",
    "**Описание данных**\n",
    "\n",
    "Данные находятся в файле `toxic_comments.csv`. Столбец *text* в нём содержит текст комментария, а *toxic* — целевой признак."
   ]
  },
  {
   "cell_type": "markdown",
   "metadata": {},
   "source": [
    "<div class=\"alert alert-success\">\n",
    "<b>✔️ Комментарий ревьювера:</b> Хорошо, что добавил небольшое описание и содержание проекта.\n",
    "\n",
    "</div>"
   ]
  },
  {
   "cell_type": "markdown",
   "metadata": {},
   "source": [
    "## Подготовка данных"
   ]
  },
  {
   "cell_type": "markdown",
   "metadata": {},
   "source": [
    "### Импорт библиотек"
   ]
  },
  {
   "cell_type": "code",
   "execution_count": 1,
   "metadata": {},
   "outputs": [
    {
     "name": "stderr",
     "output_type": "stream",
     "text": [
      "[nltk_data] Downloading collection 'popular'\n",
      "[nltk_data]    | \n",
      "[nltk_data]    | Downloading package cmudict to\n",
      "[nltk_data]    |     C:\\Users\\Mikhail\\AppData\\Roaming\\nltk_data...\n",
      "[nltk_data]    |   Package cmudict is already up-to-date!\n",
      "[nltk_data]    | Downloading package gazetteers to\n",
      "[nltk_data]    |     C:\\Users\\Mikhail\\AppData\\Roaming\\nltk_data...\n",
      "[nltk_data]    |   Package gazetteers is already up-to-date!\n",
      "[nltk_data]    | Downloading package genesis to\n",
      "[nltk_data]    |     C:\\Users\\Mikhail\\AppData\\Roaming\\nltk_data...\n",
      "[nltk_data]    |   Package genesis is already up-to-date!\n",
      "[nltk_data]    | Downloading package gutenberg to\n",
      "[nltk_data]    |     C:\\Users\\Mikhail\\AppData\\Roaming\\nltk_data...\n",
      "[nltk_data]    |   Package gutenberg is already up-to-date!\n",
      "[nltk_data]    | Downloading package inaugural to\n",
      "[nltk_data]    |     C:\\Users\\Mikhail\\AppData\\Roaming\\nltk_data...\n",
      "[nltk_data]    |   Package inaugural is already up-to-date!\n",
      "[nltk_data]    | Downloading package movie_reviews to\n",
      "[nltk_data]    |     C:\\Users\\Mikhail\\AppData\\Roaming\\nltk_data...\n",
      "[nltk_data]    |   Package movie_reviews is already up-to-date!\n",
      "[nltk_data]    | Downloading package names to\n",
      "[nltk_data]    |     C:\\Users\\Mikhail\\AppData\\Roaming\\nltk_data...\n",
      "[nltk_data]    |   Package names is already up-to-date!\n",
      "[nltk_data]    | Downloading package shakespeare to\n",
      "[nltk_data]    |     C:\\Users\\Mikhail\\AppData\\Roaming\\nltk_data...\n",
      "[nltk_data]    |   Package shakespeare is already up-to-date!\n",
      "[nltk_data]    | Downloading package stopwords to\n",
      "[nltk_data]    |     C:\\Users\\Mikhail\\AppData\\Roaming\\nltk_data...\n",
      "[nltk_data]    |   Package stopwords is already up-to-date!\n",
      "[nltk_data]    | Downloading package treebank to\n",
      "[nltk_data]    |     C:\\Users\\Mikhail\\AppData\\Roaming\\nltk_data...\n",
      "[nltk_data]    |   Package treebank is already up-to-date!\n",
      "[nltk_data]    | Downloading package twitter_samples to\n",
      "[nltk_data]    |     C:\\Users\\Mikhail\\AppData\\Roaming\\nltk_data...\n",
      "[nltk_data]    |   Package twitter_samples is already up-to-date!\n",
      "[nltk_data]    | Downloading package omw to\n",
      "[nltk_data]    |     C:\\Users\\Mikhail\\AppData\\Roaming\\nltk_data...\n",
      "[nltk_data]    |   Package omw is already up-to-date!\n",
      "[nltk_data]    | Downloading package omw-1.4 to\n",
      "[nltk_data]    |     C:\\Users\\Mikhail\\AppData\\Roaming\\nltk_data...\n",
      "[nltk_data]    |   Package omw-1.4 is already up-to-date!\n",
      "[nltk_data]    | Downloading package wordnet to\n",
      "[nltk_data]    |     C:\\Users\\Mikhail\\AppData\\Roaming\\nltk_data...\n",
      "[nltk_data]    |   Package wordnet is already up-to-date!\n",
      "[nltk_data]    | Downloading package wordnet2021 to\n",
      "[nltk_data]    |     C:\\Users\\Mikhail\\AppData\\Roaming\\nltk_data...\n",
      "[nltk_data]    |   Package wordnet2021 is already up-to-date!\n",
      "[nltk_data]    | Downloading package wordnet31 to\n",
      "[nltk_data]    |     C:\\Users\\Mikhail\\AppData\\Roaming\\nltk_data...\n",
      "[nltk_data]    |   Package wordnet31 is already up-to-date!\n",
      "[nltk_data]    | Downloading package wordnet_ic to\n",
      "[nltk_data]    |     C:\\Users\\Mikhail\\AppData\\Roaming\\nltk_data...\n",
      "[nltk_data]    |   Package wordnet_ic is already up-to-date!\n",
      "[nltk_data]    | Downloading package words to\n",
      "[nltk_data]    |     C:\\Users\\Mikhail\\AppData\\Roaming\\nltk_data...\n",
      "[nltk_data]    |   Package words is already up-to-date!\n",
      "[nltk_data]    | Downloading package maxent_ne_chunker to\n",
      "[nltk_data]    |     C:\\Users\\Mikhail\\AppData\\Roaming\\nltk_data...\n",
      "[nltk_data]    |   Package maxent_ne_chunker is already up-to-date!\n",
      "[nltk_data]    | Downloading package punkt to\n",
      "[nltk_data]    |     C:\\Users\\Mikhail\\AppData\\Roaming\\nltk_data...\n",
      "[nltk_data]    |   Package punkt is already up-to-date!\n",
      "[nltk_data]    | Downloading package snowball_data to\n",
      "[nltk_data]    |     C:\\Users\\Mikhail\\AppData\\Roaming\\nltk_data...\n",
      "[nltk_data]    |   Package snowball_data is already up-to-date!\n",
      "[nltk_data]    | Downloading package averaged_perceptron_tagger to\n",
      "[nltk_data]    |     C:\\Users\\Mikhail\\AppData\\Roaming\\nltk_data...\n",
      "[nltk_data]    |   Package averaged_perceptron_tagger is already up-\n",
      "[nltk_data]    |       to-date!\n",
      "[nltk_data]    | \n",
      "[nltk_data]  Done downloading collection popular\n"
     ]
    }
   ],
   "source": [
    "# Импорт библиотек.\n",
    "import matplotlib.pyplot as plt\n",
    "import nltk\n",
    "import numpy as np\n",
    "import pandas as pd\n",
    "import re\n",
    "import seaborn as sns\n",
    "import sys\n",
    "import warnings\n",
    "\n",
    "# Импорт модулей IPython.\n",
    "from IPython.display import display_html\n",
    "from IPython.display import display, HTML, Math, Latex\n",
    "\n",
    "# Импорт метрик, векторизаторов, лемматизатора и CV\n",
    "from nltk.stem import WordNetLemmatizer \n",
    "from nltk.corpus import stopwords as nltk_stopwords\n",
    "from sklearn.feature_extraction.text import TfidfVectorizer,CountVectorizer \n",
    "from sklearn.metrics import make_scorer,accuracy_score,f1_score,precision_score,recall_score\n",
    "from sklearn.metrics import precision_recall_curve,roc_auc_score,roc_curve\n",
    "from sklearn.model_selection import GridSearchCV,cross_val_score,train_test_split\n",
    "from sklearn.pipeline import Pipeline\n",
    "from sklearn.utils import shuffle\n",
    "\n",
    "# Импорт моделей.\n",
    "from lightgbm import LGBMClassifier\n",
    "from sklearn.linear_model import LogisticRegression\n",
    "from sklearn.ensemble import RandomForestClassifier\n",
    "\n",
    "# Импорт динамически обновляемого индикатора выполнения\n",
    "from tqdm import notebook\n",
    "\n",
    "\n",
    "nltk.download('popular')\n",
    "stopwords = set(nltk_stopwords.words('english'))\n",
    "\n",
    "pd.set_option('display.max_columns', None)         # Снимем ограничение на количество показываемых столбцов\n",
    "pd.options.mode.chained_assignment = None          # Скрываем предупреждение при масшатбировании\n",
    "pd.options.display.max_rows = None                 # Сброс ограничений на количество выводимых рядов\n",
    "pd.set_option('display.max_colwidth', None)        # Сброс ограничений на количество символов в записи\n",
    "warnings.filterwarnings('ignore')                  # Игнорируем предупреждения"
   ]
  },
  {
   "cell_type": "markdown",
   "metadata": {},
   "source": [
    "<div class=\"alert alert-success\">\n",
    "<b>✔️ Комментарий ревьювера:</b> Необходимые библиотеки импортированы.\n",
    "\n",
    "</div>"
   ]
  },
  {
   "cell_type": "markdown",
   "metadata": {},
   "source": [
    "### Загрузка данных"
   ]
  },
  {
   "cell_type": "code",
   "execution_count": 2,
   "metadata": {},
   "outputs": [],
   "source": [
    "try:\n",
    "    toxic_comments = pd.read_csv('/datasets/toxic_comments.csv',sep=',')\n",
    "except:\n",
    "    toxic_comments = pd.read_csv('toxic_comments.csv',sep=',')"
   ]
  },
  {
   "cell_type": "markdown",
   "metadata": {},
   "source": [
    "### Знакомство с данными"
   ]
  },
  {
   "cell_type": "code",
   "execution_count": 3,
   "metadata": {},
   "outputs": [],
   "source": [
    "def data_info (df):\n",
    "    '''\n",
    "    Сводка по данным\n",
    "    '''\n",
    "    display(df.head(10))\n",
    "    print('Общая информация:')\n",
    "    display(df.info())\n",
    "    print('Общая статистика:')\n",
    "    display(df.describe())\n",
    "    print('Дубликаты:')\n",
    "    display(df.duplicated().sum())\n",
    "    display(df[df.duplicated()])"
   ]
  },
  {
   "cell_type": "code",
   "execution_count": 4,
   "metadata": {},
   "outputs": [
    {
     "data": {
      "text/html": [
       "<div>\n",
       "<style scoped>\n",
       "    .dataframe tbody tr th:only-of-type {\n",
       "        vertical-align: middle;\n",
       "    }\n",
       "\n",
       "    .dataframe tbody tr th {\n",
       "        vertical-align: top;\n",
       "    }\n",
       "\n",
       "    .dataframe thead th {\n",
       "        text-align: right;\n",
       "    }\n",
       "</style>\n",
       "<table border=\"1\" class=\"dataframe\">\n",
       "  <thead>\n",
       "    <tr style=\"text-align: right;\">\n",
       "      <th></th>\n",
       "      <th>text</th>\n",
       "      <th>toxic</th>\n",
       "    </tr>\n",
       "  </thead>\n",
       "  <tbody>\n",
       "    <tr>\n",
       "      <th>0</th>\n",
       "      <td>Explanation\\nWhy the edits made under my username Hardcore Metallica Fan were reverted? They weren't vandalisms, just closure on some GAs after I voted at New York Dolls FAC. And please don't remove the template from the talk page since I'm retired now.89.205.38.27</td>\n",
       "      <td>0</td>\n",
       "    </tr>\n",
       "    <tr>\n",
       "      <th>1</th>\n",
       "      <td>D'aww! He matches this background colour I'm seemingly stuck with. Thanks.  (talk) 21:51, January 11, 2016 (UTC)</td>\n",
       "      <td>0</td>\n",
       "    </tr>\n",
       "    <tr>\n",
       "      <th>2</th>\n",
       "      <td>Hey man, I'm really not trying to edit war. It's just that this guy is constantly removing relevant information and talking to me through edits instead of my talk page. He seems to care more about the formatting than the actual info.</td>\n",
       "      <td>0</td>\n",
       "    </tr>\n",
       "    <tr>\n",
       "      <th>3</th>\n",
       "      <td>\"\\nMore\\nI can't make any real suggestions on improvement - I wondered if the section statistics should be later on, or a subsection of \"\"types of accidents\"\"  -I think the references may need tidying so that they are all in the exact same format ie date format etc. I can do that later on, if no-one else does first - if you have any preferences for formatting style on references or want to do it yourself please let me know.\\n\\nThere appears to be a backlog on articles for review so I guess there may be a delay until a reviewer turns up. It's listed in the relevant form eg Wikipedia:Good_article_nominations#Transport  \"</td>\n",
       "      <td>0</td>\n",
       "    </tr>\n",
       "    <tr>\n",
       "      <th>4</th>\n",
       "      <td>You, sir, are my hero. Any chance you remember what page that's on?</td>\n",
       "      <td>0</td>\n",
       "    </tr>\n",
       "    <tr>\n",
       "      <th>5</th>\n",
       "      <td>\"\\n\\nCongratulations from me as well, use the tools well.  · talk \"</td>\n",
       "      <td>0</td>\n",
       "    </tr>\n",
       "    <tr>\n",
       "      <th>6</th>\n",
       "      <td>COCKSUCKER BEFORE YOU PISS AROUND ON MY WORK</td>\n",
       "      <td>1</td>\n",
       "    </tr>\n",
       "    <tr>\n",
       "      <th>7</th>\n",
       "      <td>Your vandalism to the Matt Shirvington article has been reverted.  Please don't do it again, or you will be banned.</td>\n",
       "      <td>0</td>\n",
       "    </tr>\n",
       "    <tr>\n",
       "      <th>8</th>\n",
       "      <td>Sorry if the word 'nonsense' was offensive to you. Anyway, I'm not intending to write anything in the article(wow they would jump on me for vandalism), I'm merely requesting that it be more encyclopedic so one can use it for school as a reference. I have been to the selective breeding page but it's almost a stub. It points to 'animal breeding' which is a short messy article that gives you no info. There must be someone around with expertise in eugenics? 93.161.107.169</td>\n",
       "      <td>0</td>\n",
       "    </tr>\n",
       "    <tr>\n",
       "      <th>9</th>\n",
       "      <td>alignment on this subject and which are contrary to those of DuLithgow</td>\n",
       "      <td>0</td>\n",
       "    </tr>\n",
       "  </tbody>\n",
       "</table>\n",
       "</div>"
      ],
      "text/plain": [
       "                                                                                                                                                                                                                                                                                                                                                                                                                                                                                                                                                                                                                                                 text  \\\n",
       "0                                                                                                                                                                                                                                                                                                                                                                           Explanation\\nWhy the edits made under my username Hardcore Metallica Fan were reverted? They weren't vandalisms, just closure on some GAs after I voted at New York Dolls FAC. And please don't remove the template from the talk page since I'm retired now.89.205.38.27   \n",
       "1                                                                                                                                                                                                                                                                                                                                                                                                                                                                                                                                    D'aww! He matches this background colour I'm seemingly stuck with. Thanks.  (talk) 21:51, January 11, 2016 (UTC)   \n",
       "2                                                                                                                                                                                                                                                                                                                                                                                                           Hey man, I'm really not trying to edit war. It's just that this guy is constantly removing relevant information and talking to me through edits instead of my talk page. He seems to care more about the formatting than the actual info.   \n",
       "3  \"\\nMore\\nI can't make any real suggestions on improvement - I wondered if the section statistics should be later on, or a subsection of \"\"types of accidents\"\"  -I think the references may need tidying so that they are all in the exact same format ie date format etc. I can do that later on, if no-one else does first - if you have any preferences for formatting style on references or want to do it yourself please let me know.\\n\\nThere appears to be a backlog on articles for review so I guess there may be a delay until a reviewer turns up. It's listed in the relevant form eg Wikipedia:Good_article_nominations#Transport  \"   \n",
       "4                                                                                                                                                                                                                                                                                                                                                                                                                                                                                                                                                                                 You, sir, are my hero. Any chance you remember what page that's on?   \n",
       "5                                                                                                                                                                                                                                                                                                                                                                                                                                                                                                                                                                                 \"\\n\\nCongratulations from me as well, use the tools well.  · talk \"   \n",
       "6                                                                                                                                                                                                                                                                                                                                                                                                                                                                                                                                                                                                        COCKSUCKER BEFORE YOU PISS AROUND ON MY WORK   \n",
       "7                                                                                                                                                                                                                                                                                                                                                                                                                                                                                                                                 Your vandalism to the Matt Shirvington article has been reverted.  Please don't do it again, or you will be banned.   \n",
       "8                                                                                                                                                            Sorry if the word 'nonsense' was offensive to you. Anyway, I'm not intending to write anything in the article(wow they would jump on me for vandalism), I'm merely requesting that it be more encyclopedic so one can use it for school as a reference. I have been to the selective breeding page but it's almost a stub. It points to 'animal breeding' which is a short messy article that gives you no info. There must be someone around with expertise in eugenics? 93.161.107.169   \n",
       "9                                                                                                                                                                                                                                                                                                                                                                                                                                                                                                                                                                              alignment on this subject and which are contrary to those of DuLithgow   \n",
       "\n",
       "   toxic  \n",
       "0      0  \n",
       "1      0  \n",
       "2      0  \n",
       "3      0  \n",
       "4      0  \n",
       "5      0  \n",
       "6      1  \n",
       "7      0  \n",
       "8      0  \n",
       "9      0  "
      ]
     },
     "metadata": {},
     "output_type": "display_data"
    },
    {
     "name": "stdout",
     "output_type": "stream",
     "text": [
      "Общая информация:\n",
      "<class 'pandas.core.frame.DataFrame'>\n",
      "RangeIndex: 159571 entries, 0 to 159570\n",
      "Data columns (total 2 columns):\n",
      " #   Column  Non-Null Count   Dtype \n",
      "---  ------  --------------   ----- \n",
      " 0   text    159571 non-null  object\n",
      " 1   toxic   159571 non-null  int64 \n",
      "dtypes: int64(1), object(1)\n",
      "memory usage: 2.4+ MB\n"
     ]
    },
    {
     "data": {
      "text/plain": [
       "None"
      ]
     },
     "metadata": {},
     "output_type": "display_data"
    },
    {
     "name": "stdout",
     "output_type": "stream",
     "text": [
      "Общая статистика:\n"
     ]
    },
    {
     "data": {
      "text/html": [
       "<div>\n",
       "<style scoped>\n",
       "    .dataframe tbody tr th:only-of-type {\n",
       "        vertical-align: middle;\n",
       "    }\n",
       "\n",
       "    .dataframe tbody tr th {\n",
       "        vertical-align: top;\n",
       "    }\n",
       "\n",
       "    .dataframe thead th {\n",
       "        text-align: right;\n",
       "    }\n",
       "</style>\n",
       "<table border=\"1\" class=\"dataframe\">\n",
       "  <thead>\n",
       "    <tr style=\"text-align: right;\">\n",
       "      <th></th>\n",
       "      <th>toxic</th>\n",
       "    </tr>\n",
       "  </thead>\n",
       "  <tbody>\n",
       "    <tr>\n",
       "      <th>count</th>\n",
       "      <td>159571.000000</td>\n",
       "    </tr>\n",
       "    <tr>\n",
       "      <th>mean</th>\n",
       "      <td>0.101679</td>\n",
       "    </tr>\n",
       "    <tr>\n",
       "      <th>std</th>\n",
       "      <td>0.302226</td>\n",
       "    </tr>\n",
       "    <tr>\n",
       "      <th>min</th>\n",
       "      <td>0.000000</td>\n",
       "    </tr>\n",
       "    <tr>\n",
       "      <th>25%</th>\n",
       "      <td>0.000000</td>\n",
       "    </tr>\n",
       "    <tr>\n",
       "      <th>50%</th>\n",
       "      <td>0.000000</td>\n",
       "    </tr>\n",
       "    <tr>\n",
       "      <th>75%</th>\n",
       "      <td>0.000000</td>\n",
       "    </tr>\n",
       "    <tr>\n",
       "      <th>max</th>\n",
       "      <td>1.000000</td>\n",
       "    </tr>\n",
       "  </tbody>\n",
       "</table>\n",
       "</div>"
      ],
      "text/plain": [
       "               toxic\n",
       "count  159571.000000\n",
       "mean        0.101679\n",
       "std         0.302226\n",
       "min         0.000000\n",
       "25%         0.000000\n",
       "50%         0.000000\n",
       "75%         0.000000\n",
       "max         1.000000"
      ]
     },
     "metadata": {},
     "output_type": "display_data"
    },
    {
     "name": "stdout",
     "output_type": "stream",
     "text": [
      "Дубликаты:\n"
     ]
    },
    {
     "data": {
      "text/plain": [
       "0"
      ]
     },
     "metadata": {},
     "output_type": "display_data"
    },
    {
     "data": {
      "text/html": [
       "<div>\n",
       "<style scoped>\n",
       "    .dataframe tbody tr th:only-of-type {\n",
       "        vertical-align: middle;\n",
       "    }\n",
       "\n",
       "    .dataframe tbody tr th {\n",
       "        vertical-align: top;\n",
       "    }\n",
       "\n",
       "    .dataframe thead th {\n",
       "        text-align: right;\n",
       "    }\n",
       "</style>\n",
       "<table border=\"1\" class=\"dataframe\">\n",
       "  <thead>\n",
       "    <tr style=\"text-align: right;\">\n",
       "      <th></th>\n",
       "      <th>text</th>\n",
       "      <th>toxic</th>\n",
       "    </tr>\n",
       "  </thead>\n",
       "  <tbody>\n",
       "  </tbody>\n",
       "</table>\n",
       "</div>"
      ],
      "text/plain": [
       "Empty DataFrame\n",
       "Columns: [text, toxic]\n",
       "Index: []"
      ]
     },
     "metadata": {},
     "output_type": "display_data"
    }
   ],
   "source": [
    "data_info(toxic_comments)"
   ]
  },
  {
   "cell_type": "markdown",
   "metadata": {},
   "source": [
    "***Выводы:*** <br>\n",
    "\n",
    "- *Размер выборки 159571 строка*\n",
    "- *Пропуски Отсутствуют*\n",
    "- *Дубликаты Отсутствуют*\n",
    "- *Присутствуют символы переноса строки и знаки препинания, т.е. текст нуждается в очистке*\n",
    "- *Некоторые фразы написаны CAPSLOCK'ом*"
   ]
  },
  {
   "cell_type": "markdown",
   "metadata": {},
   "source": [
    "<div class=\"alert alert-success\">\n",
    "<b>✔️ Комментарий ревьювера:</b> Здорово, провел анализ данных. \n",
    "    \n",
    "Видно, что есть дисбаланс классов, это нужно будет учитывать в моделях.\n",
    "\n",
    "</div>"
   ]
  },
  {
   "cell_type": "markdown",
   "metadata": {},
   "source": [
    "###  Предобработка"
   ]
  },
  {
   "cell_type": "code",
   "execution_count": 5,
   "metadata": {},
   "outputs": [],
   "source": [
    "def clearing_text(df,column_features):\n",
    "    \n",
    "    '''\n",
    "    Функция проводит очистку анализируемого текста и создает корпус\n",
    "    '''\n",
    "    \n",
    "    text_corp = df[column_features]\n",
    "    text_corp = text_corp.apply(lambda x: \" \".join((re.sub(r'[^a-zA-Z ]', ' ', x)).split()))\n",
    "    \n",
    "    return text_corp\n",
    "\n",
    "\n",
    "\n",
    "def lemmatize(text):\n",
    "    \n",
    "    '''\n",
    "    Функция проводит лемматизацию текста\n",
    "    '''\n",
    "    \n",
    "    lemmatizer = WordNetLemmatizer()\n",
    "    word_lem = corpus.apply(lambda x: [lemmatizer.lemmatize(w,'n') for w in nltk.word_tokenize(x)])\n",
    "    lemmatized = word_lem.apply(lambda text:' '.join(text))\n",
    "    \n",
    "    return lemmatized\n",
    "\n",
    "\n",
    "\n",
    "def lower_case(text):\n",
    "    \n",
    "    '''\n",
    "    Функция приводит текст к нижнему регистру\n",
    "    '''\n",
    "    \n",
    "    text_lower = text.map(lambda x: x if type(x)!=str else x.lower())\n",
    "    \n",
    "    return text_lower"
   ]
  },
  {
   "cell_type": "markdown",
   "metadata": {},
   "source": [
    "<div class=\"alert alert-success\">\n",
    "<b>✔️ Комментарий ревьювера:</b> Лемматизация и очистка текста выполнены верно, код оформлен аккуратно =)\n",
    "\n",
    "</div>"
   ]
  },
  {
   "cell_type": "markdown",
   "metadata": {},
   "source": [
    "<div class=\"alert alert-success\">\n",
    "<b>✔️ Комментарий ревьювера:</b> На будущее, если будет интересно более углубленное изучение анализа текстов, можешь попробовать другие способы лемматизации. \n",
    "    \n",
    "1. Лемматизация с помощью Spacy. Но если делать на всем датасете, может занять 0,5-1 час, в зависимости от возможностей компьютера.\n",
    "https://spacy.io/ или https://webdevblog.ru/podhody-lemmatizacii-s-primerami-v-python/\n",
    "\n",
    "2. Использовать POS-теги, это сделает лемматизацию точнее:\n",
    "https://webdevblog.ru/podhody-lemmatizacii-s-primerami-v-python/\n",
    "    \n",
    "Это занимает больше времени, поэтому можешь проверить локально, на небольшой выборке. Также используют метод pos_tag_sents(), когда перебор идет не по словам, а по предложениям — это немного быстрее.\n",
    "</div>"
   ]
  },
  {
   "cell_type": "code",
   "execution_count": 6,
   "metadata": {},
   "outputs": [],
   "source": [
    "corpus = clearing_text(toxic_comments,'text')\n",
    "corpus = lemmatize(corpus)\n",
    "corpus = lower_case(corpus)"
   ]
  },
  {
   "cell_type": "code",
   "execution_count": 7,
   "metadata": {},
   "outputs": [
    {
     "data": {
      "text/plain": [
       "0                                                                                                                                                                                                                                                                                                                                                           explanation why the edits made under my username hardcore metallica fan were reverted they weren t vandalism just closure on some gas after i voted at new york dolls fac and please don t remove the template from the talk page since i m retired now\n",
       "1                                                                                                                                                                                                                                                                                                                                                                                                                                                                                                                            d aww he match this background colour i m seemingly stuck with thanks talk january utc\n",
       "2                                                                                                                                                                                                                                                                                                                                                                             hey man i m really not trying to edit war it s just that this guy is constantly removing relevant information and talking to me through edits instead of my talk page he seems to care more about the formatting than the actual info\n",
       "3    more i can t make any real suggestion on improvement i wondered if the section statistic should be later on or a subsection of type of accident i think the reference may need tidying so that they are all in the exact same format ie date format etc i can do that later on if no one else doe first if you have any preference for formatting style on reference or want to do it yourself please let me know there appears to be a backlog on article for review so i guess there may be a delay until a reviewer turn up it s listed in the relevant form eg wikipedia good article nomination transport\n",
       "4                                                                                                                                                                                                                                                                                                                                                                                                                                                                                                                                                   you sir are my hero any chance you remember what page that s on\n",
       "5                                                                                                                                                                                                                                                                                                                                                                                                                                                                                                                                                             congratulations from me a well use the tool well talk\n",
       "6                                                                                                                                                                                                                                                                                                                                                                                                                                                                                                                                                                      cocksucker before you piss around on my work\n",
       "7                                                                                                                                                                                                                                                                                                                                                                                                                                                                                                    your vandalism to the matt shirvington article ha been reverted please don t do it again or you will be banned\n",
       "8                                                                                                                                                         sorry if the word nonsense wa offensive to you anyway i m not intending to write anything in the article wow they would jump on me for vandalism i m merely requesting that it be more encyclopedic so one can use it for school a a reference i have been to the selective breeding page but it s almost a stub it point to animal breeding which is a short messy article that give you no info there must be someone around with expertise in eugenics\n",
       "9                                                                                                                                                                                                                                                                                                                                                                                                                                                                                                                                            alignment on this subject and which are contrary to those of dulithgow\n",
       "Name: text, dtype: object"
      ]
     },
     "execution_count": 7,
     "metadata": {},
     "output_type": "execute_result"
    }
   ],
   "source": [
    "corpus.head(10)"
   ]
  },
  {
   "cell_type": "markdown",
   "metadata": {},
   "source": [
    "***Вывод:*** <br>\n",
    "\n",
    "- *Текст комментриев был очищен он переносов и знаков препинания*\n",
    "- *Была проведена лемматизация текста*\n",
    "- *Весь текст был переведён в нижний регистр*"
   ]
  },
  {
   "cell_type": "code",
   "execution_count": 8,
   "metadata": {},
   "outputs": [],
   "source": [
    "def split_sample(text, target):\n",
    "    \n",
    "    '''\n",
    "    Функция делит данные на обучающую и тестовую выборки\n",
    "    '''\n",
    "    \n",
    "    features_train, features_test, target_train, target_test = train_test_split(text, target, train_size=0.80,random_state=12345)\n",
    "    \n",
    "    return (features_train, features_test, target_train, target_test)"
   ]
  },
  {
   "cell_type": "markdown",
   "metadata": {},
   "source": [
    "<div class=\"alert alert-success\">\n",
    "<b>✔️ Комментарий ревьювера:</b> Можно добавить параметр stratify = target, это обеспечит баланс классов в выборках.\n",
    "</div>"
   ]
  },
  {
   "cell_type": "code",
   "execution_count": 9,
   "metadata": {},
   "outputs": [
    {
     "name": "stdout",
     "output_type": "stream",
     "text": [
      "Размер обучающей выборки: (127656,) (127656,)\n",
      "Размер тестовой выборки: (31915,) (31915,)\n"
     ]
    }
   ],
   "source": [
    "toxic = toxic_comments['toxic']\n",
    "\n",
    "features_train, features_test, target_train, target_test = split_sample(corpus, toxic)\n",
    "\n",
    "print('Размер обучающей выборки:',features_train.shape, target_train.shape)\n",
    "print('Размер тестовой выборки:',features_test.shape, target_test.shape)"
   ]
  },
  {
   "cell_type": "code",
   "execution_count": 10,
   "metadata": {},
   "outputs": [],
   "source": [
    "def vectorization(train_text, test_text, vectorizer):\n",
    "    \n",
    "    '''\n",
    "    Функция проводит векторизацию текста\n",
    "    '''\n",
    "    \n",
    "    counter = vectorizer(stop_words=stopwords)\n",
    "    vectorized_train = counter.fit_transform(train_text)\n",
    "    vectoruzed_test = counter.transform(test_text)\n",
    "    \n",
    "    \n",
    "    return vectorized_train, vectoruzed_test"
   ]
  },
  {
   "cell_type": "code",
   "execution_count": 11,
   "metadata": {},
   "outputs": [],
   "source": [
    "tf_idf_train,tf_idf_test = vectorization(features_train,features_test,TfidfVectorizer)"
   ]
  },
  {
   "cell_type": "code",
   "execution_count": 12,
   "metadata": {},
   "outputs": [
    {
     "name": "stdout",
     "output_type": "stream",
     "text": [
      "Размер матрицы TF-IDF для обучающей выборки: (127656, 144110)\n",
      "Размер матрицы TF-IDF для тестовой выборки: (31915, 144110)\n"
     ]
    }
   ],
   "source": [
    "print('Размер матрицы TF-IDF для обучающей выборки:',tf_idf_train.shape)\n",
    "print('Размер матрицы TF-IDF для тестовой выборки:',tf_idf_test.shape)"
   ]
  },
  {
   "cell_type": "markdown",
   "metadata": {},
   "source": [
    "***Вывод:*** <br>\n",
    "\n",
    "- *корпус текстов разделён на обучающую и тестовую выборки*\n",
    "- *была проведена векторизация текстов каждой из выделенных выборок*"
   ]
  },
  {
   "cell_type": "markdown",
   "metadata": {},
   "source": [
    "## Обучение"
   ]
  },
  {
   "cell_type": "markdown",
   "metadata": {},
   "source": [
    "<div class=\"alert alert-success\">\n",
    "<b>✔️ Комментарий ревьювера:</b> Можешь также попробовть Pipeline + GridSearch. Использование Pipeline позволяет избежатки утечки данных при кросс-валидации.\n",
    "    \n",
    "https://medium.com/analytics-vidhya/ml-pipelines-using-scikit-learn-and-gridsearchcv-fe605a7f9e05\n",
    "    \n",
    "https://habr.com/ru/post/538458/\n",
    "    \n",
    "Pipeline + GridSearchCV: https://towardsdatascience.com/nlp-with-pipeline-gridsearch-5922266e82f4\n",
    "    \n",
    "Таким образом в GridSearchCV можно добавить пайплайн — но это не обязательно для выполнения данной работы.\n",
    "</div>"
   ]
  },
  {
   "cell_type": "code",
   "execution_count": 13,
   "metadata": {},
   "outputs": [],
   "source": [
    "def grid_search_params (model,params,features,target):\n",
    "    \n",
    "    '''\n",
    "    Принимает на вход название обучаемой модели, набор её параметров, обучающую и тестовую выборки\n",
    "    Возвращает наилучшие параметры модели при которых целевая метрика f1 (среднее гармоническое полноты и точности) максимальна\n",
    "    '''\n",
    "    \n",
    "    model_grid = GridSearchCV(model,params,cv=3, n_jobs=-1,scoring='f1', verbose=2)\n",
    "    model_grid.fit(features,target)\n",
    "    best_params = model_grid.best_params_\n",
    "    best_score = model_grid.best_score_\n",
    "    \n",
    "    return model_grid,best_params,best_score"
   ]
  },
  {
   "cell_type": "code",
   "execution_count": 14,
   "metadata": {},
   "outputs": [],
   "source": [
    "models_scores_list = {}"
   ]
  },
  {
   "cell_type": "markdown",
   "metadata": {},
   "source": [
    "### LogisticRegression"
   ]
  },
  {
   "cell_type": "markdown",
   "metadata": {},
   "source": [
    "<div class=\"alert alert-success\">\n",
    "<b>✔️ Комментарий ревьювера:</b> Здорово, что делаешь перебор параметров в моделях. Для логистической регрессии можно поварьировать константу регуляризации \"C\", она хорошо влияет на метрику.\n",
    "</div>"
   ]
  },
  {
   "cell_type": "code",
   "execution_count": 15,
   "metadata": {},
   "outputs": [],
   "source": [
    "params_lr = {\"max_iter\":range(63,67,1)}\n",
    "model_lr = LogisticRegression(random_state = 12345,class_weight='balanced',n_jobs = -1, max_iter=250)"
   ]
  },
  {
   "cell_type": "code",
   "execution_count": 16,
   "metadata": {},
   "outputs": [
    {
     "name": "stdout",
     "output_type": "stream",
     "text": [
      "Fitting 3 folds for each of 4 candidates, totalling 12 fits\n"
     ]
    },
    {
     "data": {
      "text/html": [
       "<font color='green'>f1 LogisticRegression: 0.747</font>"
      ],
      "text/plain": [
       "<IPython.core.display.HTML object>"
      ]
     },
     "metadata": {},
     "output_type": "display_data"
    },
    {
     "name": "stdout",
     "output_type": "stream",
     "text": [
      "CPU times: total: 453 ms\n",
      "Wall time: 27.2 s\n"
     ]
    },
    {
     "data": {
      "text/plain": [
       "{'max_iter': 65}"
      ]
     },
     "execution_count": 16,
     "metadata": {},
     "output_type": "execute_result"
    }
   ],
   "source": [
    "%%time\n",
    "model_grid_lr,best_params_lr,best_score_lr = grid_search_params(model_lr,params_lr,\n",
    "                                                                         tf_idf_train,target_train)\n",
    "\n",
    "display(HTML(f\"<font color='green'>f1 LogisticRegression: {best_score_lr:.3f}</font>\"))\n",
    "best_params_lr"
   ]
  },
  {
   "cell_type": "code",
   "execution_count": 17,
   "metadata": {},
   "outputs": [],
   "source": [
    "models_scores_list['LogisticRegression'] = [best_params_lr,best_score_lr]"
   ]
  },
  {
   "cell_type": "markdown",
   "metadata": {},
   "source": [
    "### RandomForestClassifier"
   ]
  },
  {
   "cell_type": "code",
   "execution_count": 18,
   "metadata": {},
   "outputs": [],
   "source": [
    "params_forest = {'max_depth': range(398,401,1),'n_estimators': range(8,10,1)}\n",
    "model_forest = RandomForestClassifier(random_state = 12345,class_weight='balanced',n_jobs = -1)"
   ]
  },
  {
   "cell_type": "code",
   "execution_count": 19,
   "metadata": {},
   "outputs": [
    {
     "name": "stdout",
     "output_type": "stream",
     "text": [
      "Fitting 3 folds for each of 6 candidates, totalling 18 fits\n"
     ]
    },
    {
     "data": {
      "text/html": [
       "<font color='blue'>f1 RandomForestClassifier: 0.628</font>"
      ],
      "text/plain": [
       "<IPython.core.display.HTML object>"
      ]
     },
     "metadata": {},
     "output_type": "display_data"
    },
    {
     "name": "stdout",
     "output_type": "stream",
     "text": [
      "CPU times: total: 3min 5s\n",
      "Wall time: 6min 37s\n"
     ]
    },
    {
     "data": {
      "text/plain": [
       "{'max_depth': 399, 'n_estimators': 9}"
      ]
     },
     "execution_count": 19,
     "metadata": {},
     "output_type": "execute_result"
    }
   ],
   "source": [
    "%%time\n",
    "model_grid_forest,best_params_forest,best_score_forest = grid_search_params(model_forest,params_forest,\n",
    "                                                                         tf_idf_train,target_train)\n",
    "\n",
    "display(HTML(f\"<font color='blue'>f1 RandomForestClassifier: {best_score_forest:.3f}</font>\"))\n",
    "best_params_forest"
   ]
  },
  {
   "cell_type": "code",
   "execution_count": 20,
   "metadata": {},
   "outputs": [],
   "source": [
    "models_scores_list['RandomForest'] = [best_params_forest,best_score_forest]"
   ]
  },
  {
   "cell_type": "markdown",
   "metadata": {},
   "source": [
    "### LGBMClassifier"
   ]
  },
  {
   "cell_type": "code",
   "execution_count": 21,
   "metadata": {},
   "outputs": [],
   "source": [
    "params_lgbm = {\n",
    "    'objective': ['binary'],\n",
    "    'max_depth': range(6,8,1),\n",
    "    'learning_rate':np.arange(0.021,0.023,0.001),\n",
    "    'boosting_type': ['gbdt'],\n",
    "    'metric': ['f1'],\n",
    "    'verbosity': [-10],\n",
    "    'random_state': [12345],\n",
    "    'n_estimators': range(400,501,50),    \n",
    "    }\n",
    "\n",
    "model_lgbm = LGBMClassifier(random_state = 12345,class_weight='balanced',n_jobs = -1)"
   ]
  },
  {
   "cell_type": "code",
   "execution_count": 22,
   "metadata": {},
   "outputs": [
    {
     "name": "stdout",
     "output_type": "stream",
     "text": [
      "Fitting 3 folds for each of 12 candidates, totalling 36 fits\n"
     ]
    },
    {
     "data": {
      "text/html": [
       "<font color='red'>f1 LGBMClassifier:0.714</font>"
      ],
      "text/plain": [
       "<IPython.core.display.HTML object>"
      ]
     },
     "metadata": {},
     "output_type": "display_data"
    },
    {
     "name": "stdout",
     "output_type": "stream",
     "text": [
      "CPU times: total: 7min 44s\n",
      "Wall time: 16min 45s\n"
     ]
    },
    {
     "data": {
      "text/plain": [
       "{'boosting_type': 'gbdt',\n",
       " 'learning_rate': 0.022000000000000002,\n",
       " 'max_depth': 7,\n",
       " 'metric': 'f1',\n",
       " 'n_estimators': 500,\n",
       " 'objective': 'binary',\n",
       " 'random_state': 12345,\n",
       " 'verbosity': -10}"
      ]
     },
     "execution_count": 22,
     "metadata": {},
     "output_type": "execute_result"
    }
   ],
   "source": [
    "%%time\n",
    "model_grid_lgbm,best_params_lgbm,best_score_lgbm = grid_search_params(model_lgbm,params_lgbm,\n",
    "                                                                   tf_idf_train,target_train)\n",
    "\n",
    "display(HTML(f\"<font color='red'>f1 LGBMClassifier:{best_score_lgbm:.3f}</font>\"))\n",
    "best_params_lgbm"
   ]
  },
  {
   "cell_type": "code",
   "execution_count": 23,
   "metadata": {},
   "outputs": [],
   "source": [
    "models_scores_list['LGBMClassifier'] = [best_params_lgbm,best_score_lgbm]"
   ]
  },
  {
   "cell_type": "markdown",
   "metadata": {},
   "source": [
    "***Вывод:***<br>\n",
    "\n",
    "*Ни она модель не прошла минимальный установленный порог метрики f1*<br>\n",
    "*Попробуем в лучшую по метрике `f1` модель LogisticRegression передать новую матрицу векторизованных методом `CountVectorizer` признаков*"
   ]
  },
  {
   "cell_type": "code",
   "execution_count": 24,
   "metadata": {},
   "outputs": [
    {
     "name": "stdout",
     "output_type": "stream",
     "text": [
      "Размер матрицы векторизованных признаков для обучающей выборки: (127656, 144110)\n",
      "Размер матрицы векторизованных признаков для тестовой выборки: (31915, 144110)\n"
     ]
    }
   ],
   "source": [
    "vectorized_train,vectorized_test = vectorization(features_train,features_test,CountVectorizer)\n",
    "\n",
    "print('Размер матрицы векторизованных признаков для обучающей выборки:',vectorized_train.shape)\n",
    "print('Размер матрицы векторизованных признаков для тестовой выборки:',vectorized_test.shape)"
   ]
  },
  {
   "cell_type": "markdown",
   "metadata": {},
   "source": [
    "### LogisticRegression - CountVectorizer"
   ]
  },
  {
   "cell_type": "code",
   "execution_count": 25,
   "metadata": {},
   "outputs": [],
   "source": [
    "params_lr_CV = {\"max_iter\":range(68,72,1)}\n",
    "model_lr_CV = LogisticRegression(random_state = 12345,class_weight='balanced',n_jobs = -1, max_iter=250)"
   ]
  },
  {
   "cell_type": "code",
   "execution_count": 26,
   "metadata": {},
   "outputs": [
    {
     "name": "stdout",
     "output_type": "stream",
     "text": [
      "Fitting 3 folds for each of 4 candidates, totalling 12 fits\n"
     ]
    },
    {
     "data": {
      "text/html": [
       "<font color='green'>f1 LogisticRegression: 0.752</font>"
      ],
      "text/plain": [
       "<IPython.core.display.HTML object>"
      ]
     },
     "metadata": {},
     "output_type": "display_data"
    },
    {
     "name": "stdout",
     "output_type": "stream",
     "text": [
      "CPU times: total: 453 ms\n",
      "Wall time: 21.5 s\n"
     ]
    },
    {
     "data": {
      "text/plain": [
       "{'max_iter': 70}"
      ]
     },
     "execution_count": 26,
     "metadata": {},
     "output_type": "execute_result"
    }
   ],
   "source": [
    "%%time\n",
    "model_grid_lr_CV,best_params_lr_CV,best_score_lr_CV = grid_search_params(model_lr_CV,\n",
    "                            params_lr_CV,vectorized_train,target_train)\n",
    "\n",
    "display(HTML(f\"<font color='green'>f1 LogisticRegression: {best_score_lr_CV:.3f}</font>\"))\n",
    "best_params_lr_CV"
   ]
  },
  {
   "cell_type": "code",
   "execution_count": 27,
   "metadata": {},
   "outputs": [],
   "source": [
    "models_scores_list['LogisticRegression - CountVectorizer'] = [best_params_lr_CV,best_score_lr_CV]"
   ]
  },
  {
   "cell_type": "code",
   "execution_count": 28,
   "metadata": {},
   "outputs": [
    {
     "data": {
      "text/html": [
       "<div>\n",
       "<style scoped>\n",
       "    .dataframe tbody tr th:only-of-type {\n",
       "        vertical-align: middle;\n",
       "    }\n",
       "\n",
       "    .dataframe tbody tr th {\n",
       "        vertical-align: top;\n",
       "    }\n",
       "\n",
       "    .dataframe thead th {\n",
       "        text-align: right;\n",
       "    }\n",
       "</style>\n",
       "<table border=\"1\" class=\"dataframe\">\n",
       "  <thead>\n",
       "    <tr style=\"text-align: right;\">\n",
       "      <th></th>\n",
       "      <th>LogisticRegression</th>\n",
       "      <th>RandomForest</th>\n",
       "      <th>LGBMClassifier</th>\n",
       "      <th>LogisticRegression - CountVectorizer</th>\n",
       "    </tr>\n",
       "  </thead>\n",
       "  <tbody>\n",
       "    <tr>\n",
       "      <th>params</th>\n",
       "      <td>{'max_iter': 65}</td>\n",
       "      <td>{'max_depth': 399, 'n_estimators': 9}</td>\n",
       "      <td>{'boosting_type': 'gbdt', 'learning_rate': 0.022000000000000002, 'max_depth': 7, 'metric': 'f1', 'n_estimators': 500, 'objective': 'binary', 'random_state': 12345, 'verbosity': -10}</td>\n",
       "      <td>{'max_iter': 70}</td>\n",
       "    </tr>\n",
       "    <tr>\n",
       "      <th>f1-score</th>\n",
       "      <td>0.746793</td>\n",
       "      <td>0.627933</td>\n",
       "      <td>0.713566</td>\n",
       "      <td>0.752134</td>\n",
       "    </tr>\n",
       "  </tbody>\n",
       "</table>\n",
       "</div>"
      ],
      "text/plain": [
       "         LogisticRegression                           RandomForest  \\\n",
       "params     {'max_iter': 65}  {'max_depth': 399, 'n_estimators': 9}   \n",
       "f1-score           0.746793                               0.627933   \n",
       "\n",
       "                                                                                                                                                                                 LGBMClassifier  \\\n",
       "params    {'boosting_type': 'gbdt', 'learning_rate': 0.022000000000000002, 'max_depth': 7, 'metric': 'f1', 'n_estimators': 500, 'objective': 'binary', 'random_state': 12345, 'verbosity': -10}   \n",
       "f1-score                                                                                                                                                                               0.713566   \n",
       "\n",
       "         LogisticRegression - CountVectorizer  \n",
       "params                       {'max_iter': 70}  \n",
       "f1-score                             0.752134  "
      ]
     },
     "execution_count": 28,
     "metadata": {},
     "output_type": "execute_result"
    }
   ],
   "source": [
    "models_scores = pd.DataFrame(models_scores_list,index=['params', 'f1-score'])\n",
    "models_scores"
   ]
  },
  {
   "cell_type": "markdown",
   "metadata": {},
   "source": [
    "### Вывод"
   ]
  },
  {
   "cell_type": "markdown",
   "metadata": {},
   "source": [
    "***С поставленной задачей минимальной метрики f1 > 0.75 смогла справиться лишь модель LogisticRegression с методом векторизации CountVectorizer***"
   ]
  },
  {
   "cell_type": "markdown",
   "metadata": {},
   "source": [
    "### Проверка моделей на тестовой выборке"
   ]
  },
  {
   "cell_type": "code",
   "execution_count": 29,
   "metadata": {
    "scrolled": true
   },
   "outputs": [
    {
     "data": {
      "text/html": [
       "<font color='blue'>f1_score лучшей модели LinearRegression с векторизацией CountVectorizer:0.756</font>"
      ],
      "text/plain": [
       "<IPython.core.display.HTML object>"
      ]
     },
     "metadata": {},
     "output_type": "display_data"
    }
   ],
   "source": [
    "#Обучим модель заново уже без GridSearch на ранее полученных, лучших параметрах.\n",
    "\n",
    "model_log_best = LogisticRegression(random_state = 12345,class_weight='balanced',n_jobs = -1, max_iter=250)\n",
    "model_log_best.fit(vectorized_train,target_train)\n",
    "\n",
    "#получим предсказания модели для тестовой выборки, чтобы сравнить имеющимся вектором целевого признака.\n",
    "predicted = model_log_best.predict(vectorized_test)\n",
    "\n",
    "#Вычислим f1 меру для полученных предсказаний.\n",
    "score_best = f1_score(target_test,predicted)\n",
    "display(HTML(f\"<font color='blue'>f1_score лучшей модели LinearRegression с векторизацией CountVectorizer:\\\n",
    "{score_best:.3f}</font>\"))"
   ]
  },
  {
   "cell_type": "markdown",
   "metadata": {},
   "source": [
    "<div class=\"alert alert-success\">\n",
    "<b>✔️ Комментарий ревьювера:</b> Поздравляю, необходимый порог по значению F-меры пройден!\n",
    "</div>"
   ]
  },
  {
   "cell_type": "markdown",
   "metadata": {},
   "source": [
    "## Выводы"
   ]
  },
  {
   "cell_type": "markdown",
   "metadata": {},
   "source": [
    "***Среди исследованных моделей лучшей и удовлетворяющей условию задачи по минимальному порогу `f1`меры (среднего гармонического полноты-`recall`и точности-`precision`) стала модель логистической регрессии, обученная на выборке признаков, полученных векторизатором CountVectorizer.*** <br>\n",
    "***При проверке на тестовой выборке модель показала `f1`= 0.756***"
   ]
  },
  {
   "cell_type": "markdown",
   "metadata": {},
   "source": [
    "<font color=blue>\n",
    "<b> ✔️ 👍Заключение ревьювера:</b> Михаил, было приятно проверять твою работу, она выполнена на хорошем уровне! \n",
    "   \n",
    "Код структурирован, здорово, что попробовал разные модели для обучения и сделал перебор параметров.\n",
    "    \n",
    "Особых замечаний по работе нет, я отметил только рекомендации.\n",
    "    \n",
    "Отправляю работу для ознакомления с ходом проверки, а также если есть вопросы — смело задавай их, я постараюсь тебе помочь 😊\n",
    "\n",
    "Жду твоего ответа!\n",
    " </font>"
   ]
  },
  {
   "cell_type": "markdown",
   "metadata": {},
   "source": [
    "## Чек-лист проверки"
   ]
  },
  {
   "cell_type": "markdown",
   "metadata": {},
   "source": [
    "- [x]  Jupyter Notebook открыт\n",
    "- [x]  Весь код выполняется без ошибок\n",
    "- [x]  Ячейки с кодом расположены в порядке исполнения\n",
    "- [x]  Данные загружены и подготовлены\n",
    "- [x]  Модели обучены\n",
    "- [x]  Значение метрики *F1* не меньше 0.75\n",
    "- [x]  Выводы написаны"
   ]
  }
 ],
 "metadata": {
  "ExecuteTimeLog": [
   {
    "duration": 95,
    "start_time": "2022-06-23T14:37:09.444Z"
   }
  ],
  "kernelspec": {
   "display_name": "Python 3 (ipykernel)",
   "language": "python",
   "name": "python3"
  },
  "language_info": {
   "codemirror_mode": {
    "name": "ipython",
    "version": 3
   },
   "file_extension": ".py",
   "mimetype": "text/x-python",
   "name": "python",
   "nbconvert_exporter": "python",
   "pygments_lexer": "ipython3",
   "version": "3.9.5"
  },
  "toc": {
   "base_numbering": 1,
   "nav_menu": {},
   "number_sections": true,
   "sideBar": true,
   "skip_h1_title": true,
   "title_cell": "Содержание",
   "title_sidebar": "Contents",
   "toc_cell": true,
   "toc_position": {
    "height": "calc(100% - 180px)",
    "left": "10px",
    "top": "150px",
    "width": "215px"
   },
   "toc_section_display": true,
   "toc_window_display": true
  }
 },
 "nbformat": 4,
 "nbformat_minor": 2
}
